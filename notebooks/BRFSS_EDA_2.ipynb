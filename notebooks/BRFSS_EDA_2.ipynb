{
 "cells": [
  {
   "cell_type": "markdown",
   "metadata": {},
   "source": [
    "# * BRFSS Survey Data Analysis for the Year 2021-2022"
   ]
  },
  {
   "cell_type": "code",
   "execution_count": 1,
   "metadata": {},
   "outputs": [],
   "source": [
    "import pandas as pd \n",
    "import numpy as np\n",
    "import seaborn as sns\n",
    "import matplotlib.pyplot as plt"
   ]
  },
  {
   "cell_type": "markdown",
   "metadata": {},
   "source": [
    "## - Load Data"
   ]
  },
  {
   "cell_type": "code",
   "execution_count": 2,
   "metadata": {},
   "outputs": [],
   "source": [
    "df_BRFSS = pd.read_csv(\"../Data/BRFSS_preprocessed.csv\")"
   ]
  },
  {
   "cell_type": "code",
   "execution_count": 3,
   "metadata": {},
   "outputs": [
    {
     "data": {
      "text/html": [
       "<div>\n",
       "<style scoped>\n",
       "    .dataframe tbody tr th:only-of-type {\n",
       "        vertical-align: middle;\n",
       "    }\n",
       "\n",
       "    .dataframe tbody tr th {\n",
       "        vertical-align: top;\n",
       "    }\n",
       "\n",
       "    .dataframe thead th {\n",
       "        text-align: right;\n",
       "    }\n",
       "</style>\n",
       "<table border=\"1\" class=\"dataframe\">\n",
       "  <thead>\n",
       "    <tr style=\"text-align: right;\">\n",
       "      <th></th>\n",
       "      <th>Unnamed: 0</th>\n",
       "      <th>x.state</th>\n",
       "      <th>fmonth</th>\n",
       "      <th>idate</th>\n",
       "      <th>imonth</th>\n",
       "      <th>iday</th>\n",
       "      <th>iyear</th>\n",
       "      <th>dispcode</th>\n",
       "      <th>seqno</th>\n",
       "      <th>x.psu</th>\n",
       "      <th>...</th>\n",
       "      <th>x.frtres1</th>\n",
       "      <th>x.vegres1</th>\n",
       "      <th>x.frutsu1</th>\n",
       "      <th>x.vegesu1</th>\n",
       "      <th>x.frtlt1a</th>\n",
       "      <th>x.veglt1a</th>\n",
       "      <th>x.frt16a</th>\n",
       "      <th>x.veg23a</th>\n",
       "      <th>x.fruite1</th>\n",
       "      <th>x.vegete1</th>\n",
       "    </tr>\n",
       "  </thead>\n",
       "  <tbody>\n",
       "    <tr>\n",
       "      <th>0</th>\n",
       "      <td>1</td>\n",
       "      <td>1</td>\n",
       "      <td>1</td>\n",
       "      <td>1192021</td>\n",
       "      <td>1</td>\n",
       "      <td>19</td>\n",
       "      <td>2021</td>\n",
       "      <td>1100</td>\n",
       "      <td>2021000001</td>\n",
       "      <td>2021000001</td>\n",
       "      <td>...</td>\n",
       "      <td>1</td>\n",
       "      <td>1</td>\n",
       "      <td>100.0</td>\n",
       "      <td>214.0</td>\n",
       "      <td>1</td>\n",
       "      <td>1</td>\n",
       "      <td>1</td>\n",
       "      <td>1</td>\n",
       "      <td>0</td>\n",
       "      <td>0</td>\n",
       "    </tr>\n",
       "    <tr>\n",
       "      <th>1</th>\n",
       "      <td>2</td>\n",
       "      <td>1</td>\n",
       "      <td>1</td>\n",
       "      <td>1212021</td>\n",
       "      <td>1</td>\n",
       "      <td>21</td>\n",
       "      <td>2021</td>\n",
       "      <td>1100</td>\n",
       "      <td>2021000002</td>\n",
       "      <td>2021000002</td>\n",
       "      <td>...</td>\n",
       "      <td>1</td>\n",
       "      <td>1</td>\n",
       "      <td>100.0</td>\n",
       "      <td>128.0</td>\n",
       "      <td>1</td>\n",
       "      <td>1</td>\n",
       "      <td>1</td>\n",
       "      <td>1</td>\n",
       "      <td>0</td>\n",
       "      <td>0</td>\n",
       "    </tr>\n",
       "    <tr>\n",
       "      <th>2</th>\n",
       "      <td>3</td>\n",
       "      <td>1</td>\n",
       "      <td>1</td>\n",
       "      <td>1212021</td>\n",
       "      <td>1</td>\n",
       "      <td>21</td>\n",
       "      <td>2021</td>\n",
       "      <td>1100</td>\n",
       "      <td>2021000003</td>\n",
       "      <td>2021000003</td>\n",
       "      <td>...</td>\n",
       "      <td>1</td>\n",
       "      <td>1</td>\n",
       "      <td>100.0</td>\n",
       "      <td>71.0</td>\n",
       "      <td>1</td>\n",
       "      <td>2</td>\n",
       "      <td>1</td>\n",
       "      <td>1</td>\n",
       "      <td>0</td>\n",
       "      <td>0</td>\n",
       "    </tr>\n",
       "    <tr>\n",
       "      <th>3</th>\n",
       "      <td>4</td>\n",
       "      <td>1</td>\n",
       "      <td>1</td>\n",
       "      <td>1172021</td>\n",
       "      <td>1</td>\n",
       "      <td>17</td>\n",
       "      <td>2021</td>\n",
       "      <td>1100</td>\n",
       "      <td>2021000004</td>\n",
       "      <td>2021000004</td>\n",
       "      <td>...</td>\n",
       "      <td>1</td>\n",
       "      <td>1</td>\n",
       "      <td>114.0</td>\n",
       "      <td>165.0</td>\n",
       "      <td>1</td>\n",
       "      <td>1</td>\n",
       "      <td>1</td>\n",
       "      <td>1</td>\n",
       "      <td>0</td>\n",
       "      <td>0</td>\n",
       "    </tr>\n",
       "    <tr>\n",
       "      <th>4</th>\n",
       "      <td>5</td>\n",
       "      <td>1</td>\n",
       "      <td>1</td>\n",
       "      <td>1152021</td>\n",
       "      <td>1</td>\n",
       "      <td>15</td>\n",
       "      <td>2021</td>\n",
       "      <td>1100</td>\n",
       "      <td>2021000005</td>\n",
       "      <td>2021000005</td>\n",
       "      <td>...</td>\n",
       "      <td>1</td>\n",
       "      <td>1</td>\n",
       "      <td>100.0</td>\n",
       "      <td>258.0</td>\n",
       "      <td>1</td>\n",
       "      <td>1</td>\n",
       "      <td>1</td>\n",
       "      <td>1</td>\n",
       "      <td>0</td>\n",
       "      <td>0</td>\n",
       "    </tr>\n",
       "  </tbody>\n",
       "</table>\n",
       "<p>5 rows × 304 columns</p>\n",
       "</div>"
      ],
      "text/plain": [
       "   Unnamed: 0  x.state  fmonth    idate  imonth  iday  iyear  dispcode  \\\n",
       "0           1        1       1  1192021       1    19   2021      1100   \n",
       "1           2        1       1  1212021       1    21   2021      1100   \n",
       "2           3        1       1  1212021       1    21   2021      1100   \n",
       "3           4        1       1  1172021       1    17   2021      1100   \n",
       "4           5        1       1  1152021       1    15   2021      1100   \n",
       "\n",
       "        seqno       x.psu  ...  x.frtres1  x.vegres1  x.frutsu1  x.vegesu1  \\\n",
       "0  2021000001  2021000001  ...          1          1      100.0      214.0   \n",
       "1  2021000002  2021000002  ...          1          1      100.0      128.0   \n",
       "2  2021000003  2021000003  ...          1          1      100.0       71.0   \n",
       "3  2021000004  2021000004  ...          1          1      114.0      165.0   \n",
       "4  2021000005  2021000005  ...          1          1      100.0      258.0   \n",
       "\n",
       "   x.frtlt1a  x.veglt1a  x.frt16a  x.veg23a  x.fruite1  x.vegete1  \n",
       "0          1          1         1         1          0          0  \n",
       "1          1          1         1         1          0          0  \n",
       "2          1          2         1         1          0          0  \n",
       "3          1          1         1         1          0          0  \n",
       "4          1          1         1         1          0          0  \n",
       "\n",
       "[5 rows x 304 columns]"
      ]
     },
     "execution_count": 3,
     "metadata": {},
     "output_type": "execute_result"
    }
   ],
   "source": [
    "df_BRFSS.head()"
   ]
  },
  {
   "cell_type": "markdown",
   "metadata": {},
   "source": [
    "## - Dataset Details"
   ]
  },
  {
   "cell_type": "code",
   "execution_count": 4,
   "metadata": {},
   "outputs": [
    {
     "name": "stdout",
     "output_type": "stream",
     "text": [
      "Total Records: 438693\n",
      "Total Columns: 304\n"
     ]
    }
   ],
   "source": [
    "print('Total Records:', df_BRFSS.shape[0])\n",
    "print('Total Columns:', df_BRFSS.shape[1])"
   ]
  },
  {
   "cell_type": "code",
   "execution_count": 5,
   "metadata": {},
   "outputs": [
    {
     "name": "stdout",
     "output_type": "stream",
     "text": [
      "\n",
      "Column Names:\n",
      " ['Unnamed: 0', 'x.state', 'fmonth', 'idate', 'imonth', 'iday', 'iyear', 'dispcode', 'seqno', 'x.psu', 'ctelenm1', 'pvtresd1', 'colghous', 'statere1', 'celphon1', 'ladult1', 'colgsex', 'numadult', 'landsex', 'nummen', 'numwomen', 'respslct', 'safetime', 'ctelnum1', 'cellfon5', 'cadult1', 'cellsex', 'pvtresd3', 'cclghous', 'cstate1', 'landline', 'hhadult', 'sexvar', 'genhlth', 'physhlth', 'menthlth', 'poorhlth', 'priminsr', 'persdoc3', 'medcost1', 'checkup1', 'exerany2', 'bphigh6', 'bpmeds', 'cholchk3', 'toldhi3', 'cholmed3', 'cvdinfr4', 'cvdcrhd4', 'cvdstrk3', 'asthma3', 'asthnow', 'chcscncr', 'chcocncr', 'chccopd3', 'addepev3', 'chckdny2', 'diabete4', 'diabage3', 'havarth5', 'arthexer', 'arthedu', 'lmtjoin3', 'arthdis2', 'joinpai2', 'marital', 'educa', 'renthom1', 'numhhol3', 'numphon3', 'cpdemo1b', 'veteran3', 'employ1', 'children', 'income3', 'pregnant', 'weight2', 'height3', 'deaf', 'blind', 'decide', 'diffwalk', 'diffdres', 'diffalon', 'smoke100', 'smokday2', 'usenow3', 'ecignow1', 'alcday5', 'avedrnk3', 'drnk3ge5', 'maxdrnks', 'flushot7', 'flshtmy3', 'imfvpla2', 'pneuvac4', 'hivtst7', 'hivtstd3', 'fruit2', 'fruitju2', 'fvgreen1', 'frenchf1', 'potatoe1', 'vegetab2', 'pdiabtst', 'prediab1', 'insulin1', 'bldsugar', 'feetchk3', 'doctdiab', 'chkhemo3', 'feetchk', 'eyeexam1', 'diabeye', 'diabedu', 'toldcfs', 'havecfs', 'workcfs', 'toldhepc', 'trethepc', 'prirhepc', 'havehepc', 'havehepb', 'medshepb', 'hpvadvc4', 'hpvadsht', 'tetanus1', 'shingle2', 'lcsfirst', 'lcslast', 'lcsnumcg', 'lcsctscn', 'hadmam', 'howlong', 'cervscrn', 'crvclcnc', 'crvclpap', 'crvclhpv', 'hadhyst2', 'psatest1', 'psatime1', 'pcpsars2', 'pcstalk', 'hadsigm4', 'colnsigm', 'colntes1', 'sigmtes1', 'lastsig4', 'colncncr', 'vircolo1', 'vclntes1', 'smalstol', 'stoltest', 'stooldn1', 'bldstfit', 'sdnates1', 'cncrdiff', 'cncrage', 'cncrtyp1', 'csrvtrt3', 'csrvdoc1', 'csrvsum', 'csrvrtrn', 'csrvinst', 'csrvinsr', 'csrvdein', 'csrvclin', 'csrvpain', 'csrvctl2', 'hombpchk', 'homrgchk', 'wherebp', 'sharebp', 'wtchsalt', 'dradvise', 'cimemlos', 'cdhouse', 'cdassist', 'cdhelp', 'cdsocial', 'cddiscus', 'caregiv1', 'crgvrel4', 'crgvlng1', 'crgvhrs1', 'crgvprb3', 'crgvalzd', 'crgvper1', 'crgvhou1', 'crgvexpt', 'acedeprs', 'acedrink', 'acedrugs', 'aceprisn', 'acedivrc', 'acepunch', 'acehurt1', 'aceswear', 'acetouch', 'acetthem', 'acehvsex', 'aceadsaf', 'aceadned', 'marijan1', 'usemrjn3', 'rsnmrjn2', 'lastsmk2', 'stopsmk2', 'firearm5', 'gunload', 'loadulk2', 'rcsgendr', 'rcsrltn2', 'casthdx2', 'casthno2', 'birthsex', 'somale', 'sofemale', 'trnsgndr', 'qstver', 'qstlang', 'x.metstat', 'x.urbstat', 'mscode', 'x.ststr', 'x.strwt', 'x.rawrake', 'x.wt2rake', 'x.imprace', 'x.chispnc', 'x.crace1', 'x.cprace1', 'cageg', 'x.cllcpwt', 'x.dualuse', 'x.dualcor', 'x.llcpwt2', 'x.llcpwt', 'x.rfhlth', 'x.phys14d', 'x.ment14d', 'x.hlthpln', 'x.hcvu652', 'x.totinda', 'x.rfhype6', 'x.cholch3', 'x.rfchol3', 'x.michd', 'x.ltasth1', 'x.casthm1', 'x.asthms1', 'x.drdxar3', 'x.lmtact3', 'x.lmtwrk3', 'x.prace1', 'x.mrace1', 'x.hispanc', 'x.race', 'x.raceg21', 'x.racegr3', 'x.raceprv', 'x.sex', 'x.ageg5yr', 'x.age65yr', 'x.age80', 'x.age.g', 'htin4', 'htm4', 'wtkg3', 'x.bmi5', 'x.bmi5cat', 'x.rfbmi5', 'x.chldcnt', 'x.educag', 'x.incomg1', 'x.smoker3', 'x.rfsmok3', 'x.cureci1', 'drnkany5', 'drocdy3.', 'x.rfbing5', 'x.drnkwk1', 'x.rfdrhv7', 'x.flshot7', 'x.pneumo3', 'x.aidtst4', 'ftjuda2.', 'frutda2.', 'grenda1.', 'frnchda.', 'potada1.', 'vegeda2.', 'x.misfrt1', 'x.misveg1', 'x.frtres1', 'x.vegres1', 'x.frutsu1', 'x.vegesu1', 'x.frtlt1a', 'x.veglt1a', 'x.frt16a', 'x.veg23a', 'x.fruite1', 'x.vegete1']\n"
     ]
    }
   ],
   "source": [
    "print('\\nColumn Names:\\n', list(df_BRFSS.columns))"
   ]
  },
  {
   "cell_type": "code",
   "execution_count": 6,
   "metadata": {},
   "outputs": [],
   "source": [
    "# Columns with more than 50% of Null Values\n",
    "# Null_cols = df_BRFSS.isnull().sum()/len(df_BRFSS)\n",
    "# BRFSS_Nullcols = Null_cols[Null_cols>0.6].index\n",
    "# display(len(BRFSS_Nullcols))"
   ]
  },
  {
   "cell_type": "code",
   "execution_count": 14,
   "metadata": {},
   "outputs": [],
   "source": [
    "# BRFSS_Nullcols"
   ]
  },
  {
   "cell_type": "markdown",
   "metadata": {},
   "source": [
    "## - Filter data to Indiana State"
   ]
  },
  {
   "cell_type": "code",
   "execution_count": 7,
   "metadata": {},
   "outputs": [
    {
     "name": "stdout",
     "output_type": "stream",
     "text": [
      "IN Total Records: 9929\n",
      "IN Total Columns: 304\n"
     ]
    }
   ],
   "source": [
    "#Saperating out the Indiana State from rest of the states \n",
    "df_Indiana = df_BRFSS[df_BRFSS['x.state']==18]\n",
    "print('IN Total Records:', df_Indiana.shape[0])\n",
    "print('IN Total Columns:', df_Indiana.shape[1])"
   ]
  },
  {
   "cell_type": "markdown",
   "metadata": {},
   "source": [
    "### Pre-processing: NaN removal"
   ]
  },
  {
   "cell_type": "code",
   "execution_count": 8,
   "metadata": {},
   "outputs": [
    {
     "name": "stdout",
     "output_type": "stream",
     "text": [
      "Columns containing number of null values:\n",
      "\n"
     ]
    },
    {
     "data": {
      "text/plain": [
       "stoltest    9929\n",
       "pdiabtst    9929\n",
       "crvclpap    9929\n",
       "crvclhpv    9929\n",
       "hadhyst2    9929\n",
       "            ... \n",
       "potatoe1    1139\n",
       "wtkg3       1120\n",
       "frenchf1    1096\n",
       "fvgreen1    1052\n",
       "fruitju2    1012\n",
       "Length: 180, dtype: int64"
      ]
     },
     "execution_count": 8,
     "metadata": {},
     "output_type": "execute_result"
    }
   ],
   "source": [
    "print('Columns containing number of null values:\\n')\n",
    "null_val = df_Indiana.isnull().sum().sort_values(ascending=False)\n",
    "\n",
    "null_val[null_val>1000]"
   ]
  },
  {
   "cell_type": "code",
   "execution_count": 9,
   "metadata": {},
   "outputs": [
    {
     "name": "stdout",
     "output_type": "stream",
     "text": [
      "\n",
      "Nan removal: Remove col if all values are null\n",
      "Total Records: 9929\n",
      "Total Columns: 220\n"
     ]
    }
   ],
   "source": [
    "# print('Columns containing all the values null:\\n')\n",
    "# print(df_Indiana.columns[df_Indiana.isnull().all()])\n",
    "\n",
    "print('\\nNan removal: Remove col if all values are null') # remove column if all the values are null\n",
    "df_Indiana_na = df_Indiana.dropna(axis=1, how='all')\n",
    "df_IN = df_Indiana_na.drop(['Unnamed: 0'], axis=1)\n",
    "\n",
    "print('Total Records:', df_IN.shape[0])\n",
    "print('Total Columns:', df_IN.shape[1])\n",
    "\n",
    "df_IN.to_csv('../Data/BRFSS_IN_Pros.csv', index=False)"
   ]
  },
  {
   "cell_type": "markdown",
   "metadata": {},
   "source": [
    "### Year wise count"
   ]
  },
  {
   "cell_type": "code",
   "execution_count": 10,
   "metadata": {},
   "outputs": [
    {
     "name": "stdout",
     "output_type": "stream",
     "text": [
      "Contains data of following year/count:\n",
      "2021    9439\n",
      "2022     490\n",
      "Name: iyear, dtype: int64\n"
     ]
    }
   ],
   "source": [
    "print('Contains data of following year/count:')\n",
    "print(df_IN['iyear'].value_counts())\n",
    "# print('\\n\\nIndiana State Data:\\n', df_IN)"
   ]
  },
  {
   "cell_type": "markdown",
   "metadata": {},
   "source": [
    "## Indicator Focused Analysis\n",
    "\n",
    "1. Quality of Life \t\n",
    "\n",
    "    i. Poor or fair health Percentage of adults reporting fair or poor health (age-adjusted).\n",
    "\n",
    " \tii. Poor physical health days Average number of physically unhealthy days reported in past 30 days (age-adjusted).\n",
    "\n",
    " \tiii. Poor mental health days Average number of mentally unhealthy days reported in past 30 days (age-adjusted).\n",
    "\n",
    "2. Tobacco Use\t\n",
    "\n",
    "    i. Adult smoking Percentage of adults who are current smokers (age-adjusted).\n",
    "\n",
    "3. Diet and Exercise\n",
    "\n",
    "    i. Adult obesity Percentage of the adult population (age 18 and older) that reports a body mass index (BMI) greater than or equal to 30 kg/m2 (age-adjusted).\n",
    "\n",
    " \tii. Physical inactivity\tPercentage of adults age 18 and over reporting no leisure-time physical activity (age-adjusted).\n",
    "\n",
    "4. Alcohol and Drug Use\t\n",
    "\n",
    "    i. Excessive drinking Percentage of adults reporting binge or heavy drinking (age-adjusted).\n",
    "    "
   ]
  },
  {
   "cell_type": "markdown",
   "metadata": {},
   "source": [
    "## - Column selection based on indicators"
   ]
  },
  {
   "cell_type": "code",
   "execution_count": 34,
   "metadata": {},
   "outputs": [
    {
     "name": "stdout",
     "output_type": "stream",
     "text": [
      "Total Records: 9929\n",
      "Total Columns: 27\n"
     ]
    }
   ],
   "source": [
    "# Selecting the columns based on the above indicators\n",
    "df_IN_Health = df_IN.filter(regex='smoke|_smoker3|genhlth|menthlth|poorhlth|physhlth|age|drug|alcohol|Alcohal|idate|imonth|iday|iyear|exerany2|x.rfbing5|x.rfbmi5|drnk3ge5|x.imprace|cadult1|ladult1|x.racegr3|x.race|x.ageg5yr')\n",
    "\n",
    "print('Total Records:', df_IN_Health.shape[0])\n",
    "print('Total Columns:', df_IN_Health.shape[1])"
   ]
  },
  {
   "cell_type": "code",
   "execution_count": 35,
   "metadata": {},
   "outputs": [
    {
     "data": {
      "text/html": [
       "<div>\n",
       "<style scoped>\n",
       "    .dataframe tbody tr th:only-of-type {\n",
       "        vertical-align: middle;\n",
       "    }\n",
       "\n",
       "    .dataframe tbody tr th {\n",
       "        vertical-align: top;\n",
       "    }\n",
       "\n",
       "    .dataframe thead th {\n",
       "        text-align: right;\n",
       "    }\n",
       "</style>\n",
       "<table border=\"1\" class=\"dataframe\">\n",
       "  <thead>\n",
       "    <tr style=\"text-align: right;\">\n",
       "      <th></th>\n",
       "      <th>idate</th>\n",
       "      <th>imonth</th>\n",
       "      <th>iday</th>\n",
       "      <th>iyear</th>\n",
       "      <th>ladult1</th>\n",
       "      <th>cadult1</th>\n",
       "      <th>genhlth</th>\n",
       "      <th>physhlth</th>\n",
       "      <th>menthlth</th>\n",
       "      <th>poorhlth</th>\n",
       "      <th>...</th>\n",
       "      <th>x.raceg21</th>\n",
       "      <th>x.racegr3</th>\n",
       "      <th>x.raceprv</th>\n",
       "      <th>x.ageg5yr</th>\n",
       "      <th>x.age65yr</th>\n",
       "      <th>x.age80</th>\n",
       "      <th>x.age.g</th>\n",
       "      <th>x.rfbmi5</th>\n",
       "      <th>x.smoker3</th>\n",
       "      <th>x.rfbing5</th>\n",
       "    </tr>\n",
       "  </thead>\n",
       "  <tbody>\n",
       "    <tr>\n",
       "      <th>84466</th>\n",
       "      <td>2192021</td>\n",
       "      <td>2</td>\n",
       "      <td>19</td>\n",
       "      <td>2021</td>\n",
       "      <td>1.0</td>\n",
       "      <td>NaN</td>\n",
       "      <td>4.0</td>\n",
       "      <td>10.0</td>\n",
       "      <td>88.0</td>\n",
       "      <td>10.0</td>\n",
       "      <td>...</td>\n",
       "      <td>1</td>\n",
       "      <td>1</td>\n",
       "      <td>1</td>\n",
       "      <td>8</td>\n",
       "      <td>1</td>\n",
       "      <td>58</td>\n",
       "      <td>5</td>\n",
       "      <td>2</td>\n",
       "      <td>4</td>\n",
       "      <td>1</td>\n",
       "    </tr>\n",
       "    <tr>\n",
       "      <th>84467</th>\n",
       "      <td>2252021</td>\n",
       "      <td>2</td>\n",
       "      <td>25</td>\n",
       "      <td>2021</td>\n",
       "      <td>1.0</td>\n",
       "      <td>NaN</td>\n",
       "      <td>2.0</td>\n",
       "      <td>88.0</td>\n",
       "      <td>88.0</td>\n",
       "      <td>NaN</td>\n",
       "      <td>...</td>\n",
       "      <td>1</td>\n",
       "      <td>1</td>\n",
       "      <td>1</td>\n",
       "      <td>7</td>\n",
       "      <td>1</td>\n",
       "      <td>54</td>\n",
       "      <td>4</td>\n",
       "      <td>1</td>\n",
       "      <td>4</td>\n",
       "      <td>1</td>\n",
       "    </tr>\n",
       "    <tr>\n",
       "      <th>84468</th>\n",
       "      <td>2262021</td>\n",
       "      <td>2</td>\n",
       "      <td>26</td>\n",
       "      <td>2021</td>\n",
       "      <td>1.0</td>\n",
       "      <td>NaN</td>\n",
       "      <td>2.0</td>\n",
       "      <td>88.0</td>\n",
       "      <td>88.0</td>\n",
       "      <td>NaN</td>\n",
       "      <td>...</td>\n",
       "      <td>1</td>\n",
       "      <td>1</td>\n",
       "      <td>1</td>\n",
       "      <td>11</td>\n",
       "      <td>2</td>\n",
       "      <td>73</td>\n",
       "      <td>6</td>\n",
       "      <td>1</td>\n",
       "      <td>4</td>\n",
       "      <td>1</td>\n",
       "    </tr>\n",
       "    <tr>\n",
       "      <th>84469</th>\n",
       "      <td>2212021</td>\n",
       "      <td>2</td>\n",
       "      <td>21</td>\n",
       "      <td>2021</td>\n",
       "      <td>1.0</td>\n",
       "      <td>NaN</td>\n",
       "      <td>2.0</td>\n",
       "      <td>88.0</td>\n",
       "      <td>88.0</td>\n",
       "      <td>NaN</td>\n",
       "      <td>...</td>\n",
       "      <td>1</td>\n",
       "      <td>1</td>\n",
       "      <td>1</td>\n",
       "      <td>2</td>\n",
       "      <td>1</td>\n",
       "      <td>26</td>\n",
       "      <td>2</td>\n",
       "      <td>2</td>\n",
       "      <td>4</td>\n",
       "      <td>1</td>\n",
       "    </tr>\n",
       "    <tr>\n",
       "      <th>84470</th>\n",
       "      <td>2212021</td>\n",
       "      <td>2</td>\n",
       "      <td>21</td>\n",
       "      <td>2021</td>\n",
       "      <td>1.0</td>\n",
       "      <td>NaN</td>\n",
       "      <td>1.0</td>\n",
       "      <td>88.0</td>\n",
       "      <td>88.0</td>\n",
       "      <td>NaN</td>\n",
       "      <td>...</td>\n",
       "      <td>1</td>\n",
       "      <td>1</td>\n",
       "      <td>1</td>\n",
       "      <td>13</td>\n",
       "      <td>2</td>\n",
       "      <td>80</td>\n",
       "      <td>6</td>\n",
       "      <td>1</td>\n",
       "      <td>3</td>\n",
       "      <td>1</td>\n",
       "    </tr>\n",
       "    <tr>\n",
       "      <th>...</th>\n",
       "      <td>...</td>\n",
       "      <td>...</td>\n",
       "      <td>...</td>\n",
       "      <td>...</td>\n",
       "      <td>...</td>\n",
       "      <td>...</td>\n",
       "      <td>...</td>\n",
       "      <td>...</td>\n",
       "      <td>...</td>\n",
       "      <td>...</td>\n",
       "      <td>...</td>\n",
       "      <td>...</td>\n",
       "      <td>...</td>\n",
       "      <td>...</td>\n",
       "      <td>...</td>\n",
       "      <td>...</td>\n",
       "      <td>...</td>\n",
       "      <td>...</td>\n",
       "      <td>...</td>\n",
       "      <td>...</td>\n",
       "      <td>...</td>\n",
       "    </tr>\n",
       "    <tr>\n",
       "      <th>94390</th>\n",
       "      <td>3212021</td>\n",
       "      <td>3</td>\n",
       "      <td>21</td>\n",
       "      <td>2021</td>\n",
       "      <td>NaN</td>\n",
       "      <td>1.0</td>\n",
       "      <td>2.0</td>\n",
       "      <td>88.0</td>\n",
       "      <td>15.0</td>\n",
       "      <td>88.0</td>\n",
       "      <td>...</td>\n",
       "      <td>1</td>\n",
       "      <td>1</td>\n",
       "      <td>1</td>\n",
       "      <td>10</td>\n",
       "      <td>2</td>\n",
       "      <td>69</td>\n",
       "      <td>6</td>\n",
       "      <td>2</td>\n",
       "      <td>3</td>\n",
       "      <td>1</td>\n",
       "    </tr>\n",
       "    <tr>\n",
       "      <th>94391</th>\n",
       "      <td>6252021</td>\n",
       "      <td>6</td>\n",
       "      <td>25</td>\n",
       "      <td>2021</td>\n",
       "      <td>NaN</td>\n",
       "      <td>1.0</td>\n",
       "      <td>3.0</td>\n",
       "      <td>88.0</td>\n",
       "      <td>3.0</td>\n",
       "      <td>88.0</td>\n",
       "      <td>...</td>\n",
       "      <td>1</td>\n",
       "      <td>1</td>\n",
       "      <td>1</td>\n",
       "      <td>2</td>\n",
       "      <td>1</td>\n",
       "      <td>25</td>\n",
       "      <td>2</td>\n",
       "      <td>1</td>\n",
       "      <td>4</td>\n",
       "      <td>1</td>\n",
       "    </tr>\n",
       "    <tr>\n",
       "      <th>94392</th>\n",
       "      <td>12082021</td>\n",
       "      <td>12</td>\n",
       "      <td>8</td>\n",
       "      <td>2021</td>\n",
       "      <td>NaN</td>\n",
       "      <td>1.0</td>\n",
       "      <td>3.0</td>\n",
       "      <td>88.0</td>\n",
       "      <td>7.0</td>\n",
       "      <td>88.0</td>\n",
       "      <td>...</td>\n",
       "      <td>1</td>\n",
       "      <td>1</td>\n",
       "      <td>1</td>\n",
       "      <td>4</td>\n",
       "      <td>1</td>\n",
       "      <td>37</td>\n",
       "      <td>3</td>\n",
       "      <td>1</td>\n",
       "      <td>2</td>\n",
       "      <td>1</td>\n",
       "    </tr>\n",
       "    <tr>\n",
       "      <th>94393</th>\n",
       "      <td>12142021</td>\n",
       "      <td>12</td>\n",
       "      <td>14</td>\n",
       "      <td>2021</td>\n",
       "      <td>NaN</td>\n",
       "      <td>1.0</td>\n",
       "      <td>5.0</td>\n",
       "      <td>30.0</td>\n",
       "      <td>30.0</td>\n",
       "      <td>30.0</td>\n",
       "      <td>...</td>\n",
       "      <td>1</td>\n",
       "      <td>1</td>\n",
       "      <td>1</td>\n",
       "      <td>3</td>\n",
       "      <td>1</td>\n",
       "      <td>30</td>\n",
       "      <td>2</td>\n",
       "      <td>2</td>\n",
       "      <td>3</td>\n",
       "      <td>1</td>\n",
       "    </tr>\n",
       "    <tr>\n",
       "      <th>94394</th>\n",
       "      <td>4152021</td>\n",
       "      <td>4</td>\n",
       "      <td>15</td>\n",
       "      <td>2021</td>\n",
       "      <td>NaN</td>\n",
       "      <td>1.0</td>\n",
       "      <td>2.0</td>\n",
       "      <td>88.0</td>\n",
       "      <td>88.0</td>\n",
       "      <td>NaN</td>\n",
       "      <td>...</td>\n",
       "      <td>1</td>\n",
       "      <td>1</td>\n",
       "      <td>1</td>\n",
       "      <td>6</td>\n",
       "      <td>1</td>\n",
       "      <td>48</td>\n",
       "      <td>4</td>\n",
       "      <td>2</td>\n",
       "      <td>4</td>\n",
       "      <td>1</td>\n",
       "    </tr>\n",
       "  </tbody>\n",
       "</table>\n",
       "<p>9929 rows × 27 columns</p>\n",
       "</div>"
      ],
      "text/plain": [
       "          idate  imonth  iday  iyear  ladult1  cadult1  genhlth  physhlth  \\\n",
       "84466   2192021       2    19   2021      1.0      NaN      4.0      10.0   \n",
       "84467   2252021       2    25   2021      1.0      NaN      2.0      88.0   \n",
       "84468   2262021       2    26   2021      1.0      NaN      2.0      88.0   \n",
       "84469   2212021       2    21   2021      1.0      NaN      2.0      88.0   \n",
       "84470   2212021       2    21   2021      1.0      NaN      1.0      88.0   \n",
       "...         ...     ...   ...    ...      ...      ...      ...       ...   \n",
       "94390   3212021       3    21   2021      NaN      1.0      2.0      88.0   \n",
       "94391   6252021       6    25   2021      NaN      1.0      3.0      88.0   \n",
       "94392  12082021      12     8   2021      NaN      1.0      3.0      88.0   \n",
       "94393  12142021      12    14   2021      NaN      1.0      5.0      30.0   \n",
       "94394   4152021       4    15   2021      NaN      1.0      2.0      88.0   \n",
       "\n",
       "       menthlth  poorhlth  ...  x.raceg21  x.racegr3  x.raceprv  x.ageg5yr  \\\n",
       "84466      88.0      10.0  ...          1          1          1          8   \n",
       "84467      88.0       NaN  ...          1          1          1          7   \n",
       "84468      88.0       NaN  ...          1          1          1         11   \n",
       "84469      88.0       NaN  ...          1          1          1          2   \n",
       "84470      88.0       NaN  ...          1          1          1         13   \n",
       "...         ...       ...  ...        ...        ...        ...        ...   \n",
       "94390      15.0      88.0  ...          1          1          1         10   \n",
       "94391       3.0      88.0  ...          1          1          1          2   \n",
       "94392       7.0      88.0  ...          1          1          1          4   \n",
       "94393      30.0      30.0  ...          1          1          1          3   \n",
       "94394      88.0       NaN  ...          1          1          1          6   \n",
       "\n",
       "       x.age65yr  x.age80  x.age.g  x.rfbmi5  x.smoker3  x.rfbing5  \n",
       "84466          1       58        5         2          4          1  \n",
       "84467          1       54        4         1          4          1  \n",
       "84468          2       73        6         1          4          1  \n",
       "84469          1       26        2         2          4          1  \n",
       "84470          2       80        6         1          3          1  \n",
       "...          ...      ...      ...       ...        ...        ...  \n",
       "94390          2       69        6         2          3          1  \n",
       "94391          1       25        2         1          4          1  \n",
       "94392          1       37        3         1          2          1  \n",
       "94393          1       30        2         2          3          1  \n",
       "94394          1       48        4         2          4          1  \n",
       "\n",
       "[9929 rows x 27 columns]"
      ]
     },
     "execution_count": 35,
     "metadata": {},
     "output_type": "execute_result"
    }
   ],
   "source": [
    "df_IN_Health"
   ]
  },
  {
   "cell_type": "code",
   "execution_count": 151,
   "metadata": {},
   "outputs": [
    {
     "data": {
      "text/plain": [
       "Index(['idate', 'imonth', 'iday', 'iyear', 'ladult1', 'cadult1', 'genhlth',\n",
       "       'physhlth', 'menthlth', 'poorhlth', 'exerany2', 'diabage3', 'smoke100',\n",
       "       'drnk3ge5', 'x.imprace', 'cageg', 'x.race', 'x.raceg21', 'x.racegr3',\n",
       "       'x.raceprv', 'x.ageg5yr', 'x.age65yr', 'x.age80', 'x.age.g', 'x.rfbmi5',\n",
       "       'x.smoker3', 'x.rfbing5', 'age_groups', 'general_health'],\n",
       "      dtype='object')"
      ]
     },
     "execution_count": 151,
     "metadata": {},
     "output_type": "execute_result"
    }
   ],
   "source": [
    "df_IN_Health.columns"
   ]
  },
  {
   "cell_type": "code",
   "execution_count": 82,
   "metadata": {},
   "outputs": [
    {
     "name": "stderr",
     "output_type": "stream",
     "text": [
      "<ipython-input-82-380327271150>:7: SettingWithCopyWarning: \n",
      "A value is trying to be set on a copy of a slice from a DataFrame.\n",
      "Try using .loc[row_indexer,col_indexer] = value instead\n",
      "\n",
      "See the caveats in the documentation: https://pandas.pydata.org/pandas-docs/stable/user_guide/indexing.html#returning-a-view-versus-a-copy\n",
      "  df_IN_Health['age_groups'] = df_IN_Health['x.ageg5yr'].map(age_groups)\n"
     ]
    },
    {
     "data": {
      "image/png": "[encoded data removed]",
      "text/plain": [
       "<Figure size 576x432 with 1 Axes>"
      ]
     },
     "metadata": {
      "needs_background": "light"
     },
     "output_type": "display_data"
    }
   ],
   "source": [
    "# The following age distribution is taken from the BRFSS_code book under the section '_AGE5YR'\n",
    "age_groups = {1: '18-24', 2: '25-29', 3: '30-34', 4: '35-39', 5: '40-44', 6: '45-49', \n",
    "              7: '50-54', 8: '55-59', 9: '60-64', 10: '65-69', 11: '70-74', 12: '75-79',\n",
    "              13: '80-99', 14: 'Under 18'}\n",
    "\n",
    "# Changing the Age column from numeric to Categorical by adding the new column \"age_groups\"\n",
    "df_IN_Health['age_groups'] = df_IN_Health['x.ageg5yr'].map(age_groups)\n",
    "\n",
    "# Finding the percentage of each age group\n",
    "\n",
    "percentage_counts = df_IN_Health['x.ageg5yr'].value_counts() \n",
    "percentage_counts = percentage_counts.sort_index()\n",
    "colors = ['#C9D9E7', '#C2E4CC', '#E4C1F9', '#F9B7C2', '#F9D8C2', '#EAF6E7', '#C2C6E4',\n",
    "          '#E4C6C2', '#F9C2D8', '#E7F1EF', '#FFF0C2', '#C2E0F9', '#E4E2C2', '#F9E5C2']\n",
    "\n",
    "#Creating the bar graph for better understanding the age groups \n",
    "\n",
    "ax = percentage_counts.plot(kind='bar', color=colors, figsize=(8, 6))\n",
    "ax.set_xlabel('Age Group', fontsize=14, fontweight='bold')\n",
    "ax.set_ylabel('Count', fontsize=14, fontweight='bold')\n",
    "ax.set_title('Age Group Distribution', fontsize=16, fontweight='bold')\n",
    "ax.tick_params(axis='both', which='major', labelsize=12)\n",
    "ax.spines['top'].set_visible(False)\n",
    "ax.spines['right'].set_visible(False)\n",
    "ax.spines['bottom'].set_linewidth(0.5)\n",
    "ax.spines['left'].set_linewidth(0.5)\n",
    "ax.grid(axis='y', linestyle='-', linewidth=0.5, alpha=0.5)\n",
    "for i, v in enumerate(percentage_counts):\n",
    "    ax.text(i-0.1, v+0.3, f'{v}', color='#222222', fontsize=12, fontweight='bold')\n",
    "# Display the chart\n",
    "plt.show()"
   ]
  },
  {
   "cell_type": "code",
   "execution_count": 12,
   "metadata": {},
   "outputs": [],
   "source": [
    "# remove columns having 70% null values\n",
    "# df_IN_Health = df_IN_Health.drop(df_IN_Health.columns[df_IN_Health.isnull().mean() > 0.7 ],axis=1)\n",
    "# df_IN_Health"
   ]
  },
  {
   "cell_type": "markdown",
   "metadata": {},
   "source": [
    "## 1. Quality of Life"
   ]
  },
  {
   "cell_type": "markdown",
   "metadata": {},
   "source": [
    "### 1.1 Poor or fair health: Percentage of adults reporting fair or poor health (age-adjusted)"
   ]
  },
  {
   "cell_type": "code",
   "execution_count": 13,
   "metadata": {},
   "outputs": [],
   "source": [
    "# sns.countplot(data=df_IN_Health, x=\"genhlth\")"
   ]
  },
  {
   "cell_type": "code",
   "execution_count": 80,
   "metadata": {},
   "outputs": [
    {
     "name": "stderr",
     "output_type": "stream",
     "text": [
      "<ipython-input-80-065404a9e948>:2: SettingWithCopyWarning: \n",
      "A value is trying to be set on a copy of a slice from a DataFrame.\n",
      "Try using .loc[row_indexer,col_indexer] = value instead\n",
      "\n",
      "See the caveats in the documentation: https://pandas.pydata.org/pandas-docs/stable/user_guide/indexing.html#returning-a-view-versus-a-copy\n",
      "  df_IN_Health['general_health'] = df_IN_Health['genhlth'].map(general_health)\n"
     ]
    },
    {
     "data": {
      "image/png": "[encoded data removed]",
      "text/plain": [
       "<Figure size 576x432 with 1 Axes>"
      ]
     },
     "metadata": {
      "needs_background": "light"
     },
     "output_type": "display_data"
    }
   ],
   "source": [
    "general_health = {1.0 :'Excellent', 2.0:'V. Good', 3.0:'Good', 4.0:'Fair', 5.0:'Poor', 7.0:'Not sure', 9.0:'Refused'}\n",
    "df_IN_Health['general_health'] = df_IN_Health['genhlth'].map(general_health)\n",
    "percentage_counts = df_IN_Health['general_health'].value_counts()\n",
    "percentage_counts\n",
    "#percentage_counts = percentage_counts.sort_index()\n",
    "ax = percentage_counts.plot(kind='bar', color=colors, figsize=(8, 6))\n",
    "ax.set_xlabel('General Health', fontsize=14, fontweight='bold')\n",
    "ax.set_ylabel('Count', fontsize=14, fontweight='bold')\n",
    "ax.set_title('General Health Distribution', fontsize=16, fontweight='bold')\n",
    "ax.tick_params(axis='both', which='major', labelsize=12)\n",
    "ax.spines['top'].set_visible(False)\n",
    "ax.spines['right'].set_visible(False)\n",
    "ax.spines['bottom'].set_linewidth(0.5)\n",
    "ax.spines['left'].set_linewidth(0.5)\n",
    "ax.grid(axis='y', linestyle='-', linewidth=0.5, alpha=0.5)\n",
    "for i, v in enumerate(percentage_counts):\n",
    "    ax.text(i-0.1, v+0.3, f'{v}', color='#222222', fontsize=12, fontweight='bold')\n",
    "# Display the chart\n",
    "plt.show()"
   ]
  },
  {
   "cell_type": "code",
   "execution_count": null,
   "metadata": {},
   "outputs": [],
   "source": [
    "# Total population of indiana is 6.2 million of them our sample data is 9929 out of which 509 people reported poor health \n",
    "# Calculating for the entire state \n",
    "# "
   ]
  },
  {
   "cell_type": "code",
   "execution_count": 99,
   "metadata": {},
   "outputs": [
    {
     "data": {
      "text/html": [
       "<div>\n",
       "<style scoped>\n",
       "    .dataframe tbody tr th:only-of-type {\n",
       "        vertical-align: middle;\n",
       "    }\n",
       "\n",
       "    .dataframe tbody tr th {\n",
       "        vertical-align: top;\n",
       "    }\n",
       "\n",
       "    .dataframe thead th {\n",
       "        text-align: right;\n",
       "    }\n",
       "</style>\n",
       "<table border=\"1\" class=\"dataframe\">\n",
       "  <thead>\n",
       "    <tr style=\"text-align: right;\">\n",
       "      <th></th>\n",
       "      <th>idate</th>\n",
       "      <th>imonth</th>\n",
       "      <th>iday</th>\n",
       "      <th>iyear</th>\n",
       "      <th>ladult1</th>\n",
       "      <th>cadult1</th>\n",
       "      <th>genhlth</th>\n",
       "      <th>physhlth</th>\n",
       "      <th>menthlth</th>\n",
       "      <th>poorhlth</th>\n",
       "      <th>...</th>\n",
       "      <th>x.raceprv</th>\n",
       "      <th>x.ageg5yr</th>\n",
       "      <th>x.age65yr</th>\n",
       "      <th>x.age80</th>\n",
       "      <th>x.age.g</th>\n",
       "      <th>x.rfbmi5</th>\n",
       "      <th>x.smoker3</th>\n",
       "      <th>x.rfbing5</th>\n",
       "      <th>age_groups</th>\n",
       "      <th>general_health</th>\n",
       "    </tr>\n",
       "  </thead>\n",
       "  <tbody>\n",
       "    <tr>\n",
       "      <th>84466</th>\n",
       "      <td>2192021</td>\n",
       "      <td>2</td>\n",
       "      <td>19</td>\n",
       "      <td>2021</td>\n",
       "      <td>1.0</td>\n",
       "      <td>NaN</td>\n",
       "      <td>4.0</td>\n",
       "      <td>10.0</td>\n",
       "      <td>88.0</td>\n",
       "      <td>10.0</td>\n",
       "      <td>...</td>\n",
       "      <td>1</td>\n",
       "      <td>8</td>\n",
       "      <td>1</td>\n",
       "      <td>58</td>\n",
       "      <td>5</td>\n",
       "      <td>2</td>\n",
       "      <td>4</td>\n",
       "      <td>1</td>\n",
       "      <td>55-59</td>\n",
       "      <td>Fair</td>\n",
       "    </tr>\n",
       "    <tr>\n",
       "      <th>84467</th>\n",
       "      <td>2252021</td>\n",
       "      <td>2</td>\n",
       "      <td>25</td>\n",
       "      <td>2021</td>\n",
       "      <td>1.0</td>\n",
       "      <td>NaN</td>\n",
       "      <td>2.0</td>\n",
       "      <td>88.0</td>\n",
       "      <td>88.0</td>\n",
       "      <td>NaN</td>\n",
       "      <td>...</td>\n",
       "      <td>1</td>\n",
       "      <td>7</td>\n",
       "      <td>1</td>\n",
       "      <td>54</td>\n",
       "      <td>4</td>\n",
       "      <td>1</td>\n",
       "      <td>4</td>\n",
       "      <td>1</td>\n",
       "      <td>50-54</td>\n",
       "      <td>V. Good</td>\n",
       "    </tr>\n",
       "    <tr>\n",
       "      <th>84468</th>\n",
       "      <td>2262021</td>\n",
       "      <td>2</td>\n",
       "      <td>26</td>\n",
       "      <td>2021</td>\n",
       "      <td>1.0</td>\n",
       "      <td>NaN</td>\n",
       "      <td>2.0</td>\n",
       "      <td>88.0</td>\n",
       "      <td>88.0</td>\n",
       "      <td>NaN</td>\n",
       "      <td>...</td>\n",
       "      <td>1</td>\n",
       "      <td>11</td>\n",
       "      <td>2</td>\n",
       "      <td>73</td>\n",
       "      <td>6</td>\n",
       "      <td>1</td>\n",
       "      <td>4</td>\n",
       "      <td>1</td>\n",
       "      <td>70-74</td>\n",
       "      <td>V. Good</td>\n",
       "    </tr>\n",
       "    <tr>\n",
       "      <th>84469</th>\n",
       "      <td>2212021</td>\n",
       "      <td>2</td>\n",
       "      <td>21</td>\n",
       "      <td>2021</td>\n",
       "      <td>1.0</td>\n",
       "      <td>NaN</td>\n",
       "      <td>2.0</td>\n",
       "      <td>88.0</td>\n",
       "      <td>88.0</td>\n",
       "      <td>NaN</td>\n",
       "      <td>...</td>\n",
       "      <td>1</td>\n",
       "      <td>2</td>\n",
       "      <td>1</td>\n",
       "      <td>26</td>\n",
       "      <td>2</td>\n",
       "      <td>2</td>\n",
       "      <td>4</td>\n",
       "      <td>1</td>\n",
       "      <td>25-29</td>\n",
       "      <td>V. Good</td>\n",
       "    </tr>\n",
       "    <tr>\n",
       "      <th>84470</th>\n",
       "      <td>2212021</td>\n",
       "      <td>2</td>\n",
       "      <td>21</td>\n",
       "      <td>2021</td>\n",
       "      <td>1.0</td>\n",
       "      <td>NaN</td>\n",
       "      <td>1.0</td>\n",
       "      <td>88.0</td>\n",
       "      <td>88.0</td>\n",
       "      <td>NaN</td>\n",
       "      <td>...</td>\n",
       "      <td>1</td>\n",
       "      <td>13</td>\n",
       "      <td>2</td>\n",
       "      <td>80</td>\n",
       "      <td>6</td>\n",
       "      <td>1</td>\n",
       "      <td>3</td>\n",
       "      <td>1</td>\n",
       "      <td>80-99</td>\n",
       "      <td>Excellent</td>\n",
       "    </tr>\n",
       "    <tr>\n",
       "      <th>...</th>\n",
       "      <td>...</td>\n",
       "      <td>...</td>\n",
       "      <td>...</td>\n",
       "      <td>...</td>\n",
       "      <td>...</td>\n",
       "      <td>...</td>\n",
       "      <td>...</td>\n",
       "      <td>...</td>\n",
       "      <td>...</td>\n",
       "      <td>...</td>\n",
       "      <td>...</td>\n",
       "      <td>...</td>\n",
       "      <td>...</td>\n",
       "      <td>...</td>\n",
       "      <td>...</td>\n",
       "      <td>...</td>\n",
       "      <td>...</td>\n",
       "      <td>...</td>\n",
       "      <td>...</td>\n",
       "      <td>...</td>\n",
       "      <td>...</td>\n",
       "    </tr>\n",
       "    <tr>\n",
       "      <th>94390</th>\n",
       "      <td>3212021</td>\n",
       "      <td>3</td>\n",
       "      <td>21</td>\n",
       "      <td>2021</td>\n",
       "      <td>NaN</td>\n",
       "      <td>1.0</td>\n",
       "      <td>2.0</td>\n",
       "      <td>88.0</td>\n",
       "      <td>15.0</td>\n",
       "      <td>88.0</td>\n",
       "      <td>...</td>\n",
       "      <td>1</td>\n",
       "      <td>10</td>\n",
       "      <td>2</td>\n",
       "      <td>69</td>\n",
       "      <td>6</td>\n",
       "      <td>2</td>\n",
       "      <td>3</td>\n",
       "      <td>1</td>\n",
       "      <td>65-69</td>\n",
       "      <td>V. Good</td>\n",
       "    </tr>\n",
       "    <tr>\n",
       "      <th>94391</th>\n",
       "      <td>6252021</td>\n",
       "      <td>6</td>\n",
       "      <td>25</td>\n",
       "      <td>2021</td>\n",
       "      <td>NaN</td>\n",
       "      <td>1.0</td>\n",
       "      <td>3.0</td>\n",
       "      <td>88.0</td>\n",
       "      <td>3.0</td>\n",
       "      <td>88.0</td>\n",
       "      <td>...</td>\n",
       "      <td>1</td>\n",
       "      <td>2</td>\n",
       "      <td>1</td>\n",
       "      <td>25</td>\n",
       "      <td>2</td>\n",
       "      <td>1</td>\n",
       "      <td>4</td>\n",
       "      <td>1</td>\n",
       "      <td>25-29</td>\n",
       "      <td>Good</td>\n",
       "    </tr>\n",
       "    <tr>\n",
       "      <th>94392</th>\n",
       "      <td>12082021</td>\n",
       "      <td>12</td>\n",
       "      <td>8</td>\n",
       "      <td>2021</td>\n",
       "      <td>NaN</td>\n",
       "      <td>1.0</td>\n",
       "      <td>3.0</td>\n",
       "      <td>88.0</td>\n",
       "      <td>7.0</td>\n",
       "      <td>88.0</td>\n",
       "      <td>...</td>\n",
       "      <td>1</td>\n",
       "      <td>4</td>\n",
       "      <td>1</td>\n",
       "      <td>37</td>\n",
       "      <td>3</td>\n",
       "      <td>1</td>\n",
       "      <td>2</td>\n",
       "      <td>1</td>\n",
       "      <td>35-39</td>\n",
       "      <td>Good</td>\n",
       "    </tr>\n",
       "    <tr>\n",
       "      <th>94393</th>\n",
       "      <td>12142021</td>\n",
       "      <td>12</td>\n",
       "      <td>14</td>\n",
       "      <td>2021</td>\n",
       "      <td>NaN</td>\n",
       "      <td>1.0</td>\n",
       "      <td>5.0</td>\n",
       "      <td>30.0</td>\n",
       "      <td>30.0</td>\n",
       "      <td>30.0</td>\n",
       "      <td>...</td>\n",
       "      <td>1</td>\n",
       "      <td>3</td>\n",
       "      <td>1</td>\n",
       "      <td>30</td>\n",
       "      <td>2</td>\n",
       "      <td>2</td>\n",
       "      <td>3</td>\n",
       "      <td>1</td>\n",
       "      <td>30-34</td>\n",
       "      <td>Poor</td>\n",
       "    </tr>\n",
       "    <tr>\n",
       "      <th>94394</th>\n",
       "      <td>4152021</td>\n",
       "      <td>4</td>\n",
       "      <td>15</td>\n",
       "      <td>2021</td>\n",
       "      <td>NaN</td>\n",
       "      <td>1.0</td>\n",
       "      <td>2.0</td>\n",
       "      <td>88.0</td>\n",
       "      <td>88.0</td>\n",
       "      <td>NaN</td>\n",
       "      <td>...</td>\n",
       "      <td>1</td>\n",
       "      <td>6</td>\n",
       "      <td>1</td>\n",
       "      <td>48</td>\n",
       "      <td>4</td>\n",
       "      <td>2</td>\n",
       "      <td>4</td>\n",
       "      <td>1</td>\n",
       "      <td>45-49</td>\n",
       "      <td>V. Good</td>\n",
       "    </tr>\n",
       "  </tbody>\n",
       "</table>\n",
       "<p>9929 rows × 29 columns</p>\n",
       "</div>"
      ],
      "text/plain": [
       "          idate  imonth  iday  iyear  ladult1  cadult1  genhlth  physhlth  \\\n",
       "84466   2192021       2    19   2021      1.0      NaN      4.0      10.0   \n",
       "84467   2252021       2    25   2021      1.0      NaN      2.0      88.0   \n",
       "84468   2262021       2    26   2021      1.0      NaN      2.0      88.0   \n",
       "84469   2212021       2    21   2021      1.0      NaN      2.0      88.0   \n",
       "84470   2212021       2    21   2021      1.0      NaN      1.0      88.0   \n",
       "...         ...     ...   ...    ...      ...      ...      ...       ...   \n",
       "94390   3212021       3    21   2021      NaN      1.0      2.0      88.0   \n",
       "94391   6252021       6    25   2021      NaN      1.0      3.0      88.0   \n",
       "94392  12082021      12     8   2021      NaN      1.0      3.0      88.0   \n",
       "94393  12142021      12    14   2021      NaN      1.0      5.0      30.0   \n",
       "94394   4152021       4    15   2021      NaN      1.0      2.0      88.0   \n",
       "\n",
       "       menthlth  poorhlth  ...  x.raceprv  x.ageg5yr  x.age65yr  x.age80  \\\n",
       "84466      88.0      10.0  ...          1          8          1       58   \n",
       "84467      88.0       NaN  ...          1          7          1       54   \n",
       "84468      88.0       NaN  ...          1         11          2       73   \n",
       "84469      88.0       NaN  ...          1          2          1       26   \n",
       "84470      88.0       NaN  ...          1         13          2       80   \n",
       "...         ...       ...  ...        ...        ...        ...      ...   \n",
       "94390      15.0      88.0  ...          1         10          2       69   \n",
       "94391       3.0      88.0  ...          1          2          1       25   \n",
       "94392       7.0      88.0  ...          1          4          1       37   \n",
       "94393      30.0      30.0  ...          1          3          1       30   \n",
       "94394      88.0       NaN  ...          1          6          1       48   \n",
       "\n",
       "       x.age.g  x.rfbmi5  x.smoker3  x.rfbing5  age_groups  general_health  \n",
       "84466        5         2          4          1       55-59            Fair  \n",
       "84467        4         1          4          1       50-54         V. Good  \n",
       "84468        6         1          4          1       70-74         V. Good  \n",
       "84469        2         2          4          1       25-29         V. Good  \n",
       "84470        6         1          3          1       80-99       Excellent  \n",
       "...        ...       ...        ...        ...         ...             ...  \n",
       "94390        6         2          3          1       65-69         V. Good  \n",
       "94391        2         1          4          1       25-29            Good  \n",
       "94392        3         1          2          1       35-39            Good  \n",
       "94393        2         2          3          1       30-34            Poor  \n",
       "94394        4         2          4          1       45-49         V. Good  \n",
       "\n",
       "[9929 rows x 29 columns]"
      ]
     },
     "execution_count": 99,
     "metadata": {},
     "output_type": "execute_result"
    }
   ],
   "source": [
    "df_IN_Health"
   ]
  },
  {
   "cell_type": "code",
   "execution_count": 116,
   "metadata": {},
   "outputs": [],
   "source": [
    "age_gen_counts = df_IN_Health.groupby(['age_groups', 'general_health']).size().reset_index(name='count')"
   ]
  },
  {
   "cell_type": "code",
   "execution_count": 117,
   "metadata": {},
   "outputs": [
    {
     "data": {
      "text/html": [
       "<div>\n",
       "<style scoped>\n",
       "    .dataframe tbody tr th:only-of-type {\n",
       "        vertical-align: middle;\n",
       "    }\n",
       "\n",
       "    .dataframe tbody tr th {\n",
       "        vertical-align: top;\n",
       "    }\n",
       "\n",
       "    .dataframe thead th {\n",
       "        text-align: right;\n",
       "    }\n",
       "</style>\n",
       "<table border=\"1\" class=\"dataframe\">\n",
       "  <thead>\n",
       "    <tr style=\"text-align: right;\">\n",
       "      <th></th>\n",
       "      <th>age_groups</th>\n",
       "      <th>general_health</th>\n",
       "      <th>count</th>\n",
       "    </tr>\n",
       "  </thead>\n",
       "  <tbody>\n",
       "    <tr>\n",
       "      <th>0</th>\n",
       "      <td>18-24</td>\n",
       "      <td>Excellent</td>\n",
       "      <td>118</td>\n",
       "    </tr>\n",
       "    <tr>\n",
       "      <th>1</th>\n",
       "      <td>18-24</td>\n",
       "      <td>Fair</td>\n",
       "      <td>42</td>\n",
       "    </tr>\n",
       "    <tr>\n",
       "      <th>2</th>\n",
       "      <td>18-24</td>\n",
       "      <td>Good</td>\n",
       "      <td>170</td>\n",
       "    </tr>\n",
       "    <tr>\n",
       "      <th>3</th>\n",
       "      <td>18-24</td>\n",
       "      <td>Poor</td>\n",
       "      <td>6</td>\n",
       "    </tr>\n",
       "    <tr>\n",
       "      <th>4</th>\n",
       "      <td>18-24</td>\n",
       "      <td>V. Good</td>\n",
       "      <td>211</td>\n",
       "    </tr>\n",
       "    <tr>\n",
       "      <th>...</th>\n",
       "      <td>...</td>\n",
       "      <td>...</td>\n",
       "      <td>...</td>\n",
       "    </tr>\n",
       "    <tr>\n",
       "      <th>85</th>\n",
       "      <td>Under 18</td>\n",
       "      <td>Good</td>\n",
       "      <td>108</td>\n",
       "    </tr>\n",
       "    <tr>\n",
       "      <th>86</th>\n",
       "      <td>Under 18</td>\n",
       "      <td>Not sure</td>\n",
       "      <td>1</td>\n",
       "    </tr>\n",
       "    <tr>\n",
       "      <th>87</th>\n",
       "      <td>Under 18</td>\n",
       "      <td>Poor</td>\n",
       "      <td>5</td>\n",
       "    </tr>\n",
       "    <tr>\n",
       "      <th>88</th>\n",
       "      <td>Under 18</td>\n",
       "      <td>Refused</td>\n",
       "      <td>2</td>\n",
       "    </tr>\n",
       "    <tr>\n",
       "      <th>89</th>\n",
       "      <td>Under 18</td>\n",
       "      <td>V. Good</td>\n",
       "      <td>98</td>\n",
       "    </tr>\n",
       "  </tbody>\n",
       "</table>\n",
       "<p>90 rows × 3 columns</p>\n",
       "</div>"
      ],
      "text/plain": [
       "   age_groups general_health  count\n",
       "0       18-24      Excellent    118\n",
       "1       18-24           Fair     42\n",
       "2       18-24           Good    170\n",
       "3       18-24           Poor      6\n",
       "4       18-24        V. Good    211\n",
       "..        ...            ...    ...\n",
       "85   Under 18           Good    108\n",
       "86   Under 18       Not sure      1\n",
       "87   Under 18           Poor      5\n",
       "88   Under 18        Refused      2\n",
       "89   Under 18        V. Good     98\n",
       "\n",
       "[90 rows x 3 columns]"
      ]
     },
     "execution_count": 117,
     "metadata": {},
     "output_type": "execute_result"
    }
   ],
   "source": [
    "age_gen_counts"
   ]
  },
  {
   "cell_type": "code",
   "execution_count": 92,
   "metadata": {},
   "outputs": [
    {
     "data": {
      "image/png": "[encoded data removed]",
      "text/plain": [
       "<Figure size 720x432 with 1 Axes>"
      ]
     },
     "metadata": {
      "needs_background": "light"
     },
     "output_type": "display_data"
    }
   ],
   "source": [
    "age_gen_counts_pivot = age_gen_counts.pivot(index='age_groups', columns='general_health', values='count')\n",
    "\n",
    "# Plot the age-adjusted count graph with a stacked bar chart\n",
    "age_gen_counts_pivot.plot(kind='barh', stacked=True, figsize=(10, 6))\n",
    "plt.title('Age-Adjusted Count of Gen Health by Age Group')\n",
    "plt.xlabel('Age Group')\n",
    "plt.xticks(rotation=0)\n",
    "plt.ylabel('Count')\n",
    "plt.show()"
   ]
  },
  {
   "cell_type": "code",
   "execution_count": 121,
   "metadata": {},
   "outputs": [],
   "source": [
    "age_gen_counts_pivot = age_gen_counts_pivot.fillna(0)"
   ]
  },
  {
   "cell_type": "code",
   "execution_count": 142,
   "metadata": {},
   "outputs": [
    {
     "data": {
      "text/plain": [
       "Index(['18-24', '25-29', '30-34', '35-39', '40-44', '45-49', '50-54', '55-59',\n",
       "       '60-64', '65-69', '70-74', '75-79', '80-99', 'Under 18'],\n",
       "      dtype='object', name='age_groups')"
      ]
     },
     "execution_count": 142,
     "metadata": {},
     "output_type": "execute_result"
    }
   ],
   "source": [
    "age_gen_counts_pivot.index"
   ]
  },
  {
   "cell_type": "code",
   "execution_count": 150,
   "metadata": {},
   "outputs": [
    {
     "data": {
      "image/png": "[encoded data removed]",
      "text/plain": [
       "<Figure size 720x576 with 2 Axes>"
      ]
     },
     "metadata": {
      "needs_background": "light"
     },
     "output_type": "display_data"
    }
   ],
   "source": [
    "import matplotlib.pyplot as plt\n",
    "fig, ax = plt.subplots(figsize=(10,8))\n",
    "fmt = '.1f'\n",
    "sns.heatmap(age_gen_counts_pivot, annot=True, fmt=fmt, yticklabels = age_gen_counts_pivot.index, cmap='YlGnBu')\n",
    "# Set the plot title\n",
    "plt.title('Distribution of age and general health')\n",
    "plt.title('Age and General Health', fontsize=16)\n",
    "plt.xlabel('General Health', fontsize=14)\n",
    "plt.ylabel('Age', fontsize=14)\n",
    "plt.yticks(rotation=0, ha='right')\n",
    "# Display the plot\n",
    "plt.show()"
   ]
  },
  {
   "cell_type": "code",
   "execution_count": 83,
   "metadata": {},
   "outputs": [],
   "source": [
    "genheal = pd.crosstab(df_IN_Health['age_groups'], df_IN_Health['general_health'],  normalize='index')"
   ]
  },
  {
   "cell_type": "code",
   "execution_count": 84,
   "metadata": {},
   "outputs": [],
   "source": [
    "genheal\n",
    "age_gen_health = genheal.reset_index()"
   ]
  },
  {
   "cell_type": "code",
   "execution_count": 94,
   "metadata": {},
   "outputs": [
    {
     "data": {
      "image/png": "[encoded data removed]",
      "text/plain": [
       "<Figure size 1080x1728 with 1 Axes>"
      ]
     },
     "metadata": {
      "needs_background": "light"
     },
     "output_type": "display_data"
    }
   ],
   "source": [
    "age_gen_health_melted = pd.melt(age_gen_health, id_vars=['age_groups'], var_name='general_health', value_name='percentage')\n",
    "plt.figure(figsize=(15, 24))\n",
    "sns.barplot(x='percentage', y='age_groups', hue='general_health', data=age_gen_health_melted, orient='h')\n",
    "\n",
    "# add labels and title\n",
    "plt.title('Percentage of General Health Ratings by Age Group', fontsize=14)\n",
    "plt.xlabel('Percentage', fontsize=12)\n",
    "plt.ylabel('Age Group', fontsize=12)\n",
    "\n",
    "# add legend\n",
    "handles, labels = plt.gca().get_legend_handles_labels()\n",
    "plt.legend(handles, labels, bbox_to_anchor=(1.05, 1), loc=2, borderaxespad=0.)\n",
    "\n",
    "# add percentage values on each bar\n",
    "for p in plt.gca().patches:\n",
    "    percentage = '{:.1f}%'.format(p.get_width()*100)\n",
    "    plt.gca().annotate(percentage, (p.get_width(), p.get_y()+0.5*p.get_height()), xytext=(5, 0), textcoords='offset points', ha='left', va='center', fontsize=10)\n",
    "\n",
    "plt.show()"
   ]
  },
  {
   "cell_type": "code",
   "execution_count": 50,
   "metadata": {},
   "outputs": [],
   "source": [
    "def age_adjusted_percentages(row):\n",
    "    age_dist = row / row.sum()\n",
    "    return (age_dist * 100) / age_dist.mean()\n",
    "\n",
    "# Apply the age_adjusted_percentages function to each row of the contingency table\n",
    "ct_age_adjusted = ct.apply(age_adjusted_percentages, axis=1)"
   ]
  },
  {
   "cell_type": "code",
   "execution_count": 51,
   "metadata": {},
   "outputs": [
    {
     "data": {
      "text/html": [
       "<div>\n",
       "<style scoped>\n",
       "    .dataframe tbody tr th:only-of-type {\n",
       "        vertical-align: middle;\n",
       "    }\n",
       "\n",
       "    .dataframe tbody tr th {\n",
       "        vertical-align: top;\n",
       "    }\n",
       "\n",
       "    .dataframe thead th {\n",
       "        text-align: right;\n",
       "    }\n",
       "</style>\n",
       "<table border=\"1\" class=\"dataframe\">\n",
       "  <thead>\n",
       "    <tr style=\"text-align: right;\">\n",
       "      <th>general_health</th>\n",
       "      <th>Excellent</th>\n",
       "      <th>Fair</th>\n",
       "      <th>Good</th>\n",
       "      <th>Not sure</th>\n",
       "      <th>Poor</th>\n",
       "      <th>Refused</th>\n",
       "      <th>V. Good</th>\n",
       "    </tr>\n",
       "    <tr>\n",
       "      <th>age_groups</th>\n",
       "      <th></th>\n",
       "      <th></th>\n",
       "      <th></th>\n",
       "      <th></th>\n",
       "      <th></th>\n",
       "      <th></th>\n",
       "      <th></th>\n",
       "    </tr>\n",
       "  </thead>\n",
       "  <tbody>\n",
       "    <tr>\n",
       "      <th>18-24</th>\n",
       "      <td>151.005484</td>\n",
       "      <td>53.747715</td>\n",
       "      <td>217.550274</td>\n",
       "      <td>0.000000</td>\n",
       "      <td>7.678245</td>\n",
       "      <td>0.000000</td>\n",
       "      <td>270.018282</td>\n",
       "    </tr>\n",
       "    <tr>\n",
       "      <th>25-29</th>\n",
       "      <td>161.995754</td>\n",
       "      <td>72.823779</td>\n",
       "      <td>202.123142</td>\n",
       "      <td>1.486200</td>\n",
       "      <td>17.834395</td>\n",
       "      <td>1.486200</td>\n",
       "      <td>242.250531</td>\n",
       "    </tr>\n",
       "    <tr>\n",
       "      <th>30-34</th>\n",
       "      <td>143.684211</td>\n",
       "      <td>56.491228</td>\n",
       "      <td>246.842105</td>\n",
       "      <td>3.684211</td>\n",
       "      <td>19.649123</td>\n",
       "      <td>1.228070</td>\n",
       "      <td>228.421053</td>\n",
       "    </tr>\n",
       "    <tr>\n",
       "      <th>35-39</th>\n",
       "      <td>153.456998</td>\n",
       "      <td>61.382799</td>\n",
       "      <td>217.200675</td>\n",
       "      <td>0.000000</td>\n",
       "      <td>15.345700</td>\n",
       "      <td>0.000000</td>\n",
       "      <td>252.613828</td>\n",
       "    </tr>\n",
       "    <tr>\n",
       "      <th>40-44</th>\n",
       "      <td>120.454545</td>\n",
       "      <td>76.136364</td>\n",
       "      <td>223.863636</td>\n",
       "      <td>2.272727</td>\n",
       "      <td>22.727273</td>\n",
       "      <td>0.000000</td>\n",
       "      <td>254.545455</td>\n",
       "    </tr>\n",
       "    <tr>\n",
       "      <th>45-49</th>\n",
       "      <td>118.573551</td>\n",
       "      <td>84.249629</td>\n",
       "      <td>213.224368</td>\n",
       "      <td>2.080238</td>\n",
       "      <td>27.043091</td>\n",
       "      <td>1.040119</td>\n",
       "      <td>253.789004</td>\n",
       "    </tr>\n",
       "    <tr>\n",
       "      <th>50-54</th>\n",
       "      <td>115.981199</td>\n",
       "      <td>88.014101</td>\n",
       "      <td>243.478261</td>\n",
       "      <td>0.822562</td>\n",
       "      <td>34.547591</td>\n",
       "      <td>0.822562</td>\n",
       "      <td>216.333725</td>\n",
       "    </tr>\n",
       "    <tr>\n",
       "      <th>55-59</th>\n",
       "      <td>110.774411</td>\n",
       "      <td>106.060606</td>\n",
       "      <td>205.050505</td>\n",
       "      <td>0.785634</td>\n",
       "      <td>58.136925</td>\n",
       "      <td>0.785634</td>\n",
       "      <td>218.406285</td>\n",
       "    </tr>\n",
       "    <tr>\n",
       "      <th>60-64</th>\n",
       "      <td>85.316699</td>\n",
       "      <td>106.813820</td>\n",
       "      <td>236.468330</td>\n",
       "      <td>2.015355</td>\n",
       "      <td>49.040307</td>\n",
       "      <td>0.000000</td>\n",
       "      <td>220.345489</td>\n",
       "    </tr>\n",
       "    <tr>\n",
       "      <th>65-69</th>\n",
       "      <td>83.539095</td>\n",
       "      <td>110.185185</td>\n",
       "      <td>240.534979</td>\n",
       "      <td>2.880658</td>\n",
       "      <td>43.209877</td>\n",
       "      <td>0.720165</td>\n",
       "      <td>218.930041</td>\n",
       "    </tr>\n",
       "    <tr>\n",
       "      <th>70-74</th>\n",
       "      <td>68.750000</td>\n",
       "      <td>109.375000</td>\n",
       "      <td>262.500000</td>\n",
       "      <td>0.781250</td>\n",
       "      <td>39.062500</td>\n",
       "      <td>0.000000</td>\n",
       "      <td>219.531250</td>\n",
       "    </tr>\n",
       "    <tr>\n",
       "      <th>75-79</th>\n",
       "      <td>59.855072</td>\n",
       "      <td>98.405797</td>\n",
       "      <td>251.594203</td>\n",
       "      <td>2.028986</td>\n",
       "      <td>47.681159</td>\n",
       "      <td>3.043478</td>\n",
       "      <td>237.391304</td>\n",
       "    </tr>\n",
       "    <tr>\n",
       "      <th>80-99</th>\n",
       "      <td>60.794045</td>\n",
       "      <td>120.719603</td>\n",
       "      <td>263.151365</td>\n",
       "      <td>0.868486</td>\n",
       "      <td>56.451613</td>\n",
       "      <td>0.000000</td>\n",
       "      <td>198.014888</td>\n",
       "    </tr>\n",
       "    <tr>\n",
       "      <th>Under 18</th>\n",
       "      <td>155.305466</td>\n",
       "      <td>63.022508</td>\n",
       "      <td>243.086817</td>\n",
       "      <td>2.250804</td>\n",
       "      <td>11.254019</td>\n",
       "      <td>4.501608</td>\n",
       "      <td>220.578778</td>\n",
       "    </tr>\n",
       "  </tbody>\n",
       "</table>\n",
       "</div>"
      ],
      "text/plain": [
       "general_health   Excellent        Fair        Good  Not sure       Poor  \\\n",
       "age_groups                                                                \n",
       "18-24           151.005484   53.747715  217.550274  0.000000   7.678245   \n",
       "25-29           161.995754   72.823779  202.123142  1.486200  17.834395   \n",
       "30-34           143.684211   56.491228  246.842105  3.684211  19.649123   \n",
       "35-39           153.456998   61.382799  217.200675  0.000000  15.345700   \n",
       "40-44           120.454545   76.136364  223.863636  2.272727  22.727273   \n",
       "45-49           118.573551   84.249629  213.224368  2.080238  27.043091   \n",
       "50-54           115.981199   88.014101  243.478261  0.822562  34.547591   \n",
       "55-59           110.774411  106.060606  205.050505  0.785634  58.136925   \n",
       "60-64            85.316699  106.813820  236.468330  2.015355  49.040307   \n",
       "65-69            83.539095  110.185185  240.534979  2.880658  43.209877   \n",
       "70-74            68.750000  109.375000  262.500000  0.781250  39.062500   \n",
       "75-79            59.855072   98.405797  251.594203  2.028986  47.681159   \n",
       "80-99            60.794045  120.719603  263.151365  0.868486  56.451613   \n",
       "Under 18        155.305466   63.022508  243.086817  2.250804  11.254019   \n",
       "\n",
       "general_health   Refused     V. Good  \n",
       "age_groups                            \n",
       "18-24           0.000000  270.018282  \n",
       "25-29           1.486200  242.250531  \n",
       "30-34           1.228070  228.421053  \n",
       "35-39           0.000000  252.613828  \n",
       "40-44           0.000000  254.545455  \n",
       "45-49           1.040119  253.789004  \n",
       "50-54           0.822562  216.333725  \n",
       "55-59           0.785634  218.406285  \n",
       "60-64           0.000000  220.345489  \n",
       "65-69           0.720165  218.930041  \n",
       "70-74           0.000000  219.531250  \n",
       "75-79           3.043478  237.391304  \n",
       "80-99           0.000000  198.014888  \n",
       "Under 18        4.501608  220.578778  "
      ]
     },
     "execution_count": 51,
     "metadata": {},
     "output_type": "execute_result"
    }
   ],
   "source": [
    "ct_age_adjusted"
   ]
  },
  {
   "cell_type": "markdown",
   "metadata": {},
   "source": [
    "# Poor physical health days Average number of physically unhealthy days reported in past 30 days (age-adjusted)."
   ]
  },
  {
   "cell_type": "code",
   "execution_count": 154,
   "metadata": {},
   "outputs": [
    {
     "name": "stderr",
     "output_type": "stream",
     "text": [
      "<ipython-input-154-079181eb0df0>:1: SettingWithCopyWarning: \n",
      "A value is trying to be set on a copy of a slice from a DataFrame.\n",
      "Try using .loc[row_indexer,col_indexer] = value instead\n",
      "\n",
      "See the caveats in the documentation: https://pandas.pydata.org/pandas-docs/stable/user_guide/indexing.html#returning-a-view-versus-a-copy\n",
      "  df_IN_Health['poorhlth'] = df_IN_Health['poorhlth'].replace({88: np.nan, 77: np.nan, 99: np.nan})\n"
     ]
    }
   ],
   "source": [
    "df_IN_Health['poorhlth'] = df_IN_Health['poorhlth'].replace({88: np.nan, 77: np.nan, 99: np.nan})"
   ]
  },
  {
   "cell_type": "code",
   "execution_count": 172,
   "metadata": {},
   "outputs": [],
   "source": [
    "df_heatmap = df_IN_Health.groupby('age_groups')['poorhlth'].mean().reset_index()"
   ]
  },
  {
   "cell_type": "code",
   "execution_count": 173,
   "metadata": {},
   "outputs": [
    {
     "data": {
      "text/html": [
       "<div>\n",
       "<style scoped>\n",
       "    .dataframe tbody tr th:only-of-type {\n",
       "        vertical-align: middle;\n",
       "    }\n",
       "\n",
       "    .dataframe tbody tr th {\n",
       "        vertical-align: top;\n",
       "    }\n",
       "\n",
       "    .dataframe thead th {\n",
       "        text-align: right;\n",
       "    }\n",
       "</style>\n",
       "<table border=\"1\" class=\"dataframe\">\n",
       "  <thead>\n",
       "    <tr style=\"text-align: right;\">\n",
       "      <th></th>\n",
       "      <th>age_groups</th>\n",
       "      <th>poorhlth</th>\n",
       "    </tr>\n",
       "  </thead>\n",
       "  <tbody>\n",
       "    <tr>\n",
       "      <th>0</th>\n",
       "      <td>18-24</td>\n",
       "      <td>8.440594</td>\n",
       "    </tr>\n",
       "    <tr>\n",
       "      <th>1</th>\n",
       "      <td>25-29</td>\n",
       "      <td>9.227848</td>\n",
       "    </tr>\n",
       "    <tr>\n",
       "      <th>2</th>\n",
       "      <td>30-34</td>\n",
       "      <td>8.837500</td>\n",
       "    </tr>\n",
       "    <tr>\n",
       "      <th>3</th>\n",
       "      <td>35-39</td>\n",
       "      <td>9.156463</td>\n",
       "    </tr>\n",
       "    <tr>\n",
       "      <th>4</th>\n",
       "      <td>40-44</td>\n",
       "      <td>10.662162</td>\n",
       "    </tr>\n",
       "    <tr>\n",
       "      <th>5</th>\n",
       "      <td>45-49</td>\n",
       "      <td>11.284024</td>\n",
       "    </tr>\n",
       "    <tr>\n",
       "      <th>6</th>\n",
       "      <td>50-54</td>\n",
       "      <td>11.277056</td>\n",
       "    </tr>\n",
       "    <tr>\n",
       "      <th>7</th>\n",
       "      <td>55-59</td>\n",
       "      <td>13.687500</td>\n",
       "    </tr>\n",
       "    <tr>\n",
       "      <th>8</th>\n",
       "      <td>60-64</td>\n",
       "      <td>13.632184</td>\n",
       "    </tr>\n",
       "    <tr>\n",
       "      <th>9</th>\n",
       "      <td>65-69</td>\n",
       "      <td>13.544118</td>\n",
       "    </tr>\n",
       "    <tr>\n",
       "      <th>10</th>\n",
       "      <td>70-74</td>\n",
       "      <td>12.415663</td>\n",
       "    </tr>\n",
       "    <tr>\n",
       "      <th>11</th>\n",
       "      <td>75-79</td>\n",
       "      <td>14.291339</td>\n",
       "    </tr>\n",
       "    <tr>\n",
       "      <th>12</th>\n",
       "      <td>80-99</td>\n",
       "      <td>15.835938</td>\n",
       "    </tr>\n",
       "    <tr>\n",
       "      <th>13</th>\n",
       "      <td>Under 18</td>\n",
       "      <td>11.416667</td>\n",
       "    </tr>\n",
       "  </tbody>\n",
       "</table>\n",
       "</div>"
      ],
      "text/plain": [
       "   age_groups   poorhlth\n",
       "0       18-24   8.440594\n",
       "1       25-29   9.227848\n",
       "2       30-34   8.837500\n",
       "3       35-39   9.156463\n",
       "4       40-44  10.662162\n",
       "5       45-49  11.284024\n",
       "6       50-54  11.277056\n",
       "7       55-59  13.687500\n",
       "8       60-64  13.632184\n",
       "9       65-69  13.544118\n",
       "10      70-74  12.415663\n",
       "11      75-79  14.291339\n",
       "12      80-99  15.835938\n",
       "13   Under 18  11.416667"
      ]
     },
     "execution_count": 173,
     "metadata": {},
     "output_type": "execute_result"
    }
   ],
   "source": [
    "df_heatmap"
   ]
  },
  {
   "cell_type": "markdown",
   "metadata": {},
   "source": [
    "# iii. Poor mental health days Average number of mentally unhealthy days reported in past 30 days (age-adjusted)."
   ]
  },
  {
   "cell_type": "code",
   "execution_count": 179,
   "metadata": {},
   "outputs": [
    {
     "name": "stderr",
     "output_type": "stream",
     "text": [
      "<ipython-input-179-614b43fc00df>:1: SettingWithCopyWarning: \n",
      "A value is trying to be set on a copy of a slice from a DataFrame.\n",
      "Try using .loc[row_indexer,col_indexer] = value instead\n",
      "\n",
      "See the caveats in the documentation: https://pandas.pydata.org/pandas-docs/stable/user_guide/indexing.html#returning-a-view-versus-a-copy\n",
      "  df_IN_Health['menthlth'] = df_IN_Health['menthlth'].replace({88: np.nan, 77: np.nan, 99: np.nan})\n"
     ]
    }
   ],
   "source": [
    "df_IN_Health['menthlth'] = df_IN_Health['menthlth'].replace({88: np.nan, 77: np.nan, 99: np.nan})"
   ]
  },
  {
   "cell_type": "code",
   "execution_count": 180,
   "metadata": {},
   "outputs": [
    {
     "data": {
      "text/html": [
       "<div>\n",
       "<style scoped>\n",
       "    .dataframe tbody tr th:only-of-type {\n",
       "        vertical-align: middle;\n",
       "    }\n",
       "\n",
       "    .dataframe tbody tr th {\n",
       "        vertical-align: top;\n",
       "    }\n",
       "\n",
       "    .dataframe thead th {\n",
       "        text-align: right;\n",
       "    }\n",
       "</style>\n",
       "<table border=\"1\" class=\"dataframe\">\n",
       "  <thead>\n",
       "    <tr style=\"text-align: right;\">\n",
       "      <th></th>\n",
       "      <th>age_groups</th>\n",
       "      <th>menthlth</th>\n",
       "    </tr>\n",
       "  </thead>\n",
       "  <tbody>\n",
       "    <tr>\n",
       "      <th>0</th>\n",
       "      <td>18-24</td>\n",
       "      <td>12.123894</td>\n",
       "    </tr>\n",
       "    <tr>\n",
       "      <th>1</th>\n",
       "      <td>25-29</td>\n",
       "      <td>12.031034</td>\n",
       "    </tr>\n",
       "    <tr>\n",
       "      <th>2</th>\n",
       "      <td>30-34</td>\n",
       "      <td>11.288462</td>\n",
       "    </tr>\n",
       "    <tr>\n",
       "      <th>3</th>\n",
       "      <td>35-39</td>\n",
       "      <td>11.249147</td>\n",
       "    </tr>\n",
       "    <tr>\n",
       "      <th>4</th>\n",
       "      <td>40-44</td>\n",
       "      <td>11.754386</td>\n",
       "    </tr>\n",
       "    <tr>\n",
       "      <th>5</th>\n",
       "      <td>45-49</td>\n",
       "      <td>11.242537</td>\n",
       "    </tr>\n",
       "    <tr>\n",
       "      <th>6</th>\n",
       "      <td>50-54</td>\n",
       "      <td>10.532934</td>\n",
       "    </tr>\n",
       "    <tr>\n",
       "      <th>7</th>\n",
       "      <td>55-59</td>\n",
       "      <td>13.224432</td>\n",
       "    </tr>\n",
       "    <tr>\n",
       "      <th>8</th>\n",
       "      <td>60-64</td>\n",
       "      <td>11.982090</td>\n",
       "    </tr>\n",
       "    <tr>\n",
       "      <th>9</th>\n",
       "      <td>65-69</td>\n",
       "      <td>10.065455</td>\n",
       "    </tr>\n",
       "    <tr>\n",
       "      <th>10</th>\n",
       "      <td>70-74</td>\n",
       "      <td>10.009132</td>\n",
       "    </tr>\n",
       "    <tr>\n",
       "      <th>11</th>\n",
       "      <td>75-79</td>\n",
       "      <td>9.065789</td>\n",
       "    </tr>\n",
       "    <tr>\n",
       "      <th>12</th>\n",
       "      <td>80-99</td>\n",
       "      <td>8.901235</td>\n",
       "    </tr>\n",
       "    <tr>\n",
       "      <th>13</th>\n",
       "      <td>Under 18</td>\n",
       "      <td>8.428571</td>\n",
       "    </tr>\n",
       "  </tbody>\n",
       "</table>\n",
       "</div>"
      ],
      "text/plain": [
       "   age_groups   menthlth\n",
       "0       18-24  12.123894\n",
       "1       25-29  12.031034\n",
       "2       30-34  11.288462\n",
       "3       35-39  11.249147\n",
       "4       40-44  11.754386\n",
       "5       45-49  11.242537\n",
       "6       50-54  10.532934\n",
       "7       55-59  13.224432\n",
       "8       60-64  11.982090\n",
       "9       65-69  10.065455\n",
       "10      70-74  10.009132\n",
       "11      75-79   9.065789\n",
       "12      80-99   8.901235\n",
       "13   Under 18   8.428571"
      ]
     },
     "execution_count": 180,
     "metadata": {},
     "output_type": "execute_result"
    }
   ],
   "source": [
    "df_heatmap = df_IN_Health.groupby('age_groups')['menthlth'].mean().reset_index()\n",
    "df_heatmap"
   ]
  },
  {
   "cell_type": "markdown",
   "metadata": {},
   "source": [
    "# Tobacco Use\n",
    "\n"
   ]
  },
  {
   "cell_type": "markdown",
   "metadata": {},
   "source": [
    "# i. Adult smoking Percentage of adults who are current smokers (age-adjusted)."
   ]
  },
  {
   "cell_type": "code",
   "execution_count": 184,
   "metadata": {},
   "outputs": [
    {
     "data": {
      "text/plain": [
       "4    5374\n",
       "3    2488\n",
       "1    1057\n",
       "9     657\n",
       "2     353\n",
       "Name: x.smoker3, dtype: int64"
      ]
     },
     "execution_count": 184,
     "metadata": {},
     "output_type": "execute_result"
    }
   ],
   "source": [
    "df_IN_Health['x.smoker3'].value_counts()"
   ]
  },
  {
   "cell_type": "code",
   "execution_count": 185,
   "metadata": {},
   "outputs": [
    {
     "name": "stderr",
     "output_type": "stream",
     "text": [
      "<ipython-input-185-93229dd6e434>:1: SettingWithCopyWarning: \n",
      "A value is trying to be set on a copy of a slice from a DataFrame.\n",
      "Try using .loc[row_indexer,col_indexer] = value instead\n",
      "\n",
      "See the caveats in the documentation: https://pandas.pydata.org/pandas-docs/stable/user_guide/indexing.html#returning-a-view-versus-a-copy\n",
      "  df_IN_Health['smoker_status'] = df_IN_Health['x.smoker3'].replace({1: 'Yes', 2: 'Yes', 3: 'No',4:'No',9:np.nan})\n"
     ]
    }
   ],
   "source": [
    "df_IN_Health['smoker_status'] = df_IN_Health['x.smoker3'].replace({1: 'Yes', 2: 'Yes', 3: 'No',4:'No',9:np.nan})"
   ]
  },
  {
   "cell_type": "code",
   "execution_count": 188,
   "metadata": {},
   "outputs": [
    {
     "data": {
      "image/png": "[encoded data removed]",
      "text/plain": [
       "<Figure size 720x576 with 2 Axes>"
      ]
     },
     "metadata": {
      "needs_background": "light"
     },
     "output_type": "display_data"
    }
   ],
   "source": [
    "age_smoke_counts = df_IN_Health.groupby(['age_groups', 'smoker_status']).size().reset_index(name='count')\n",
    "age_smoke_counts_pivot = age_smoke_counts.pivot(index='age_groups', columns='smoker_status', values='count')\n",
    "import matplotlib.pyplot as plt\n",
    "fig, ax = plt.subplots(figsize=(10,8))\n",
    "fmt = '.1f'\n",
    "sns.heatmap(age_smoke_counts_pivot, annot=True, fmt=fmt, yticklabels = age_smoke_counts_pivot.index, cmap='YlGnBu')\n",
    "# Set the plot title\n",
    "plt.title('Distribution of age and general health')\n",
    "plt.title('Age and Current Smoking Status Distribution', fontsize=16)\n",
    "plt.xlabel('Current Smoking Status', fontsize=14)\n",
    "plt.ylabel('Age', fontsize=14)\n",
    "plt.yticks(rotation=0, ha='right')\n",
    "# Display the plot\n",
    "plt.show()"
   ]
  },
  {
   "cell_type": "markdown",
   "metadata": {},
   "source": [
    "# 3. Diet and Exercise\n",
    "\n",
    "# i. Adult obesity Percentage of the adult population (age 18 and older) that reports a body mass index (BMI) greater than or equal to 30 kg/m2 (age-adjusted).\n",
    "\n",
    " # ii. Physical inactivity\tPercentage of adults age 18 and over reporting no leisure-time physical activity (age-adjusted). "
   ]
  },
  {
   "cell_type": "code",
   "execution_count": 191,
   "metadata": {},
   "outputs": [
    {
     "data": {
      "text/plain": [
       "2    6130\n",
       "1    2534\n",
       "9    1265\n",
       "Name: x.rfbmi5, dtype: int64"
      ]
     },
     "execution_count": 191,
     "metadata": {},
     "output_type": "execute_result"
    }
   ],
   "source": [
    "df_IN_Health['x.rfbmi5'].value_counts()"
   ]
  },
  {
   "cell_type": "code",
   "execution_count": null,
   "metadata": {},
   "outputs": [],
   "source": [
    "'''\n",
    "1: No\n",
    "2: Yes\n",
    "9: Refused\n",
    "'''"
   ]
  },
  {
   "cell_type": "code",
   "execution_count": 193,
   "metadata": {},
   "outputs": [
    {
     "data": {
      "text/plain": [
       "1.0    7251\n",
       "2.0    2648\n",
       "7.0      20\n",
       "9.0      10\n",
       "Name: exerany2, dtype: int64"
      ]
     },
     "execution_count": 193,
     "metadata": {},
     "output_type": "execute_result"
    }
   ],
   "source": [
    "df_IN_Health['exerany2'].value_counts()\n"
   ]
  },
  {
   "cell_type": "code",
   "execution_count": 194,
   "metadata": {},
   "outputs": [
    {
     "data": {
      "text/plain": [
       "'\\n1: Yes\\n2: No\\n7: Not sure\\n9: Refused\\n'"
      ]
     },
     "execution_count": 194,
     "metadata": {},
     "output_type": "execute_result"
    }
   ],
   "source": [
    "'''\n",
    "1: Yes\n",
    "2: No\n",
    "7: Not sure\n",
    "9: Refused\n",
    "'''"
   ]
  },
  {
   "cell_type": "code",
   "execution_count": 195,
   "metadata": {},
   "outputs": [
    {
     "name": "stderr",
     "output_type": "stream",
     "text": [
      "<ipython-input-195-f4a8272340eb>:1: SettingWithCopyWarning: \n",
      "A value is trying to be set on a copy of a slice from a DataFrame.\n",
      "Try using .loc[row_indexer,col_indexer] = value instead\n",
      "\n",
      "See the caveats in the documentation: https://pandas.pydata.org/pandas-docs/stable/user_guide/indexing.html#returning-a-view-versus-a-copy\n",
      "  df_IN_Health['bmi_g30'] = df_IN_Health['x.rfbmi5'].replace({1: 'No', 2: 'Yes',9:np.nan})\n",
      "<ipython-input-195-f4a8272340eb>:2: SettingWithCopyWarning: \n",
      "A value is trying to be set on a copy of a slice from a DataFrame.\n",
      "Try using .loc[row_indexer,col_indexer] = value instead\n",
      "\n",
      "See the caveats in the documentation: https://pandas.pydata.org/pandas-docs/stable/user_guide/indexing.html#returning-a-view-versus-a-copy\n",
      "  df_IN_Health['in_phy'] = df_IN_Health['exerany2'].replace({1: 'Yes', 2: 'No',7:np.nan,9:np.nan})\n"
     ]
    }
   ],
   "source": [
    "df_IN_Health['bmi_g30'] = df_IN_Health['x.rfbmi5'].replace({1: 'No', 2: 'Yes',9:np.nan})\n",
    "df_IN_Health['in_phy'] = df_IN_Health['exerany2'].replace({1: 'Yes', 2: 'No',7:np.nan,9:np.nan})"
   ]
  },
  {
   "cell_type": "code",
   "execution_count": 196,
   "metadata": {},
   "outputs": [
    {
     "data": {
      "image/png": "[encoded data removed]",
      "text/plain": [
       "<Figure size 720x576 with 2 Axes>"
      ]
     },
     "metadata": {
      "needs_background": "light"
     },
     "output_type": "display_data"
    }
   ],
   "source": [
    "age_bmi_counts = df_IN_Health.groupby(['age_groups', 'bmi_g30']).size().reset_index(name='count')\n",
    "age_bmi_counts_pivot = age_bmi_counts.pivot(index='age_groups', columns='bmi_g30', values='count')\n",
    "import matplotlib.pyplot as plt\n",
    "fig, ax = plt.subplots(figsize=(10,8))\n",
    "fmt = '.1f'\n",
    "sns.heatmap(age_bmi_counts_pivot, annot=True, fmt=fmt, yticklabels = age_bmi_counts_pivot.index, cmap='YlGnBu')\n",
    "# Set the plot title\n",
    "plt.title('Distribution of age and BMI Grater or Equal to 30Kg/m^2',fontsize=16 )\n",
    "#plt.title('Age and Current Smoking Status Distribution', fontsize=16)\n",
    "plt.xlabel('BMI Grater or Equal to 30Kg/m^2', fontsize=14)\n",
    "plt.ylabel('Age', fontsize=14)\n",
    "plt.yticks(rotation=0, ha='right')\n",
    "# Display the plot\n",
    "plt.show()"
   ]
  },
  {
   "cell_type": "code",
   "execution_count": 199,
   "metadata": {},
   "outputs": [
    {
     "data": {
      "image/png": "[encoded data removed]",
      "text/plain": [
       "<Figure size 720x576 with 2 Axes>"
      ]
     },
     "metadata": {
      "needs_background": "light"
     },
     "output_type": "display_data"
    }
   ],
   "source": [
    "age_phy_counts = df_IN_Health.groupby(['age_groups', 'in_phy']).size().reset_index(name='count')\n",
    "age_phy_counts_pivot = age_phy_counts.pivot(index='age_groups', columns='in_phy', values='count')\n",
    "import matplotlib.pyplot as plt\n",
    "fig, ax = plt.subplots(figsize=(10,8))\n",
    "fmt = '.1f'\n",
    "sns.heatmap(age_phy_counts_pivot, annot=True, fmt=fmt, yticklabels = age_phy_counts_pivot.index, cmap='YlGnBu')\n",
    "# Set the plot title\n",
    "plt.title('Age and Inactivity of Physical inactivity Status Distribution', fontsize=16)\n",
    "plt.xlabel('Physical inactivity Status', fontsize=14)\n",
    "plt.ylabel('Age', fontsize=14)\n",
    "plt.yticks(rotation=0, ha='right')\n",
    "# Display the plot\n",
    "plt.show()"
   ]
  },
  {
   "cell_type": "markdown",
   "metadata": {},
   "source": []
  },
  {
   "cell_type": "code",
   "execution_count": null,
   "metadata": {},
   "outputs": [],
   "source": []
  },
  {
   "cell_type": "code",
   "execution_count": null,
   "metadata": {},
   "outputs": [],
   "source": []
  },
  {
   "cell_type": "code",
   "execution_count": null,
   "metadata": {},
   "outputs": [],
   "source": []
  },
  {
   "cell_type": "code",
   "execution_count": null,
   "metadata": {},
   "outputs": [],
   "source": []
  },
  {
   "cell_type": "code",
   "execution_count": null,
   "metadata": {},
   "outputs": [],
   "source": []
  },
  {
   "cell_type": "code",
   "execution_count": null,
   "metadata": {},
   "outputs": [],
   "source": []
  },
  {
   "cell_type": "code",
   "execution_count": null,
   "metadata": {},
   "outputs": [],
   "source": []
  },
  {
   "cell_type": "code",
   "execution_count": 14,
   "metadata": {},
   "outputs": [
    {
     "data": {
      "image/png": "[encoded data removed]",
      "text/plain": [
       "<Figure size 432x288 with 1 Axes>"
      ]
     },
     "metadata": {
      "needs_background": "light"
     },
     "output_type": "display_data"
    }
   ],
   "source": [
    "genhlth_dict = dict(df_IN_Health['genhlth'].value_counts()/len(df_IN_Health))\n",
    "\n",
    "# print(genhlth_key)\n",
    "# print(genhlth_dict)\n",
    "\n",
    "new_dict = {}\n",
    "for i in genhlth_dict:\n",
    "    new_dict[genhlth_key[i]] = genhlth_dict[i]\n",
    "# print('\\nUpdated dict:', new_dict)\n",
    "\n",
    "import matplotlib.pyplot as plt\n",
    "names = list(new_dict.keys())\n",
    "values = list(new_dict.values())\n",
    "\n",
    "colors = ['red' if ((xi == 'Fair') or (xi == 'Poor')) else 'blue' for xi in names]\n",
    "\n",
    "# Create a figure and axis object\n",
    "fig, ax = plt.subplots()\n",
    "\n",
    "# Plot the bars with different colors\n",
    "ax.bar(names, values, color=colors)\n",
    "\n",
    "# Set the labels and title\n",
    "ax.set_xlabel('genhlth')\n",
    "ax.set_ylabel('count %')\n",
    "ax.set_title('Health status report')\n",
    "\n",
    "# Show the plot\n",
    "plt.show()"
   ]
  },
  {
   "cell_type": "code",
   "execution_count": 30,
   "metadata": {},
   "outputs": [
    {
     "data": {
      "image/png": "[encoded data removed]",
      "text/plain": [
       "<Figure size 432x288 with 1 Axes>"
      ]
     },
     "metadata": {
      "needs_background": "light"
     },
     "output_type": "display_data"
    }
   ],
   "source": [
    "df_IN_Health_30 = df_IN_Health[(df_IN_Health['iyear']==2021) & (df_IN_Health['imonth']==12)]\n",
    "\n",
    "genhlth_dict = dict(df_IN_Health_30['genhlth'].value_counts()/len(df_IN_Health_30))\n",
    "genhlth_key = {1.0 :'Excellent', 2.0:'V. Good', 3.0:'Good', 4.0:'Fair', 5.0:'Poor', 7.0:'Notsure', 9.0:'Refused'}\n",
    "# print(genhlth_key)\n",
    "# print(genhlth_dict)\n",
    "\n",
    "new_dict = {}\n",
    "for i in genhlth_dict:\n",
    "    new_dict[genhlth_key[i]] = genhlth_dict[i]\n",
    "# print('\\nUpdated dict:', new_dict)\n",
    "\n",
    "import matplotlib.pyplot as plt\n",
    "names = list(new_dict.keys())\n",
    "values = list(new_dict.values())\n",
    "\n",
    "colors = ['red' if (xi == 'Poor') else 'blue' for xi in names]\n",
    "\n",
    "# Create a figure and axis object\n",
    "fig, ax = plt.subplots()\n",
    "\n",
    "# Plot the bars\n",
    "bars = ax.bar(names, values)\n",
    "\n",
    "# Plot the bars with different colors\n",
    "ax.bar(names, values, color=colors)\n",
    "\n",
    "# Set the labels and title\n",
    "ax.set_xlabel('genhlth')\n",
    "ax.set_ylabel('count %')\n",
    "ax.set_title('Past 30 days Health status report')\n",
    "\n",
    "# Show the plot\n",
    "plt.show()"
   ]
  },
  {
   "cell_type": "markdown",
   "metadata": {},
   "source": [
    "### 1.2. Poor physical health days: Average number of physically unhealthy days reported in past 30 days (age-adjusted)."
   ]
  },
  {
   "cell_type": "code",
   "execution_count": 31,
   "metadata": {},
   "outputs": [
    {
     "data": {
      "image/png": "[encoded data removed]",
      "text/plain": [
       "<Figure size 432x288 with 1 Axes>"
      ]
     },
     "metadata": {
      "needs_background": "light"
     },
     "output_type": "display_data"
    },
    {
     "data": {
      "image/png": "[encoded data removed]",
      "text/plain": [
       "<Figure size 432x288 with 1 Axes>"
      ]
     },
     "metadata": {
      "needs_background": "light"
     },
     "output_type": "display_data"
    }
   ],
   "source": [
    "# physhlth - Poor physical health days\n",
    "\n",
    "df_IN_Health_30 = df_IN_Health[(df_IN_Health['iyear']==2021) & (df_IN_Health['imonth']==12)]\n",
    "\n",
    "genhlth_dict = dict(df_IN_Health_30['physhlth'].value_counts()/len(df_IN_Health_30))\n",
    "\n",
    "sns.countplot(data=df_IN_Health_30, x=\"physhlth\")\n",
    "'''\n",
    "1-30: No of days\n",
    "88:   None\n",
    "77:   Not sure\n",
    "99:   Refused\n",
    "'''\n",
    "\n",
    "\n",
    "genhlth_dict = dict(df_IN_Health['physhlth'].value_counts()/len(df_IN_Health))\n",
    "\n",
    "\n",
    "import matplotlib.pyplot as plt\n",
    "names = list(genhlth_dict.keys())\n",
    "values = list(genhlth_dict.values())\n",
    "\n",
    "# Create a figure and axis object\n",
    "fig, ax = plt.subplots()\n",
    "\n",
    "# Plot the bars with different colors\n",
    "ax.bar(names, values)\n",
    "\n",
    "# Set the labels and title\n",
    "ax.set_xlabel('physhlth')\n",
    "ax.set_ylabel('count %')\n",
    "ax.set_title('Physical Health status report')\n",
    "\n",
    "# Show the plot\n",
    "plt.show()"
   ]
  },
  {
   "cell_type": "markdown",
   "metadata": {},
   "source": [
    "### 1.3. Poor mental health days: Average number of mentally unhealthy days reported in past 30 days (age-adjusted)."
   ]
  },
  {
   "cell_type": "code",
   "execution_count": 32,
   "metadata": {},
   "outputs": [
    {
     "data": {
      "image/png": "[encoded data removed]",
      "text/plain": [
       "<Figure size 432x288 with 1 Axes>"
      ]
     },
     "metadata": {
      "needs_background": "light"
     },
     "output_type": "display_data"
    },
    {
     "data": {
      "image/png": "[encoded data removed]",
      "text/plain": [
       "<Figure size 432x288 with 1 Axes>"
      ]
     },
     "metadata": {},
     "output_type": "display_data"
    }
   ],
   "source": [
    "# menthlth - Poor mental health days\n",
    "\n",
    "df_IN_Health_30 = df_IN_Health[(df_IN_Health['iyear']==2021) & (df_IN_Health['imonth']==12)]\n",
    "\n",
    "genhlth_dict = dict(df_IN_Health_30['menthlth'].value_counts()/len(df_IN_Health_30))\n",
    "\n",
    "sns.countplot(data=df_IN_Health_30, x=\"menthlth\")\n",
    "'''\n",
    "1-30: No of days\n",
    "88:   None\n",
    "77:   Not sure\n",
    "99:   Refused\n",
    "'''\n",
    "\n",
    "import matplotlib.pyplot as plt\n",
    "names = list(genhlth_dict.keys())\n",
    "values = list(genhlth_dict.values())\n",
    "\n",
    "\n",
    "# Create a figure and axis object\n",
    "fig, ax = plt.subplots()\n",
    "\n",
    "# Plot the pie chart\n",
    "ax.pie(values, labels=names, autopct='%1.1f%%')\n",
    "\n",
    "# Set the title\n",
    "ax.set_title('Pie Chart')\n",
    "\n",
    "# Show the plot\n",
    "plt.show()"
   ]
  },
  {
   "cell_type": "markdown",
   "metadata": {},
   "source": [
    "## 2. Tobacco USe"
   ]
  },
  {
   "cell_type": "markdown",
   "metadata": {},
   "source": [
    "### 2.1. Adult Smoking: Percentage of adults who are current smokers (age-adjusted)."
   ]
  },
  {
   "cell_type": "code",
   "execution_count": 33,
   "metadata": {},
   "outputs": [],
   "source": [
    "# sns.countplot(data=df_IN_Health, x=\"x.smoker3\")"
   ]
  },
  {
   "cell_type": "code",
   "execution_count": 34,
   "metadata": {},
   "outputs": [
    {
     "data": {
      "image/png": "[encoded data removed]",
      "text/plain": [
       "<Figure size 432x288 with 1 Axes>"
      ]
     },
     "metadata": {
      "needs_background": "light"
     },
     "output_type": "display_data"
    }
   ],
   "source": [
    "genhlth_dict = dict(df_IN_Health['x.smoker3'].value_counts()/len(df_IN_Health))\n",
    "genhlth_key = {1 :'Everyday', 2:'Someday', 3:'Former', 4:'Never', 9:'Refused'}\n",
    "# print(genhlth_key)\n",
    "# print(genhlth_dict)\n",
    "\n",
    "new_dict = {}\n",
    "for i in genhlth_dict:\n",
    "    new_dict[genhlth_key[i]] = genhlth_dict[i]\n",
    "# print('\\nUpdated dict:', new_dict)\n",
    "\n",
    "import matplotlib.pyplot as plt\n",
    "names = list(new_dict.keys())\n",
    "values = list(new_dict.values())\n",
    "\n",
    "# plt.bar(range(len(new_dict)), values, tick_label=names)\n",
    "# plt.xlabel('smoker')\n",
    "# plt.ylabel('count (%)')\n",
    "# plt.title('Smoking status report')\n",
    "# plt.show()\n",
    "\n",
    "\n",
    "colors = ['red' if (xi == 'Everyday') else 'blue' for xi in names]\n",
    "\n",
    "# Create a figure and axis object\n",
    "fig, ax = plt.subplots()\n",
    "\n",
    "# Plot the bars\n",
    "bars = ax.bar(names, values)\n",
    "\n",
    "# Plot the bars with different colors\n",
    "ax.bar(names, values, color=colors)\n",
    "\n",
    "# Set the labels and title\n",
    "ax.set_xlabel('smoker')\n",
    "ax.set_ylabel('count %')\n",
    "ax.set_title('Smoking status report')\n",
    "\n",
    "# Show the plot\n",
    "plt.show()"
   ]
  },
  {
   "cell_type": "markdown",
   "metadata": {},
   "source": [
    "## 3. Diet & Exercise"
   ]
  },
  {
   "cell_type": "markdown",
   "metadata": {},
   "source": [
    "### 3.1 Adult Obesity - BMI > 25: Percentage of the adult population (age 18 and older) that reports a body mass index (BMI) greater than or equal to 30 kg/m2 (age-adjusted)."
   ]
  },
  {
   "cell_type": "code",
   "execution_count": 35,
   "metadata": {},
   "outputs": [
    {
     "data": {
      "text/plain": [
       "'\\n1: No\\n2: Yes\\n9: Refused\\n'"
      ]
     },
     "execution_count": 35,
     "metadata": {},
     "output_type": "execute_result"
    },
    {
     "data": {
      "image/png": "[encoded data removed]",
      "text/plain": [
       "<Figure size 432x288 with 1 Axes>"
      ]
     },
     "metadata": {
      "needs_background": "light"
     },
     "output_type": "display_data"
    }
   ],
   "source": [
    "sns.countplot(data=df_IN_Health, x=\"x.rfbmi5\")\n",
    "'''\n",
    "1: No\n",
    "2: Yes\n",
    "9: Refused\n",
    "'''"
   ]
  },
  {
   "cell_type": "markdown",
   "metadata": {},
   "source": [
    "### 3.2 Physical inactivity: Percentage of adults age 18 and over reporting no leisure-time physical activity (age-adjusted)."
   ]
  },
  {
   "cell_type": "code",
   "execution_count": 36,
   "metadata": {},
   "outputs": [
    {
     "data": {
      "text/plain": [
       "'\\n1: Yes\\n2: No\\n7: Not sure\\n9: Refused\\n'"
      ]
     },
     "execution_count": 36,
     "metadata": {},
     "output_type": "execute_result"
    },
    {
     "data": {
      "image/png": "[encoded data removed]",
      "text/plain": [
       "<Figure size 432x288 with 1 Axes>"
      ]
     },
     "metadata": {
      "needs_background": "light"
     },
     "output_type": "display_data"
    }
   ],
   "source": [
    "# exerany2\n",
    "sns.countplot(data=df_IN_Health, x=\"exerany2\")\n",
    "\n",
    "'''\n",
    "1: Yes\n",
    "2: No\n",
    "7: Not sure\n",
    "9: Refused\n",
    "'''"
   ]
  },
  {
   "cell_type": "markdown",
   "metadata": {},
   "source": [
    "## 4. Alcohol & Drug Use"
   ]
  },
  {
   "cell_type": "markdown",
   "metadata": {},
   "source": [
    "### 4.1 Excessive Drinking: Percentage of adults reporting binge or heavy drinking (age-adjusted)"
   ]
  },
  {
   "cell_type": "code",
   "execution_count": 56,
   "metadata": {},
   "outputs": [
    {
     "name": "stdout",
     "output_type": "stream",
     "text": [
      "{1: 79.0, 2: 11.0, 9: 9.0}\n"
     ]
    },
    {
     "data": {
      "image/png": "[encoded data removed]",
      "text/plain": [
       "<Figure size 432x288 with 1 Axes>"
      ]
     },
     "metadata": {},
     "output_type": "display_data"
    },
    {
     "name": "stdout",
     "output_type": "stream",
     "text": [
      "***There are only 11.1% who reported binge drinking\n"
     ]
    }
   ],
   "source": [
    "# Binge drinkers (males having five or more drinks on one occasion, females having four or more drinks on one occasion)\n",
    "binge_dict = dict(round(df_IN_Health['x.rfbing5'].value_counts()/len(df_IN_Health)*100))\n",
    "print(binge_dict)\n",
    "\n",
    "plt.pie(binge_dict.values(), labels=binge_dict.keys(), autopct='%1.1f%%')\n",
    "\n",
    "# set the x and y axis labels\n",
    "plt.legend()\n",
    "\n",
    "# set the plot title\n",
    "plt.title('Binge Drinker Counts')\n",
    "\n",
    "# display the plot\n",
    "plt.show()\n",
    "\n",
    "'''\n",
    "1: No\n",
    "2: Yes\n",
    "9: Refused\n",
    "'''\n",
    "\n",
    "print('***There are only 11.1% who reported binge drinking')"
   ]
  },
  {
   "cell_type": "code",
   "execution_count": 44,
   "metadata": {},
   "outputs": [
    {
     "data": {
      "text/plain": [
       "'\\n1-76: No of days\\n88:   None\\n77:   Not sure\\n99:   Refused\\n'"
      ]
     },
     "execution_count": 44,
     "metadata": {},
     "output_type": "execute_result"
    }
   ],
   "source": [
    "# Considering all types of alcoholic beverages, how many times during the past 30 days did you have 5 or more drinks for men or 4 or more drinks for women on an occasion?\n",
    "\n",
    "# sns.countplot(data=df_IN_Health, x=\"drnk3ge5\")\n",
    "'''\n",
    "1-76: No of days\n",
    "88:   None\n",
    "77:   Not sure\n",
    "99:   Refused\n",
    "'''"
   ]
  },
  {
   "cell_type": "markdown",
   "metadata": {},
   "source": [
    "## - Weight Factor ~ 6.8 M"
   ]
  },
  {
   "cell_type": "code",
   "execution_count": 98,
   "metadata": {},
   "outputs": [
    {
     "name": "stdout",
     "output_type": "stream",
     "text": [
      "x.llcpwt2    5262173.0\n",
      "dtype: float64\n",
      "x.llcpwt    5262173.0\n",
      "dtype: float64\n",
      "x.cllcpwt    1565837.0\n",
      "dtype: float64\n",
      "\n",
      "LLCPWT ~6.8 M: 6828010\n"
     ]
    }
   ],
   "source": [
    "# weight features\n",
    "\n",
    "print(df_Indiana[['x.llcpwt2']].sum())\n",
    "print(df_Indiana[['x.llcpwt']].sum())\n",
    "print(df_Indiana[['x.cllcpwt']].sum())\n",
    "\n",
    "total=(1565837+5262173)\n",
    "print('\\nLLCPWT ~6.8 M:', total)"
   ]
  },
  {
   "cell_type": "markdown",
   "metadata": {},
   "source": [
    "## - Reference Var\n",
    "\n",
    "### Age Var | Filter: 55+, 55-64, 65-84, 85+\n",
    "AGEG5YR (5 yer group)\n",
    "CADULT1 (1: yes 18>, Blank: not asked/missing) landline\n",
    "LADULT1 (1: yes, 2: Terminate phone cal, Blank: missing) cellphone\n",
    "\n",
    "### Race Var | Filter: white, black, hispanic, other\n",
    "IMPRACE (imputed if not answered), RACE, RACEGR3\n",
    "white, black, asian, american, hispanic, other\n"
   ]
  },
  {
   "cell_type": "code",
   "execution_count": null,
   "metadata": {},
   "outputs": [],
   "source": []
  }
 ],
 "metadata": {
  "kernelspec": {
   "display_name": "Python 3",
   "language": "python",
   "name": "python3"
  },
  "language_info": {
   "codemirror_mode": {
    "name": "ipython",
    "version": 3
   },
   "file_extension": ".py",
   "mimetype": "text/x-python",
   "name": "python",
   "nbconvert_exporter": "python",
   "pygments_lexer": "ipython3",
   "version": "3.8.8"
  }
 },
 "nbformat": 4,
 "nbformat_minor": 2
}
