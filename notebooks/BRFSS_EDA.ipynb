{
 "cells": [
  {
   "cell_type": "markdown",
   "metadata": {},
   "source": [
    "# * BRFSS Survey Data Analysis for the Year 2021-2022"
   ]
  },
  {
   "cell_type": "code",
   "execution_count": 8,
   "metadata": {},
   "outputs": [],
   "source": [
    "import pandas as pd \n",
    "import numpy as np\n",
    "import seaborn as sns\n",
    "import matplotlib.pyplot as plt"
   ]
  },
  {
   "cell_type": "markdown",
   "metadata": {},
   "source": [
    "## - Load Data"
   ]
  },
  {
   "cell_type": "code",
   "execution_count": 9,
   "metadata": {},
   "outputs": [],
   "source": [
    "df_BRFSS = pd.read_csv(\"../Data/BRFSS_preprocessed.csv\")"
   ]
  },
  {
   "cell_type": "code",
   "execution_count": 10,
   "metadata": {},
   "outputs": [
    {
     "data": {
      "text/html": [
       "<div>\n",
       "<style scoped>\n",
       "    .dataframe tbody tr th:only-of-type {\n",
       "        vertical-align: middle;\n",
       "    }\n",
       "\n",
       "    .dataframe tbody tr th {\n",
       "        vertical-align: top;\n",
       "    }\n",
       "\n",
       "    .dataframe thead th {\n",
       "        text-align: right;\n",
       "    }\n",
       "</style>\n",
       "<table border=\"1\" class=\"dataframe\">\n",
       "  <thead>\n",
       "    <tr style=\"text-align: right;\">\n",
       "      <th></th>\n",
       "      <th>Unnamed: 0</th>\n",
       "      <th>x.state</th>\n",
       "      <th>fmonth</th>\n",
       "      <th>idate</th>\n",
       "      <th>imonth</th>\n",
       "      <th>iday</th>\n",
       "      <th>iyear</th>\n",
       "      <th>dispcode</th>\n",
       "      <th>seqno</th>\n",
       "      <th>x.psu</th>\n",
       "      <th>...</th>\n",
       "      <th>x.frtres1</th>\n",
       "      <th>x.vegres1</th>\n",
       "      <th>x.frutsu1</th>\n",
       "      <th>x.vegesu1</th>\n",
       "      <th>x.frtlt1a</th>\n",
       "      <th>x.veglt1a</th>\n",
       "      <th>x.frt16a</th>\n",
       "      <th>x.veg23a</th>\n",
       "      <th>x.fruite1</th>\n",
       "      <th>x.vegete1</th>\n",
       "    </tr>\n",
       "  </thead>\n",
       "  <tbody>\n",
       "    <tr>\n",
       "      <th>0</th>\n",
       "      <td>1</td>\n",
       "      <td>1</td>\n",
       "      <td>1</td>\n",
       "      <td>1192021</td>\n",
       "      <td>1</td>\n",
       "      <td>19</td>\n",
       "      <td>2021</td>\n",
       "      <td>1100</td>\n",
       "      <td>2021000001</td>\n",
       "      <td>2021000001</td>\n",
       "      <td>...</td>\n",
       "      <td>1</td>\n",
       "      <td>1</td>\n",
       "      <td>100.0</td>\n",
       "      <td>214.0</td>\n",
       "      <td>1</td>\n",
       "      <td>1</td>\n",
       "      <td>1</td>\n",
       "      <td>1</td>\n",
       "      <td>0</td>\n",
       "      <td>0</td>\n",
       "    </tr>\n",
       "    <tr>\n",
       "      <th>1</th>\n",
       "      <td>2</td>\n",
       "      <td>1</td>\n",
       "      <td>1</td>\n",
       "      <td>1212021</td>\n",
       "      <td>1</td>\n",
       "      <td>21</td>\n",
       "      <td>2021</td>\n",
       "      <td>1100</td>\n",
       "      <td>2021000002</td>\n",
       "      <td>2021000002</td>\n",
       "      <td>...</td>\n",
       "      <td>1</td>\n",
       "      <td>1</td>\n",
       "      <td>100.0</td>\n",
       "      <td>128.0</td>\n",
       "      <td>1</td>\n",
       "      <td>1</td>\n",
       "      <td>1</td>\n",
       "      <td>1</td>\n",
       "      <td>0</td>\n",
       "      <td>0</td>\n",
       "    </tr>\n",
       "    <tr>\n",
       "      <th>2</th>\n",
       "      <td>3</td>\n",
       "      <td>1</td>\n",
       "      <td>1</td>\n",
       "      <td>1212021</td>\n",
       "      <td>1</td>\n",
       "      <td>21</td>\n",
       "      <td>2021</td>\n",
       "      <td>1100</td>\n",
       "      <td>2021000003</td>\n",
       "      <td>2021000003</td>\n",
       "      <td>...</td>\n",
       "      <td>1</td>\n",
       "      <td>1</td>\n",
       "      <td>100.0</td>\n",
       "      <td>71.0</td>\n",
       "      <td>1</td>\n",
       "      <td>2</td>\n",
       "      <td>1</td>\n",
       "      <td>1</td>\n",
       "      <td>0</td>\n",
       "      <td>0</td>\n",
       "    </tr>\n",
       "    <tr>\n",
       "      <th>3</th>\n",
       "      <td>4</td>\n",
       "      <td>1</td>\n",
       "      <td>1</td>\n",
       "      <td>1172021</td>\n",
       "      <td>1</td>\n",
       "      <td>17</td>\n",
       "      <td>2021</td>\n",
       "      <td>1100</td>\n",
       "      <td>2021000004</td>\n",
       "      <td>2021000004</td>\n",
       "      <td>...</td>\n",
       "      <td>1</td>\n",
       "      <td>1</td>\n",
       "      <td>114.0</td>\n",
       "      <td>165.0</td>\n",
       "      <td>1</td>\n",
       "      <td>1</td>\n",
       "      <td>1</td>\n",
       "      <td>1</td>\n",
       "      <td>0</td>\n",
       "      <td>0</td>\n",
       "    </tr>\n",
       "    <tr>\n",
       "      <th>4</th>\n",
       "      <td>5</td>\n",
       "      <td>1</td>\n",
       "      <td>1</td>\n",
       "      <td>1152021</td>\n",
       "      <td>1</td>\n",
       "      <td>15</td>\n",
       "      <td>2021</td>\n",
       "      <td>1100</td>\n",
       "      <td>2021000005</td>\n",
       "      <td>2021000005</td>\n",
       "      <td>...</td>\n",
       "      <td>1</td>\n",
       "      <td>1</td>\n",
       "      <td>100.0</td>\n",
       "      <td>258.0</td>\n",
       "      <td>1</td>\n",
       "      <td>1</td>\n",
       "      <td>1</td>\n",
       "      <td>1</td>\n",
       "      <td>0</td>\n",
       "      <td>0</td>\n",
       "    </tr>\n",
       "  </tbody>\n",
       "</table>\n",
       "<p>5 rows × 304 columns</p>\n",
       "</div>"
      ],
      "text/plain": [
       "   Unnamed: 0  x.state  fmonth    idate  imonth  iday  iyear  dispcode  \\\n",
       "0           1        1       1  1192021       1    19   2021      1100   \n",
       "1           2        1       1  1212021       1    21   2021      1100   \n",
       "2           3        1       1  1212021       1    21   2021      1100   \n",
       "3           4        1       1  1172021       1    17   2021      1100   \n",
       "4           5        1       1  1152021       1    15   2021      1100   \n",
       "\n",
       "        seqno       x.psu  ...  x.frtres1  x.vegres1  x.frutsu1  x.vegesu1  \\\n",
       "0  2021000001  2021000001  ...          1          1      100.0      214.0   \n",
       "1  2021000002  2021000002  ...          1          1      100.0      128.0   \n",
       "2  2021000003  2021000003  ...          1          1      100.0       71.0   \n",
       "3  2021000004  2021000004  ...          1          1      114.0      165.0   \n",
       "4  2021000005  2021000005  ...          1          1      100.0      258.0   \n",
       "\n",
       "   x.frtlt1a  x.veglt1a  x.frt16a  x.veg23a  x.fruite1  x.vegete1  \n",
       "0          1          1         1         1          0          0  \n",
       "1          1          1         1         1          0          0  \n",
       "2          1          2         1         1          0          0  \n",
       "3          1          1         1         1          0          0  \n",
       "4          1          1         1         1          0          0  \n",
       "\n",
       "[5 rows x 304 columns]"
      ]
     },
     "execution_count": 10,
     "metadata": {},
     "output_type": "execute_result"
    }
   ],
   "source": [
    "df_BRFSS.head()"
   ]
  },
  {
   "cell_type": "markdown",
   "metadata": {},
   "source": [
    "## - Dataset Details"
   ]
  },
  {
   "cell_type": "code",
   "execution_count": 11,
   "metadata": {},
   "outputs": [
    {
     "name": "stdout",
     "output_type": "stream",
     "text": [
      "Total Records: 438693\n",
      "Total Columns: 304\n"
     ]
    }
   ],
   "source": [
    "print('Total Records:', df_BRFSS.shape[0])\n",
    "print('Total Columns:', df_BRFSS.shape[1])"
   ]
  },
  {
   "cell_type": "code",
   "execution_count": 12,
   "metadata": {},
   "outputs": [
    {
     "name": "stdout",
     "output_type": "stream",
     "text": [
      "\n",
      "Column Names:\n",
      " ['Unnamed: 0', 'x.state', 'fmonth', 'idate', 'imonth', 'iday', 'iyear', 'dispcode', 'seqno', 'x.psu', 'ctelenm1', 'pvtresd1', 'colghous', 'statere1', 'celphon1', 'ladult1', 'colgsex', 'numadult', 'landsex', 'nummen', 'numwomen', 'respslct', 'safetime', 'ctelnum1', 'cellfon5', 'cadult1', 'cellsex', 'pvtresd3', 'cclghous', 'cstate1', 'landline', 'hhadult', 'sexvar', 'genhlth', 'physhlth', 'menthlth', 'poorhlth', 'priminsr', 'persdoc3', 'medcost1', 'checkup1', 'exerany2', 'bphigh6', 'bpmeds', 'cholchk3', 'toldhi3', 'cholmed3', 'cvdinfr4', 'cvdcrhd4', 'cvdstrk3', 'asthma3', 'asthnow', 'chcscncr', 'chcocncr', 'chccopd3', 'addepev3', 'chckdny2', 'diabete4', 'diabage3', 'havarth5', 'arthexer', 'arthedu', 'lmtjoin3', 'arthdis2', 'joinpai2', 'marital', 'educa', 'renthom1', 'numhhol3', 'numphon3', 'cpdemo1b', 'veteran3', 'employ1', 'children', 'income3', 'pregnant', 'weight2', 'height3', 'deaf', 'blind', 'decide', 'diffwalk', 'diffdres', 'diffalon', 'smoke100', 'smokday2', 'usenow3', 'ecignow1', 'alcday5', 'avedrnk3', 'drnk3ge5', 'maxdrnks', 'flushot7', 'flshtmy3', 'imfvpla2', 'pneuvac4', 'hivtst7', 'hivtstd3', 'fruit2', 'fruitju2', 'fvgreen1', 'frenchf1', 'potatoe1', 'vegetab2', 'pdiabtst', 'prediab1', 'insulin1', 'bldsugar', 'feetchk3', 'doctdiab', 'chkhemo3', 'feetchk', 'eyeexam1', 'diabeye', 'diabedu', 'toldcfs', 'havecfs', 'workcfs', 'toldhepc', 'trethepc', 'prirhepc', 'havehepc', 'havehepb', 'medshepb', 'hpvadvc4', 'hpvadsht', 'tetanus1', 'shingle2', 'lcsfirst', 'lcslast', 'lcsnumcg', 'lcsctscn', 'hadmam', 'howlong', 'cervscrn', 'crvclcnc', 'crvclpap', 'crvclhpv', 'hadhyst2', 'psatest1', 'psatime1', 'pcpsars2', 'pcstalk', 'hadsigm4', 'colnsigm', 'colntes1', 'sigmtes1', 'lastsig4', 'colncncr', 'vircolo1', 'vclntes1', 'smalstol', 'stoltest', 'stooldn1', 'bldstfit', 'sdnates1', 'cncrdiff', 'cncrage', 'cncrtyp1', 'csrvtrt3', 'csrvdoc1', 'csrvsum', 'csrvrtrn', 'csrvinst', 'csrvinsr', 'csrvdein', 'csrvclin', 'csrvpain', 'csrvctl2', 'hombpchk', 'homrgchk', 'wherebp', 'sharebp', 'wtchsalt', 'dradvise', 'cimemlos', 'cdhouse', 'cdassist', 'cdhelp', 'cdsocial', 'cddiscus', 'caregiv1', 'crgvrel4', 'crgvlng1', 'crgvhrs1', 'crgvprb3', 'crgvalzd', 'crgvper1', 'crgvhou1', 'crgvexpt', 'acedeprs', 'acedrink', 'acedrugs', 'aceprisn', 'acedivrc', 'acepunch', 'acehurt1', 'aceswear', 'acetouch', 'acetthem', 'acehvsex', 'aceadsaf', 'aceadned', 'marijan1', 'usemrjn3', 'rsnmrjn2', 'lastsmk2', 'stopsmk2', 'firearm5', 'gunload', 'loadulk2', 'rcsgendr', 'rcsrltn2', 'casthdx2', 'casthno2', 'birthsex', 'somale', 'sofemale', 'trnsgndr', 'qstver', 'qstlang', 'x.metstat', 'x.urbstat', 'mscode', 'x.ststr', 'x.strwt', 'x.rawrake', 'x.wt2rake', 'x.imprace', 'x.chispnc', 'x.crace1', 'x.cprace1', 'cageg', 'x.cllcpwt', 'x.dualuse', 'x.dualcor', 'x.llcpwt2', 'x.llcpwt', 'x.rfhlth', 'x.phys14d', 'x.ment14d', 'x.hlthpln', 'x.hcvu652', 'x.totinda', 'x.rfhype6', 'x.cholch3', 'x.rfchol3', 'x.michd', 'x.ltasth1', 'x.casthm1', 'x.asthms1', 'x.drdxar3', 'x.lmtact3', 'x.lmtwrk3', 'x.prace1', 'x.mrace1', 'x.hispanc', 'x.race', 'x.raceg21', 'x.racegr3', 'x.raceprv', 'x.sex', 'x.ageg5yr', 'x.age65yr', 'x.age80', 'x.age.g', 'htin4', 'htm4', 'wtkg3', 'x.bmi5', 'x.bmi5cat', 'x.rfbmi5', 'x.chldcnt', 'x.educag', 'x.incomg1', 'x.smoker3', 'x.rfsmok3', 'x.cureci1', 'drnkany5', 'drocdy3.', 'x.rfbing5', 'x.drnkwk1', 'x.rfdrhv7', 'x.flshot7', 'x.pneumo3', 'x.aidtst4', 'ftjuda2.', 'frutda2.', 'grenda1.', 'frnchda.', 'potada1.', 'vegeda2.', 'x.misfrt1', 'x.misveg1', 'x.frtres1', 'x.vegres1', 'x.frutsu1', 'x.vegesu1', 'x.frtlt1a', 'x.veglt1a', 'x.frt16a', 'x.veg23a', 'x.fruite1', 'x.vegete1']\n"
     ]
    }
   ],
   "source": [
    "print('\\nColumn Names:\\n', list(df_BRFSS.columns))"
   ]
  },
  {
   "cell_type": "code",
   "execution_count": 13,
   "metadata": {},
   "outputs": [],
   "source": [
    "# Columns with more than 50% of Null Values\n",
    "# Null_cols = df_BRFSS.isnull().sum()/len(df_BRFSS)\n",
    "# BRFSS_Nullcols = Null_cols[Null_cols>0.6].index\n",
    "# display(len(BRFSS_Nullcols))"
   ]
  },
  {
   "cell_type": "code",
   "execution_count": 14,
   "metadata": {},
   "outputs": [],
   "source": [
    "# BRFSS_Nullcols"
   ]
  },
  {
   "cell_type": "markdown",
   "metadata": {},
   "source": [
    "## - Filter data to Indiana State"
   ]
  },
  {
   "cell_type": "code",
   "execution_count": 16,
   "metadata": {},
   "outputs": [
    {
     "name": "stdout",
     "output_type": "stream",
     "text": [
      "IN Total Records: 9929\n",
      "IN Total Columns: 304\n"
     ]
    }
   ],
   "source": [
    "#Saperating out the Indiana State from rest of the states \n",
    "df_Indiana = df_BRFSS[df_BRFSS['x.state']==18]\n",
    "print('IN Total Records:', df_Indiana.shape[0])\n",
    "print('IN Total Columns:', df_Indiana.shape[1])"
   ]
  },
  {
   "cell_type": "markdown",
   "metadata": {},
   "source": [
    "### Pre-processing: NaN removal"
   ]
  },
  {
   "cell_type": "code",
   "execution_count": 9,
   "metadata": {},
   "outputs": [
    {
     "name": "stdout",
     "output_type": "stream",
     "text": [
      "Columns containing number of null values:\n",
      "\n"
     ]
    },
    {
     "data": {
      "text/plain": [
       "stoltest    9929\n",
       "pdiabtst    9929\n",
       "crvclpap    9929\n",
       "crvclhpv    9929\n",
       "hadhyst2    9929\n",
       "            ... \n",
       "potatoe1    1139\n",
       "wtkg3       1120\n",
       "frenchf1    1096\n",
       "fvgreen1    1052\n",
       "fruitju2    1012\n",
       "Length: 180, dtype: int64"
      ]
     },
     "execution_count": 9,
     "metadata": {},
     "output_type": "execute_result"
    }
   ],
   "source": [
    "print('Columns containing number of null values:\\n')\n",
    "null_val = df_Indiana.isnull().sum().sort_values(ascending=False)\n",
    "\n",
    "null_val[null_val>1000]"
   ]
  },
  {
   "cell_type": "code",
   "execution_count": 57,
   "metadata": {},
   "outputs": [
    {
     "name": "stdout",
     "output_type": "stream",
     "text": [
      "\n",
      "Nan removal: Remove col if all values are null\n",
      "Total Records: 9929\n",
      "Total Columns: 220\n"
     ]
    }
   ],
   "source": [
    "# print('Columns containing all the values null:\\n')\n",
    "# print(df_Indiana.columns[df_Indiana.isnull().all()])\n",
    "\n",
    "print('\\nNan removal: Remove col if all values are null') # remove column if all the values are null\n",
    "df_Indiana_na = df_Indiana.dropna(axis=1, how='all')\n",
    "df_IN = df_Indiana_na.drop(['Unnamed: 0'], axis=1)\n",
    "\n",
    "print('Total Records:', df_IN.shape[0])\n",
    "print('Total Columns:', df_IN.shape[1])\n",
    "\n",
    "df_IN.to_csv('../Data/BRFSS_IN_Pros.csv', index=False)"
   ]
  },
  {
   "cell_type": "markdown",
   "metadata": {},
   "source": [
    "### Year wise count"
   ]
  },
  {
   "cell_type": "code",
   "execution_count": 25,
   "metadata": {},
   "outputs": [
    {
     "name": "stdout",
     "output_type": "stream",
     "text": [
      "Contains data of following year/count:\n",
      "2021    9439\n",
      "2022     490\n",
      "Name: iyear, dtype: int64\n"
     ]
    }
   ],
   "source": [
    "print('Contains data of following year/count:')\n",
    "print(df_IN['iyear'].value_counts())\n",
    "# print('\\n\\nIndiana State Data:\\n', df_IN)"
   ]
  },
  {
   "cell_type": "markdown",
   "metadata": {},
   "source": [
    "## Indicator Focused Analysis\n",
    "\n",
    "1. Quality of Life \t\n",
    "\n",
    "    i. Poor or fair health Percentage of adults reporting fair or poor health (age-adjusted).\n",
    "\n",
    " \tii. Poor physical health days Average number of physically unhealthy days reported in past 30 days (age-adjusted).\n",
    "\n",
    " \tiii. Poor mental health days Average number of mentally unhealthy days reported in past 30 days (age-adjusted).\n",
    "\n",
    "2. Tobacco Use\t\n",
    "\n",
    "    i. Adult smoking Percentage of adults who are current smokers (age-adjusted).\n",
    "\n",
    "3. Diet and Exercise\n",
    "\n",
    "    i. Adult obesity Percentage of the adult population (age 18 and older) that reports a body mass index (BMI) greater than or equal to 30 kg/m2 (age-adjusted).\n",
    "\n",
    " \tii. Physical inactivity\tPercentage of adults age 18 and over reporting no leisure-time physical activity (age-adjusted).\n",
    "\n",
    "4. Alcohol and Drug Use\t\n",
    "\n",
    "    i. Excessive drinking Percentage of adults reporting binge or heavy drinking (age-adjusted).\n",
    "    "
   ]
  },
  {
   "cell_type": "markdown",
   "metadata": {},
   "source": [
    "## - Column selection based on indicators"
   ]
  },
  {
   "cell_type": "code",
   "execution_count": 26,
   "metadata": {},
   "outputs": [
    {
     "name": "stdout",
     "output_type": "stream",
     "text": [
      "Total Records: 9929\n",
      "Total Columns: 27\n"
     ]
    }
   ],
   "source": [
    "# Selecting the columns based on the above indicators\n",
    "df_IN_Health = df_IN.filter(regex='smoke|_smoker3|genhlth|menthlth|poorhlth|physhlth|age|drug|alcohol|Alcohal|idate|imonth|iday|iyear|exerany2|x.rfbing5|x.rfbmi5|drnk3ge5|x.imprace|cadult1|ladult1|x.racegr3|x.race')\n",
    "\n",
    "print('Total Records:', df_IN_Health.shape[0])\n",
    "print('Total Columns:', df_IN_Health.shape[1])"
   ]
  },
  {
   "cell_type": "code",
   "execution_count": 27,
   "metadata": {},
   "outputs": [],
   "source": [
    "# remove columns having 70% null values\n",
    "# df_IN_Health = df_IN_Health.drop(df_IN_Health.columns[df_IN_Health.isnull().mean() > 0.7 ],axis=1)\n",
    "# df_IN_Health"
   ]
  },
  {
   "cell_type": "markdown",
   "metadata": {},
   "source": [
    "## 1. Quality of Life"
   ]
  },
  {
   "cell_type": "markdown",
   "metadata": {},
   "source": [
    "### 1.1 Poor or fair health: Percentage of adults reporting fair or poor health (age-adjusted)"
   ]
  },
  {
   "cell_type": "code",
   "execution_count": 28,
   "metadata": {},
   "outputs": [],
   "source": [
    "# sns.countplot(data=df_IN_Health, x=\"genhlth\")"
   ]
  },
  {
   "cell_type": "code",
   "execution_count": 29,
   "metadata": {},
   "outputs": [
    {
     "data": {
      "image/png": "[encoded data removed]",
      "text/plain": [
       "<Figure size 432x288 with 1 Axes>"
      ]
     },
     "metadata": {
      "needs_background": "light"
     },
     "output_type": "display_data"
    }
   ],
   "source": [
    "genhlth_dict = dict(df_IN_Health['genhlth'].value_counts()/len(df_IN_Health))\n",
    "genhlth_key = {1.0 :'Excellent', 2.0:'V. Good', 3.0:'Good', 4.0:'Fair', 5.0:'Poor', 7.0:'Notsure', 9.0:'Refused'}\n",
    "# print(genhlth_key)\n",
    "# print(genhlth_dict)\n",
    "\n",
    "new_dict = {}\n",
    "for i in genhlth_dict:\n",
    "    new_dict[genhlth_key[i]] = genhlth_dict[i]\n",
    "# print('\\nUpdated dict:', new_dict)\n",
    "\n",
    "import matplotlib.pyplot as plt\n",
    "names = list(new_dict.keys())\n",
    "values = list(new_dict.values())\n",
    "\n",
    "colors = ['red' if ((xi == 'Fair') or (xi == 'Poor')) else 'blue' for xi in names]\n",
    "\n",
    "# Create a figure and axis object\n",
    "fig, ax = plt.subplots()\n",
    "\n",
    "# Plot the bars with different colors\n",
    "ax.bar(names, values, color=colors)\n",
    "\n",
    "# Set the labels and title\n",
    "ax.set_xlabel('genhlth')\n",
    "ax.set_ylabel('count %')\n",
    "ax.set_title('Health status report')\n",
    "\n",
    "# Show the plot\n",
    "plt.show()"
   ]
  },
  {
   "cell_type": "code",
   "execution_count": 30,
   "metadata": {},
   "outputs": [
    {
     "data": {
      "image/png": "[encoded data removed]",
      "text/plain": [
       "<Figure size 432x288 with 1 Axes>"
      ]
     },
     "metadata": {
      "needs_background": "light"
     },
     "output_type": "display_data"
    }
   ],
   "source": [
    "df_IN_Health_30 = df_IN_Health[(df_IN_Health['iyear']==2021) & (df_IN_Health['imonth']==12)]\n",
    "\n",
    "genhlth_dict = dict(df_IN_Health_30['genhlth'].value_counts()/len(df_IN_Health_30))\n",
    "genhlth_key = {1.0 :'Excellent', 2.0:'V. Good', 3.0:'Good', 4.0:'Fair', 5.0:'Poor', 7.0:'Notsure', 9.0:'Refused'}\n",
    "# print(genhlth_key)\n",
    "# print(genhlth_dict)\n",
    "\n",
    "new_dict = {}\n",
    "for i in genhlth_dict:\n",
    "    new_dict[genhlth_key[i]] = genhlth_dict[i]\n",
    "# print('\\nUpdated dict:', new_dict)\n",
    "\n",
    "import matplotlib.pyplot as plt\n",
    "names = list(new_dict.keys())\n",
    "values = list(new_dict.values())\n",
    "\n",
    "colors = ['red' if (xi == 'Poor') else 'blue' for xi in names]\n",
    "\n",
    "# Create a figure and axis object\n",
    "fig, ax = plt.subplots()\n",
    "\n",
    "# Plot the bars\n",
    "bars = ax.bar(names, values)\n",
    "\n",
    "# Plot the bars with different colors\n",
    "ax.bar(names, values, color=colors)\n",
    "\n",
    "# Set the labels and title\n",
    "ax.set_xlabel('genhlth')\n",
    "ax.set_ylabel('count %')\n",
    "ax.set_title('Past 30 days Health status report')\n",
    "\n",
    "# Show the plot\n",
    "plt.show()"
   ]
  },
  {
   "cell_type": "markdown",
   "metadata": {},
   "source": [
    "### 1.2. Poor physical health days: Average number of physically unhealthy days reported in past 30 days (age-adjusted)."
   ]
  },
  {
   "cell_type": "code",
   "execution_count": 31,
   "metadata": {},
   "outputs": [
    {
     "data": {
      "image/png": "[encoded data removed]",
      "text/plain": [
       "<Figure size 432x288 with 1 Axes>"
      ]
     },
     "metadata": {
      "needs_background": "light"
     },
     "output_type": "display_data"
    },
    {
     "data": {
      "image/png": "[encoded data removed]",
      "text/plain": [
       "<Figure size 432x288 with 1 Axes>"
      ]
     },
     "metadata": {
      "needs_background": "light"
     },
     "output_type": "display_data"
    }
   ],
   "source": [
    "# physhlth - Poor physical health days\n",
    "\n",
    "df_IN_Health_30 = df_IN_Health[(df_IN_Health['iyear']==2021) & (df_IN_Health['imonth']==12)]\n",
    "\n",
    "genhlth_dict = dict(df_IN_Health_30['physhlth'].value_counts()/len(df_IN_Health_30))\n",
    "\n",
    "sns.countplot(data=df_IN_Health_30, x=\"physhlth\")\n",
    "'''\n",
    "1-30: No of days\n",
    "88:   None\n",
    "77:   Not sure\n",
    "99:   Refused\n",
    "'''\n",
    "\n",
    "\n",
    "genhlth_dict = dict(df_IN_Health['physhlth'].value_counts()/len(df_IN_Health))\n",
    "\n",
    "\n",
    "import matplotlib.pyplot as plt\n",
    "names = list(genhlth_dict.keys())\n",
    "values = list(genhlth_dict.values())\n",
    "\n",
    "# Create a figure and axis object\n",
    "fig, ax = plt.subplots()\n",
    "\n",
    "# Plot the bars with different colors\n",
    "ax.bar(names, values)\n",
    "\n",
    "# Set the labels and title\n",
    "ax.set_xlabel('physhlth')\n",
    "ax.set_ylabel('count %')\n",
    "ax.set_title('Physical Health status report')\n",
    "\n",
    "# Show the plot\n",
    "plt.show()"
   ]
  },
  {
   "cell_type": "markdown",
   "metadata": {},
   "source": [
    "### 1.3. Poor mental health days: Average number of mentally unhealthy days reported in past 30 days (age-adjusted)."
   ]
  },
  {
   "cell_type": "code",
   "execution_count": 32,
   "metadata": {},
   "outputs": [
    {
     "data": {
      "image/png": "[encoded data removed]",
      "text/plain": [
       "<Figure size 432x288 with 1 Axes>"
      ]
     },
     "metadata": {
      "needs_background": "light"
     },
     "output_type": "display_data"
    },
    {
     "data": {
      "image/png": "[encoded data removed]",
      "text/plain": [
       "<Figure size 432x288 with 1 Axes>"
      ]
     },
     "metadata": {},
     "output_type": "display_data"
    }
   ],
   "source": [
    "# menthlth - Poor mental health days\n",
    "\n",
    "df_IN_Health_30 = df_IN_Health[(df_IN_Health['iyear']==2021) & (df_IN_Health['imonth']==12)]\n",
    "\n",
    "genhlth_dict = dict(df_IN_Health_30['menthlth'].value_counts()/len(df_IN_Health_30))\n",
    "\n",
    "sns.countplot(data=df_IN_Health_30, x=\"menthlth\")\n",
    "'''\n",
    "1-30: No of days\n",
    "88:   None\n",
    "77:   Not sure\n",
    "99:   Refused\n",
    "'''\n",
    "\n",
    "import matplotlib.pyplot as plt\n",
    "names = list(genhlth_dict.keys())\n",
    "values = list(genhlth_dict.values())\n",
    "\n",
    "\n",
    "# Create a figure and axis object\n",
    "fig, ax = plt.subplots()\n",
    "\n",
    "# Plot the pie chart\n",
    "ax.pie(values, labels=names, autopct='%1.1f%%')\n",
    "\n",
    "# Set the title\n",
    "ax.set_title('Pie Chart')\n",
    "\n",
    "# Show the plot\n",
    "plt.show()"
   ]
  },
  {
   "cell_type": "markdown",
   "metadata": {},
   "source": [
    "## 2. Tobacco USe"
   ]
  },
  {
   "cell_type": "markdown",
   "metadata": {},
   "source": [
    "### 2.1. Adult Smoking: Percentage of adults who are current smokers (age-adjusted)."
   ]
  },
  {
   "cell_type": "code",
   "execution_count": 33,
   "metadata": {},
   "outputs": [],
   "source": [
    "# sns.countplot(data=df_IN_Health, x=\"x.smoker3\")"
   ]
  },
  {
   "cell_type": "code",
   "execution_count": 34,
   "metadata": {},
   "outputs": [
    {
     "data": {
      "image/png": "[encoded data removed]",
      "text/plain": [
       "<Figure size 432x288 with 1 Axes>"
      ]
     },
     "metadata": {
      "needs_background": "light"
     },
     "output_type": "display_data"
    }
   ],
   "source": [
    "genhlth_dict = dict(df_IN_Health['x.smoker3'].value_counts()/len(df_IN_Health))\n",
    "genhlth_key = {1 :'Everyday', 2:'Someday', 3:'Former', 4:'Never', 9:'Refused'}\n",
    "# print(genhlth_key)\n",
    "# print(genhlth_dict)\n",
    "\n",
    "new_dict = {}\n",
    "for i in genhlth_dict:\n",
    "    new_dict[genhlth_key[i]] = genhlth_dict[i]\n",
    "# print('\\nUpdated dict:', new_dict)\n",
    "\n",
    "import matplotlib.pyplot as plt\n",
    "names = list(new_dict.keys())\n",
    "values = list(new_dict.values())\n",
    "\n",
    "# plt.bar(range(len(new_dict)), values, tick_label=names)\n",
    "# plt.xlabel('smoker')\n",
    "# plt.ylabel('count (%)')\n",
    "# plt.title('Smoking status report')\n",
    "# plt.show()\n",
    "\n",
    "\n",
    "colors = ['red' if (xi == 'Everyday') else 'blue' for xi in names]\n",
    "\n",
    "# Create a figure and axis object\n",
    "fig, ax = plt.subplots()\n",
    "\n",
    "# Plot the bars\n",
    "bars = ax.bar(names, values)\n",
    "\n",
    "# Plot the bars with different colors\n",
    "ax.bar(names, values, color=colors)\n",
    "\n",
    "# Set the labels and title\n",
    "ax.set_xlabel('smoker')\n",
    "ax.set_ylabel('count %')\n",
    "ax.set_title('Smoking status report')\n",
    "\n",
    "# Show the plot\n",
    "plt.show()"
   ]
  },
  {
   "cell_type": "markdown",
   "metadata": {},
   "source": [
    "## 3. Diet & Exercise"
   ]
  },
  {
   "cell_type": "markdown",
   "metadata": {},
   "source": [
    "### 3.1 Adult Obesity - BMI > 25: Percentage of the adult population (age 18 and older) that reports a body mass index (BMI) greater than or equal to 30 kg/m2 (age-adjusted)."
   ]
  },
  {
   "cell_type": "code",
   "execution_count": 35,
   "metadata": {},
   "outputs": [
    {
     "data": {
      "text/plain": [
       "'\\n1: No\\n2: Yes\\n9: Refused\\n'"
      ]
     },
     "execution_count": 35,
     "metadata": {},
     "output_type": "execute_result"
    },
    {
     "data": {
      "image/png": "[encoded data removed]",
      "text/plain": [
       "<Figure size 432x288 with 1 Axes>"
      ]
     },
     "metadata": {
      "needs_background": "light"
     },
     "output_type": "display_data"
    }
   ],
   "source": [
    "sns.countplot(data=df_IN_Health, x=\"x.rfbmi5\")\n",
    "'''\n",
    "1: No\n",
    "2: Yes\n",
    "9: Refused\n",
    "'''"
   ]
  },
  {
   "cell_type": "markdown",
   "metadata": {},
   "source": [
    "### 3.2 Physical inactivity: Percentage of adults age 18 and over reporting no leisure-time physical activity (age-adjusted)."
   ]
  },
  {
   "cell_type": "code",
   "execution_count": 36,
   "metadata": {},
   "outputs": [
    {
     "data": {
      "text/plain": [
       "'\\n1: Yes\\n2: No\\n7: Not sure\\n9: Refused\\n'"
      ]
     },
     "execution_count": 36,
     "metadata": {},
     "output_type": "execute_result"
    },
    {
     "data": {
      "image/png": "[encoded data removed]",
      "text/plain": [
       "<Figure size 432x288 with 1 Axes>"
      ]
     },
     "metadata": {
      "needs_background": "light"
     },
     "output_type": "display_data"
    }
   ],
   "source": [
    "# exerany2\n",
    "sns.countplot(data=df_IN_Health, x=\"exerany2\")\n",
    "\n",
    "'''\n",
    "1: Yes\n",
    "2: No\n",
    "7: Not sure\n",
    "9: Refused\n",
    "'''"
   ]
  },
  {
   "cell_type": "markdown",
   "metadata": {},
   "source": [
    "## 4. Alcohol & Drug Use"
   ]
  },
  {
   "cell_type": "markdown",
   "metadata": {},
   "source": [
    "### 4.1 Excessive Drinking: Percentage of adults reporting binge or heavy drinking (age-adjusted)"
   ]
  },
  {
   "cell_type": "code",
   "execution_count": 56,
   "metadata": {},
   "outputs": [
    {
     "name": "stdout",
     "output_type": "stream",
     "text": [
      "{1: 79.0, 2: 11.0, 9: 9.0}\n"
     ]
    },
    {
     "data": {
      "image/png": "[encoded data removed]",
      "text/plain": [
       "<Figure size 432x288 with 1 Axes>"
      ]
     },
     "metadata": {},
     "output_type": "display_data"
    },
    {
     "name": "stdout",
     "output_type": "stream",
     "text": [
      "***There are only 11.1% who reported binge drinking\n"
     ]
    }
   ],
   "source": [
    "# Binge drinkers (males having five or more drinks on one occasion, females having four or more drinks on one occasion)\n",
    "binge_dict = dict(round(df_IN_Health['x.rfbing5'].value_counts()/len(df_IN_Health)*100))\n",
    "print(binge_dict)\n",
    "\n",
    "plt.pie(binge_dict.values(), labels=binge_dict.keys(), autopct='%1.1f%%')\n",
    "\n",
    "# set the x and y axis labels\n",
    "plt.legend()\n",
    "\n",
    "# set the plot title\n",
    "plt.title('Binge Drinker Counts')\n",
    "\n",
    "# display the plot\n",
    "plt.show()\n",
    "\n",
    "'''\n",
    "1: No\n",
    "2: Yes\n",
    "9: Refused\n",
    "'''\n",
    "\n",
    "print('***There are only 11.1% who reported binge drinking')"
   ]
  },
  {
   "cell_type": "code",
   "execution_count": 44,
   "metadata": {},
   "outputs": [
    {
     "data": {
      "text/plain": [
       "'\\n1-76: No of days\\n88:   None\\n77:   Not sure\\n99:   Refused\\n'"
      ]
     },
     "execution_count": 44,
     "metadata": {},
     "output_type": "execute_result"
    }
   ],
   "source": [
    "# Considering all types of alcoholic beverages, how many times during the past 30 days did you have 5 or more drinks for men or 4 or more drinks for women on an occasion?\n",
    "\n",
    "# sns.countplot(data=df_IN_Health, x=\"drnk3ge5\")\n",
    "'''\n",
    "1-76: No of days\n",
    "88:   None\n",
    "77:   Not sure\n",
    "99:   Refused\n",
    "'''"
   ]
  },
  {
   "cell_type": "markdown",
   "metadata": {},
   "source": [
    "## - Weight Factor ~ 6.8 M"
   ]
  },
  {
   "cell_type": "code",
   "execution_count": 98,
   "metadata": {},
   "outputs": [
    {
     "name": "stdout",
     "output_type": "stream",
     "text": [
      "x.llcpwt2    5262173.0\n",
      "dtype: float64\n",
      "x.llcpwt    5262173.0\n",
      "dtype: float64\n",
      "x.cllcpwt    1565837.0\n",
      "dtype: float64\n",
      "\n",
      "LLCPWT ~6.8 M: 6828010\n"
     ]
    }
   ],
   "source": [
    "# weight features\n",
    "\n",
    "print(df_Indiana[['x.llcpwt2']].sum())\n",
    "print(df_Indiana[['x.llcpwt']].sum())\n",
    "print(df_Indiana[['x.cllcpwt']].sum())\n",
    "\n",
    "total=(1565837+5262173)\n",
    "print('\\nLLCPWT ~6.8 M:', total)"
   ]
  },
  {
   "cell_type": "markdown",
   "metadata": {},
   "source": [
    "## - Reference Var\n",
    "\n",
    "### Age Var | Filter: 55+, 55-64, 65-84, 85+\n",
    "AGEG5YR (5 yer group)\n",
    "CADULT1 (1: yes 18>, Blank: not asked/missing) landline\n",
    "LADULT1 (1: yes, 2: Terminate phone cal, Blank: missing) cellphone\n",
    "\n",
    "### Race Var | Filter: white, black, hispanic, other\n",
    "IMPRACE (imputed if not answered), RACE, RACEGR3\n",
    "white, black, asian, american, hispanic, other\n"
   ]
  },
  {
   "cell_type": "code",
   "execution_count": null,
   "metadata": {},
   "outputs": [],
   "source": []
  }
 ],
 "metadata": {
  "kernelspec": {
   "display_name": "Python 3 (ipykernel)",
   "language": "python",
   "name": "python3"
  },
  "language_info": {
   "codemirror_mode": {
    "name": "ipython",
    "version": 3
   },
   "file_extension": ".py",
   "mimetype": "text/x-python",
   "name": "python",
   "nbconvert_exporter": "python",
   "pygments_lexer": "ipython3",
   "version": "3.9.12"
  }
 },
 "nbformat": 4,
 "nbformat_minor": 2
}
