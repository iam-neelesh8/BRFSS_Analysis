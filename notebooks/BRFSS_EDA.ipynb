{
 "cells": [
  {
   "cell_type": "markdown",
   "metadata": {},
   "source": [
    "# * BRFSS Survey Data Analysis for the Year 2021-2022"
   ]
  },
  {
   "cell_type": "code",
   "execution_count": 1,
   "metadata": {},
   "outputs": [],
   "source": [
    "import pandas as pd \n",
    "import numpy as np\n",
    "import seaborn as sns\n",
    "import matplotlib.pyplot as plt\n",
    "from collections import OrderedDict"
   ]
  },
  {
   "cell_type": "markdown",
   "metadata": {},
   "source": [
    "## - Load Data"
   ]
  },
  {
   "cell_type": "code",
   "execution_count": 2,
   "metadata": {},
   "outputs": [],
   "source": [
    "df_BRFSS = pd.read_csv(\"../Data/BRFSS_preprocessed.csv\")"
   ]
  },
  {
   "cell_type": "code",
   "execution_count": 3,
   "metadata": {},
   "outputs": [
    {
     "data": {
      "text/html": [
       "<div>\n",
       "<style scoped>\n",
       "    .dataframe tbody tr th:only-of-type {\n",
       "        vertical-align: middle;\n",
       "    }\n",
       "\n",
       "    .dataframe tbody tr th {\n",
       "        vertical-align: top;\n",
       "    }\n",
       "\n",
       "    .dataframe thead th {\n",
       "        text-align: right;\n",
       "    }\n",
       "</style>\n",
       "<table border=\"1\" class=\"dataframe\">\n",
       "  <thead>\n",
       "    <tr style=\"text-align: right;\">\n",
       "      <th></th>\n",
       "      <th>Unnamed: 0</th>\n",
       "      <th>x.state</th>\n",
       "      <th>fmonth</th>\n",
       "      <th>idate</th>\n",
       "      <th>imonth</th>\n",
       "      <th>iday</th>\n",
       "      <th>iyear</th>\n",
       "      <th>dispcode</th>\n",
       "      <th>seqno</th>\n",
       "      <th>x.psu</th>\n",
       "      <th>...</th>\n",
       "      <th>x.frtres1</th>\n",
       "      <th>x.vegres1</th>\n",
       "      <th>x.frutsu1</th>\n",
       "      <th>x.vegesu1</th>\n",
       "      <th>x.frtlt1a</th>\n",
       "      <th>x.veglt1a</th>\n",
       "      <th>x.frt16a</th>\n",
       "      <th>x.veg23a</th>\n",
       "      <th>x.fruite1</th>\n",
       "      <th>x.vegete1</th>\n",
       "    </tr>\n",
       "  </thead>\n",
       "  <tbody>\n",
       "    <tr>\n",
       "      <th>0</th>\n",
       "      <td>1</td>\n",
       "      <td>1</td>\n",
       "      <td>1</td>\n",
       "      <td>1192021</td>\n",
       "      <td>1</td>\n",
       "      <td>19</td>\n",
       "      <td>2021</td>\n",
       "      <td>1100</td>\n",
       "      <td>2021000001</td>\n",
       "      <td>2021000001</td>\n",
       "      <td>...</td>\n",
       "      <td>1</td>\n",
       "      <td>1</td>\n",
       "      <td>100.0</td>\n",
       "      <td>214.0</td>\n",
       "      <td>1</td>\n",
       "      <td>1</td>\n",
       "      <td>1</td>\n",
       "      <td>1</td>\n",
       "      <td>0</td>\n",
       "      <td>0</td>\n",
       "    </tr>\n",
       "    <tr>\n",
       "      <th>1</th>\n",
       "      <td>2</td>\n",
       "      <td>1</td>\n",
       "      <td>1</td>\n",
       "      <td>1212021</td>\n",
       "      <td>1</td>\n",
       "      <td>21</td>\n",
       "      <td>2021</td>\n",
       "      <td>1100</td>\n",
       "      <td>2021000002</td>\n",
       "      <td>2021000002</td>\n",
       "      <td>...</td>\n",
       "      <td>1</td>\n",
       "      <td>1</td>\n",
       "      <td>100.0</td>\n",
       "      <td>128.0</td>\n",
       "      <td>1</td>\n",
       "      <td>1</td>\n",
       "      <td>1</td>\n",
       "      <td>1</td>\n",
       "      <td>0</td>\n",
       "      <td>0</td>\n",
       "    </tr>\n",
       "    <tr>\n",
       "      <th>2</th>\n",
       "      <td>3</td>\n",
       "      <td>1</td>\n",
       "      <td>1</td>\n",
       "      <td>1212021</td>\n",
       "      <td>1</td>\n",
       "      <td>21</td>\n",
       "      <td>2021</td>\n",
       "      <td>1100</td>\n",
       "      <td>2021000003</td>\n",
       "      <td>2021000003</td>\n",
       "      <td>...</td>\n",
       "      <td>1</td>\n",
       "      <td>1</td>\n",
       "      <td>100.0</td>\n",
       "      <td>71.0</td>\n",
       "      <td>1</td>\n",
       "      <td>2</td>\n",
       "      <td>1</td>\n",
       "      <td>1</td>\n",
       "      <td>0</td>\n",
       "      <td>0</td>\n",
       "    </tr>\n",
       "    <tr>\n",
       "      <th>3</th>\n",
       "      <td>4</td>\n",
       "      <td>1</td>\n",
       "      <td>1</td>\n",
       "      <td>1172021</td>\n",
       "      <td>1</td>\n",
       "      <td>17</td>\n",
       "      <td>2021</td>\n",
       "      <td>1100</td>\n",
       "      <td>2021000004</td>\n",
       "      <td>2021000004</td>\n",
       "      <td>...</td>\n",
       "      <td>1</td>\n",
       "      <td>1</td>\n",
       "      <td>114.0</td>\n",
       "      <td>165.0</td>\n",
       "      <td>1</td>\n",
       "      <td>1</td>\n",
       "      <td>1</td>\n",
       "      <td>1</td>\n",
       "      <td>0</td>\n",
       "      <td>0</td>\n",
       "    </tr>\n",
       "    <tr>\n",
       "      <th>4</th>\n",
       "      <td>5</td>\n",
       "      <td>1</td>\n",
       "      <td>1</td>\n",
       "      <td>1152021</td>\n",
       "      <td>1</td>\n",
       "      <td>15</td>\n",
       "      <td>2021</td>\n",
       "      <td>1100</td>\n",
       "      <td>2021000005</td>\n",
       "      <td>2021000005</td>\n",
       "      <td>...</td>\n",
       "      <td>1</td>\n",
       "      <td>1</td>\n",
       "      <td>100.0</td>\n",
       "      <td>258.0</td>\n",
       "      <td>1</td>\n",
       "      <td>1</td>\n",
       "      <td>1</td>\n",
       "      <td>1</td>\n",
       "      <td>0</td>\n",
       "      <td>0</td>\n",
       "    </tr>\n",
       "  </tbody>\n",
       "</table>\n",
       "<p>5 rows × 304 columns</p>\n",
       "</div>"
      ],
      "text/plain": [
       "   Unnamed: 0  x.state  fmonth    idate  imonth  iday  iyear  dispcode  \\\n",
       "0           1        1       1  1192021       1    19   2021      1100   \n",
       "1           2        1       1  1212021       1    21   2021      1100   \n",
       "2           3        1       1  1212021       1    21   2021      1100   \n",
       "3           4        1       1  1172021       1    17   2021      1100   \n",
       "4           5        1       1  1152021       1    15   2021      1100   \n",
       "\n",
       "        seqno       x.psu  ...  x.frtres1  x.vegres1  x.frutsu1  x.vegesu1  \\\n",
       "0  2021000001  2021000001  ...          1          1      100.0      214.0   \n",
       "1  2021000002  2021000002  ...          1          1      100.0      128.0   \n",
       "2  2021000003  2021000003  ...          1          1      100.0       71.0   \n",
       "3  2021000004  2021000004  ...          1          1      114.0      165.0   \n",
       "4  2021000005  2021000005  ...          1          1      100.0      258.0   \n",
       "\n",
       "   x.frtlt1a  x.veglt1a  x.frt16a  x.veg23a  x.fruite1  x.vegete1  \n",
       "0          1          1         1         1          0          0  \n",
       "1          1          1         1         1          0          0  \n",
       "2          1          2         1         1          0          0  \n",
       "3          1          1         1         1          0          0  \n",
       "4          1          1         1         1          0          0  \n",
       "\n",
       "[5 rows x 304 columns]"
      ]
     },
     "execution_count": 3,
     "metadata": {},
     "output_type": "execute_result"
    }
   ],
   "source": [
    "df_BRFSS.head()"
   ]
  },
  {
   "cell_type": "markdown",
   "metadata": {},
   "source": [
    "## - Dataset Details"
   ]
  },
  {
   "cell_type": "code",
   "execution_count": 4,
   "metadata": {},
   "outputs": [
    {
     "name": "stdout",
     "output_type": "stream",
     "text": [
      "Total Records: 438693\n",
      "Total Columns: 304\n"
     ]
    }
   ],
   "source": [
    "print('Total Records:', df_BRFSS.shape[0])\n",
    "print('Total Columns:', df_BRFSS.shape[1])"
   ]
  },
  {
   "cell_type": "code",
   "execution_count": 5,
   "metadata": {},
   "outputs": [
    {
     "name": "stdout",
     "output_type": "stream",
     "text": [
      "\n",
      "Column Names:\n",
      " ['Unnamed: 0', 'x.state', 'fmonth', 'idate', 'imonth', 'iday', 'iyear', 'dispcode', 'seqno', 'x.psu', 'ctelenm1', 'pvtresd1', 'colghous', 'statere1', 'celphon1', 'ladult1', 'colgsex', 'numadult', 'landsex', 'nummen', 'numwomen', 'respslct', 'safetime', 'ctelnum1', 'cellfon5', 'cadult1', 'cellsex', 'pvtresd3', 'cclghous', 'cstate1', 'landline', 'hhadult', 'sexvar', 'genhlth', 'physhlth', 'menthlth', 'poorhlth', 'priminsr', 'persdoc3', 'medcost1', 'checkup1', 'exerany2', 'bphigh6', 'bpmeds', 'cholchk3', 'toldhi3', 'cholmed3', 'cvdinfr4', 'cvdcrhd4', 'cvdstrk3', 'asthma3', 'asthnow', 'chcscncr', 'chcocncr', 'chccopd3', 'addepev3', 'chckdny2', 'diabete4', 'diabage3', 'havarth5', 'arthexer', 'arthedu', 'lmtjoin3', 'arthdis2', 'joinpai2', 'marital', 'educa', 'renthom1', 'numhhol3', 'numphon3', 'cpdemo1b', 'veteran3', 'employ1', 'children', 'income3', 'pregnant', 'weight2', 'height3', 'deaf', 'blind', 'decide', 'diffwalk', 'diffdres', 'diffalon', 'smoke100', 'smokday2', 'usenow3', 'ecignow1', 'alcday5', 'avedrnk3', 'drnk3ge5', 'maxdrnks', 'flushot7', 'flshtmy3', 'imfvpla2', 'pneuvac4', 'hivtst7', 'hivtstd3', 'fruit2', 'fruitju2', 'fvgreen1', 'frenchf1', 'potatoe1', 'vegetab2', 'pdiabtst', 'prediab1', 'insulin1', 'bldsugar', 'feetchk3', 'doctdiab', 'chkhemo3', 'feetchk', 'eyeexam1', 'diabeye', 'diabedu', 'toldcfs', 'havecfs', 'workcfs', 'toldhepc', 'trethepc', 'prirhepc', 'havehepc', 'havehepb', 'medshepb', 'hpvadvc4', 'hpvadsht', 'tetanus1', 'shingle2', 'lcsfirst', 'lcslast', 'lcsnumcg', 'lcsctscn', 'hadmam', 'howlong', 'cervscrn', 'crvclcnc', 'crvclpap', 'crvclhpv', 'hadhyst2', 'psatest1', 'psatime1', 'pcpsars2', 'pcstalk', 'hadsigm4', 'colnsigm', 'colntes1', 'sigmtes1', 'lastsig4', 'colncncr', 'vircolo1', 'vclntes1', 'smalstol', 'stoltest', 'stooldn1', 'bldstfit', 'sdnates1', 'cncrdiff', 'cncrage', 'cncrtyp1', 'csrvtrt3', 'csrvdoc1', 'csrvsum', 'csrvrtrn', 'csrvinst', 'csrvinsr', 'csrvdein', 'csrvclin', 'csrvpain', 'csrvctl2', 'hombpchk', 'homrgchk', 'wherebp', 'sharebp', 'wtchsalt', 'dradvise', 'cimemlos', 'cdhouse', 'cdassist', 'cdhelp', 'cdsocial', 'cddiscus', 'caregiv1', 'crgvrel4', 'crgvlng1', 'crgvhrs1', 'crgvprb3', 'crgvalzd', 'crgvper1', 'crgvhou1', 'crgvexpt', 'acedeprs', 'acedrink', 'acedrugs', 'aceprisn', 'acedivrc', 'acepunch', 'acehurt1', 'aceswear', 'acetouch', 'acetthem', 'acehvsex', 'aceadsaf', 'aceadned', 'marijan1', 'usemrjn3', 'rsnmrjn2', 'lastsmk2', 'stopsmk2', 'firearm5', 'gunload', 'loadulk2', 'rcsgendr', 'rcsrltn2', 'casthdx2', 'casthno2', 'birthsex', 'somale', 'sofemale', 'trnsgndr', 'qstver', 'qstlang', 'x.metstat', 'x.urbstat', 'mscode', 'x.ststr', 'x.strwt', 'x.rawrake', 'x.wt2rake', 'x.imprace', 'x.chispnc', 'x.crace1', 'x.cprace1', 'cageg', 'x.cllcpwt', 'x.dualuse', 'x.dualcor', 'x.llcpwt2', 'x.llcpwt', 'x.rfhlth', 'x.phys14d', 'x.ment14d', 'x.hlthpln', 'x.hcvu652', 'x.totinda', 'x.rfhype6', 'x.cholch3', 'x.rfchol3', 'x.michd', 'x.ltasth1', 'x.casthm1', 'x.asthms1', 'x.drdxar3', 'x.lmtact3', 'x.lmtwrk3', 'x.prace1', 'x.mrace1', 'x.hispanc', 'x.race', 'x.raceg21', 'x.racegr3', 'x.raceprv', 'x.sex', 'x.ageg5yr', 'x.age65yr', 'x.age80', 'x.age.g', 'htin4', 'htm4', 'wtkg3', 'x.bmi5', 'x.bmi5cat', 'x.rfbmi5', 'x.chldcnt', 'x.educag', 'x.incomg1', 'x.smoker3', 'x.rfsmok3', 'x.cureci1', 'drnkany5', 'drocdy3.', 'x.rfbing5', 'x.drnkwk1', 'x.rfdrhv7', 'x.flshot7', 'x.pneumo3', 'x.aidtst4', 'ftjuda2.', 'frutda2.', 'grenda1.', 'frnchda.', 'potada1.', 'vegeda2.', 'x.misfrt1', 'x.misveg1', 'x.frtres1', 'x.vegres1', 'x.frutsu1', 'x.vegesu1', 'x.frtlt1a', 'x.veglt1a', 'x.frt16a', 'x.veg23a', 'x.fruite1', 'x.vegete1']\n"
     ]
    }
   ],
   "source": [
    "print('\\nColumn Names:\\n', list(df_BRFSS.columns))"
   ]
  },
  {
   "cell_type": "code",
   "execution_count": 6,
   "metadata": {},
   "outputs": [],
   "source": [
    "# Columns with more than 50% of Null Values\n",
    "# Null_cols = df_BRFSS.isnull().sum()/len(df_BRFSS)\n",
    "# BRFSS_Nullcols = Null_cols[Null_cols>0.6].index\n",
    "# display(len(BRFSS_Nullcols))"
   ]
  },
  {
   "cell_type": "code",
   "execution_count": 7,
   "metadata": {},
   "outputs": [],
   "source": [
    "# BRFSS_Nullcols"
   ]
  },
  {
   "cell_type": "markdown",
   "metadata": {},
   "source": [
    "## - Filter data to Indiana State"
   ]
  },
  {
   "cell_type": "code",
   "execution_count": 8,
   "metadata": {},
   "outputs": [
    {
     "name": "stdout",
     "output_type": "stream",
     "text": [
      "IN Total Records: 9929\n",
      "IN Total Columns: 304\n"
     ]
    }
   ],
   "source": [
    "#Saperating out the Indiana State from rest of the states \n",
    "df_Indiana = df_BRFSS[df_BRFSS['x.state']==18]\n",
    "print('IN Total Records:', df_Indiana.shape[0])\n",
    "print('IN Total Columns:', df_Indiana.shape[1])"
   ]
  },
  {
   "cell_type": "markdown",
   "metadata": {},
   "source": [
    "### Pre-processing: NaN removal"
   ]
  },
  {
   "cell_type": "code",
   "execution_count": 9,
   "metadata": {},
   "outputs": [
    {
     "name": "stdout",
     "output_type": "stream",
     "text": [
      "Columns containing number of null values:\n",
      "\n"
     ]
    },
    {
     "data": {
      "text/plain": [
       "stoltest    9929\n",
       "pdiabtst    9929\n",
       "crvclpap    9929\n",
       "crvclhpv    9929\n",
       "hadhyst2    9929\n",
       "            ... \n",
       "potatoe1    1139\n",
       "wtkg3       1120\n",
       "frenchf1    1096\n",
       "fvgreen1    1052\n",
       "fruitju2    1012\n",
       "Length: 180, dtype: int64"
      ]
     },
     "execution_count": 9,
     "metadata": {},
     "output_type": "execute_result"
    }
   ],
   "source": [
    "print('Columns containing number of null values:\\n')\n",
    "null_val = df_Indiana.isnull().sum().sort_values(ascending=False)\n",
    "\n",
    "null_val[null_val>1000]"
   ]
  },
  {
   "cell_type": "code",
   "execution_count": 10,
   "metadata": {},
   "outputs": [
    {
     "name": "stdout",
     "output_type": "stream",
     "text": [
      "\n",
      "Nan removal: Remove col if all values are null\n",
      "Total Records: 9929\n",
      "Total Columns: 220\n"
     ]
    }
   ],
   "source": [
    "# print('Columns containing all the values null:\\n')\n",
    "# print(df_Indiana.columns[df_Indiana.isnull().all()])\n",
    "\n",
    "print('\\nNan removal: Remove col if all values are null') # remove column if all the values are null\n",
    "df_Indiana_na = df_Indiana.dropna(axis=1, how='all')\n",
    "df_IN = df_Indiana_na.drop(['Unnamed: 0'], axis=1)\n",
    "\n",
    "print('Total Records:', df_IN.shape[0])\n",
    "print('Total Columns:', df_IN.shape[1])\n",
    "\n",
    "# df_IN.to_csv('../Data/BRFSS_IN_Pros.csv', index=False)"
   ]
  },
  {
   "cell_type": "markdown",
   "metadata": {},
   "source": [
    "### Year wise count"
   ]
  },
  {
   "cell_type": "code",
   "execution_count": 11,
   "metadata": {},
   "outputs": [
    {
     "name": "stdout",
     "output_type": "stream",
     "text": [
      "Contains data of following year/count:\n",
      "2021    9439\n",
      "2022     490\n",
      "Name: iyear, dtype: int64\n"
     ]
    }
   ],
   "source": [
    "print('Contains data of following year/count:')\n",
    "print(df_IN['iyear'].value_counts())\n",
    "# print('\\n\\nIndiana State Data:\\n', df_IN)"
   ]
  },
  {
   "cell_type": "markdown",
   "metadata": {},
   "source": [
    "## Indicator Focused Analysis\n",
    "\n",
    "1. Quality of Life \t\n",
    "\n",
    "    i. Poor or fair health Percentage of adults reporting fair or poor health (age-adjusted).\n",
    "\n",
    " \tii. Poor physical health days Average number of physically unhealthy days reported in past 30 days (age-adjusted).\n",
    "\n",
    " \tiii. Poor mental health days Average number of mentally unhealthy days reported in past 30 days (age-adjusted).\n",
    "\n",
    "2. Tobacco Use\t\n",
    "\n",
    "    i. Adult smoking Percentage of adults who are current smokers (age-adjusted).\n",
    "\n",
    "3. Diet and Exercise\n",
    "\n",
    "    i. Adult obesity Percentage of the adult population (age 18 and older) that reports a body mass index (BMI) greater than or equal to 30 kg/m2 (age-adjusted).\n",
    "\n",
    " \tii. Physical inactivity\tPercentage of adults age 18 and over reporting no leisure-time physical activity (age-adjusted).\n",
    "\n",
    "4. Alcohol and Drug Use\t\n",
    "\n",
    "    i. Excessive drinking Percentage of adults reporting binge or heavy drinking (age-adjusted).\n",
    "    "
   ]
  },
  {
   "cell_type": "markdown",
   "metadata": {},
   "source": [
    "## - Column selection based on indicators"
   ]
  },
  {
   "cell_type": "code",
   "execution_count": 37,
   "metadata": {},
   "outputs": [
    {
     "name": "stdout",
     "output_type": "stream",
     "text": [
      "Total Records: 9929\n",
      "Total Columns: 29\n"
     ]
    }
   ],
   "source": [
    "# Selecting the columns based on the above indicators\n",
    "df_IN_Health = df_IN.filter(regex='smoke|_smoker3|genhlth|menthlth|poorhlth|physhlth|age|drug|alcohol|Alcohal|idate|imonth|iday|iyear|exerany2|x.rfbing5|x.rfbmi5|drnk3ge5|x.imprace|cadult1|ladult1|x.racegr3|x.race|x.ageg5yr|htm4|wtkg3')\n",
    "\n",
    "print('Total Records:', df_IN_Health.shape[0])\n",
    "print('Total Columns:', df_IN_Health.shape[1])"
   ]
  },
  {
   "cell_type": "code",
   "execution_count": 46,
   "metadata": {},
   "outputs": [
    {
     "name": "stdout",
     "output_type": "stream",
     "text": [
      "18-54    4321\n",
      "65-79    2558\n",
      "55-64    1933\n",
      "80+       806\n",
      "0         311\n",
      "Name: age_grp, dtype: int64\n"
     ]
    },
    {
     "name": "stderr",
     "output_type": "stream",
     "text": [
      "C:\\Users\\asawa\\AppData\\Local\\Temp\\ipykernel_20676\\2639491667.py:10: SettingWithCopyWarning: \n",
      "A value is trying to be set on a copy of a slice from a DataFrame.\n",
      "Try using .loc[row_indexer,col_indexer] = value instead\n",
      "\n",
      "See the caveats in the documentation: https://pandas.pydata.org/pandas-docs/stable/user_guide/indexing.html#returning-a-view-versus-a-copy\n",
      "  df_IN_Health['age_grp'] = pd.cut(df_IN_Health['x.ageg5yr'], bins=bins, labels=labels)\n"
     ]
    }
   ],
   "source": [
    "# age filter processinhg\n",
    "\n",
    "# create bins for age groups\n",
    "bins = [0, 7, 9, 12, 13, 14]\n",
    "\n",
    "# create labels for age groups\n",
    "labels = ['18-54', '55-64', '65-79', '80+', '0']\n",
    "\n",
    "# create a new column with age groups\n",
    "df_IN_Health['age_grp'] = pd.cut(df_IN_Health['x.ageg5yr'], bins=bins, labels=labels)\n",
    "\n",
    "print(df_IN_Health['age_grp'].value_counts())"
   ]
  },
  {
   "cell_type": "code",
   "execution_count": 55,
   "metadata": {},
   "outputs": [
    {
     "name": "stdout",
     "output_type": "stream",
     "text": [
      "white       7847\n",
      "black        781\n",
      "other        550\n",
      "hispanic     500\n",
      "NA           251\n",
      "Name: race_grp, dtype: int64\n"
     ]
    },
    {
     "name": "stderr",
     "output_type": "stream",
     "text": [
      "C:\\Users\\asawa\\AppData\\Local\\Temp\\ipykernel_20676\\2384076557.py:10: SettingWithCopyWarning: \n",
      "A value is trying to be set on a copy of a slice from a DataFrame.\n",
      "Try using .loc[row_indexer,col_indexer] = value instead\n",
      "\n",
      "See the caveats in the documentation: https://pandas.pydata.org/pandas-docs/stable/user_guide/indexing.html#returning-a-view-versus-a-copy\n",
      "  df_IN_Health['race_grp'] = pd.cut(df_IN_Health['x.race'], bins=bins, labels=labels)\n"
     ]
    }
   ],
   "source": [
    "# race filter processing\n",
    "\n",
    "# create bins for age groups\n",
    "bins = [0, 1, 2, 7, 8, 9]\n",
    "\n",
    "# create labels for age groups\n",
    "labels = ['white', 'black', 'other', 'hispanic', 'NA']\n",
    "\n",
    "# create a new column with age groups\n",
    "df_IN_Health['race_grp'] = pd.cut(df_IN_Health['x.race'], bins=bins, labels=labels)\n",
    "\n",
    "print(df_IN_Health['race_grp'].value_counts())"
   ]
  },
  {
   "cell_type": "markdown",
   "metadata": {},
   "source": [
    "## 1. Quality of Life"
   ]
  },
  {
   "cell_type": "markdown",
   "metadata": {},
   "source": [
    "### 1.1 Poor or fair health: Percentage of adults reporting fair or poor health"
   ]
  },
  {
   "cell_type": "code",
   "execution_count": 15,
   "metadata": {},
   "outputs": [
    {
     "name": "stdout",
     "output_type": "stream",
     "text": [
      "*-*-* % of adults reporting fair or poor health *-*-*\n",
      "\n"
     ]
    },
    {
     "data": {
      "image/png": "[encoded data removed]",
      "text/plain": [
       "<Figure size 432x288 with 1 Axes>"
      ]
     },
     "metadata": {
      "needs_background": "light"
     },
     "output_type": "display_data"
    }
   ],
   "source": [
    "print('*-*-* % of adults reporting fair or poor health *-*-*\\n')\n",
    "    \n",
    "# calculate the % values for that gr\n",
    "genhlth_dict = dict(round(df_IN_Health['genhlth'].value_counts()/len(df_IN_Health)*100))\n",
    "genhlth_key = {1.0 :'Excellent', 2.0:'V. Good', 3.0:'Good', 4.0:'Fair', 5.0:'Poor', 7.0:'Notsure', 9.0:'Refused'}\n",
    "\n",
    "try:\n",
    "    genhlth_dict.pop(7.0)\n",
    "    genhlth_dict.pop(9.0) # remove not answered values (9 label)\n",
    "except KeyError: # key is not present in the dictionary\n",
    "    pass\n",
    "\n",
    "# rename the keys to actual label (1->excellent)\n",
    "new_dict = {}\n",
    "for ix in genhlth_dict:\n",
    "    new_dict[genhlth_key[ix]] = genhlth_dict[ix]\n",
    "# print('\\nUpdated dict:', new_dict)\n",
    "\n",
    "# keep order of graph fixed\n",
    "new_dict = OrderedDict([('Excellent', new_dict['Excellent']), ('V. Good', new_dict['V. Good']), ('Good', new_dict['Good']), ('Fair', new_dict['Fair']), ('Poor', new_dict['Poor'])])\n",
    "\n",
    "names = list(new_dict.keys())\n",
    "values = list(new_dict.values())\n",
    "\n",
    "plt.bar(names, values)\n",
    "\n",
    "# add count label and title\n",
    "for ix in range(len(names)):    \n",
    "    v = int(values[ix])\n",
    "    plt.text(ix, v, str(v), ha='center', fontsize=10)\n",
    "\n",
    "# Set the labels and title\n",
    "plt.xlabel('Health Status')\n",
    "plt.ylabel('Count %')\n",
    "plt.title('General Health Status Report')\n",
    "\n",
    "# Show the plots\n",
    "plt.show()"
   ]
  },
  {
   "cell_type": "markdown",
   "metadata": {},
   "source": [
    "### 1.1.1 Poor or fair health: Age adjusted"
   ]
  },
  {
   "cell_type": "code",
   "execution_count": 16,
   "metadata": {},
   "outputs": [
    {
     "name": "stdout",
     "output_type": "stream",
     "text": [
      "*-*-* % of adults reporting fair or poor health - age adjusted *-*-*\n",
      "\n"
     ]
    },
    {
     "data": {
      "image/png": "[encoded data removed]",
      "text/plain": [
       "<Figure size 720x720 with 4 Axes>"
      ]
     },
     "metadata": {
      "needs_background": "light"
     },
     "output_type": "display_data"
    }
   ],
   "source": [
    "print('*-*-* % of adults reporting fair or poor health - age adjusted *-*-*\\n')\n",
    "\n",
    "age_grps = ['55+', '55-64', '65-79', '80+'] # define labels for title\n",
    "\n",
    "# group to filter the values based on indicators\n",
    "gr1 = ['55-64', '65-79', '80+'] # 55+ group\n",
    "gr2 = ['55-64'] # 55-64 group\n",
    "gr3 = ['65-79'] # 65-79 group\n",
    "gr4 = ['80+'] # 80+ group\n",
    "\n",
    "values_to_filter = [gr1, gr2, gr3, gr4]\n",
    "\n",
    "\n",
    "# Position of each subplot where 221 means 2 row, 2 columns, 1st index\n",
    "positions = [221, 222, 223, 224]\n",
    "  \n",
    "# Colors to distinguish the plot\n",
    "colors = ['r', 'g', 'b', 'y']\n",
    "  \n",
    "# Plot the subgraphs\n",
    "fig = plt.figure(figsize=(10, 10)) # set the size of the plots (width, ht)\n",
    "\n",
    "\n",
    "for i, grp in enumerate(values_to_filter): # loop to plot 4 graphs\n",
    "    # select the age grp to plot graph based on above defined gr\n",
    "    df_IN_age_grp = df_IN_Health[df_IN_Health['age_grp'].isin(grp)]\n",
    "#     print(colors[i], grp, df_IN_age_grp.shape)\n",
    "    \n",
    "    # calculate the % values for that gr\n",
    "    genhlth_dict = dict(round(df_IN_age_grp['genhlth'].value_counts()/len(df_IN_age_grp)*100))\n",
    "    genhlth_key = {1.0 :'Excellent', 2.0:'V. Good', 3.0:'Good', 4.0:'Fair', 5.0:'Poor', 7.0:'Notsure', 9.0:'Refused'}\n",
    "#     print(df_IN_age_grp['genhlth'].value_counts())\n",
    "    \n",
    "    try:\n",
    "        genhlth_dict.pop(7.0)\n",
    "        genhlth_dict.pop(9.0) # remove not answered values (9 label)\n",
    "    except KeyError: # key is not present in the dictionary\n",
    "        pass\n",
    "    \n",
    "    # rename the keys to actual label (1->excellent)\n",
    "    new_dict = {}\n",
    "    for ix in genhlth_dict:\n",
    "        new_dict[genhlth_key[ix]] = genhlth_dict[ix]\n",
    "#     print('\\nUpdated dict-:', new_dict)\n",
    "\n",
    "    new_dict = OrderedDict([('Excellent', new_dict['Excellent']), ('V. Good', new_dict['V. Good']), ('Good', new_dict['Good']), ('Fair', new_dict['Fair']), ('Poor', new_dict['Poor'])])\n",
    "\n",
    "    names = list(new_dict.keys())\n",
    "    values = list(new_dict.values())\n",
    "\n",
    "    ax = fig.add_subplot(positions[i]) # arrange the position of graph\n",
    "    plt.bar(names, values, color=colors[i])\n",
    "\n",
    "    # add count label and title\n",
    "    for ix in range(len(names)):    \n",
    "        v = int(values[ix])\n",
    "        ax.text(ix, v, str(v), ha='center', fontsize=10)\n",
    "        title = 'General Health Stats for Age Group: '+age_grps[i]\n",
    "    ax.set_title(str(title))\n",
    "    # Set the labels and title\n",
    "    ax.set_xlabel('Health Status')\n",
    "    ax.set_ylabel('Count %')\n",
    "\n",
    "# Show the plots\n",
    "plt.show()"
   ]
  },
  {
   "cell_type": "markdown",
   "metadata": {},
   "source": [
    "### 1.1.2 Poor or fair health: Race adjusted"
   ]
  },
  {
   "cell_type": "code",
   "execution_count": 17,
   "metadata": {},
   "outputs": [
    {
     "name": "stdout",
     "output_type": "stream",
     "text": [
      "*-*-* % of adults reporting fair or poor health - race adjusted *-*-*\n",
      "\n"
     ]
    },
    {
     "data": {
      "image/png": "[encoded data removed]",
      "text/plain": [
       "<Figure size 792x720 with 4 Axes>"
      ]
     },
     "metadata": {
      "needs_background": "light"
     },
     "output_type": "display_data"
    }
   ],
   "source": [
    "print('*-*-* % of adults reporting fair or poor health - race adjusted *-*-*\\n')\n",
    "\n",
    "# group to filter the values based on indicators\n",
    "gr1 = ['white'] \n",
    "gr2 = ['black'] \n",
    "gr3 = ['hispanic'] \n",
    "gr4 = ['other']\n",
    "\n",
    "values_to_filter = [gr1, gr2, gr3, gr4]\n",
    "\n",
    "\n",
    "# Position of each subplot where 221 means 2 row, 2 columns, 1st index\n",
    "positions = [221, 222, 223, 224]\n",
    "  \n",
    "# Colors to distinguish the plot\n",
    "colors = ['r', 'g', 'b', 'y']\n",
    "  \n",
    "# Plot the subgraphs\n",
    "fig = plt.figure(figsize=(11, 10)) # set the size of the plots (width, ht)\n",
    "\n",
    "\n",
    "for i, grp in enumerate(values_to_filter): # loop to plot 4 graphs\n",
    "    # select the age grp to plot graph based on above defined gr\n",
    "    df_IN_race_grp = df_IN_Health[df_IN_Health['race_grp'].isin(grp)]\n",
    "#     print(colors[i], grp, df_IN_race_grp.shape)\n",
    "    \n",
    "    # calculate the % values for that gr\n",
    "    genhlth_dict = dict(round(df_IN_race_grp['genhlth'].value_counts()/len(df_IN_race_grp)*100))\n",
    "    genhlth_key = {1.0 :'Excellent', 2.0:'V. Good', 3.0:'Good', 4.0:'Fair', 5.0:'Poor', 7.0:'Notsure', 9.0:'Refused'}\n",
    "#     print(df_IN_race_grp['genhlth'].value_counts())\n",
    "\n",
    "    try:\n",
    "        genhlth_dict.pop(7.0)\n",
    "        genhlth_dict.pop(9.0) # remove not answered values (9 label)\n",
    "    except KeyError: # key is not present in the dictionary\n",
    "        pass\n",
    "    \n",
    "    # rename the keys to actual label (1->excellent)\n",
    "    new_dict = {}\n",
    "    for ix in genhlth_dict:\n",
    "        new_dict[genhlth_key[ix]] = genhlth_dict[ix]\n",
    "#     print('\\nUpdated dict:', new_dict)\n",
    "\n",
    "    new_dict = OrderedDict([('Excellent', new_dict['Excellent']), ('V. Good', new_dict['V. Good']), ('Good', new_dict['Good']), ('Fair', new_dict['Fair']), ('Poor', new_dict['Poor'])])\n",
    "\n",
    "    names = list(new_dict.keys())\n",
    "    values = list(new_dict.values())\n",
    "\n",
    "    ax = fig.add_subplot(positions[i]) # arrange the position of graph\n",
    "    plt.bar(names, values, color=colors[i])\n",
    "\n",
    "    # add count label and title\n",
    "    for ix in range(len(names)):    \n",
    "        v = int(values[ix])\n",
    "        ax.text(ix, v, str(v), ha='center', fontsize=10)\n",
    "    title = 'General Health Stats for Race: '+grp[0]\n",
    "    ax.set_title(str(title))\n",
    "    # Set the labels and title\n",
    "    ax.set_xlabel('Health Status')\n",
    "    ax.set_ylabel('count %')\n",
    "\n",
    "# Show the plots\n",
    "plt.show()"
   ]
  },
  {
   "cell_type": "markdown",
   "metadata": {},
   "source": [
    "### 1.2 Poor physical health days"
   ]
  },
  {
   "cell_type": "code",
   "execution_count": 18,
   "metadata": {},
   "outputs": [
    {
     "name": "stdout",
     "output_type": "stream",
     "text": [
      "*-*-* Average number of physically unhealthy days reported in past 30 days *-*-*\n",
      "\n"
     ]
    },
    {
     "data": {
      "image/png": "[encoded data removed]",
      "text/plain": [
       "<Figure size 432x288 with 1 Axes>"
      ]
     },
     "metadata": {
      "needs_background": "light"
     },
     "output_type": "display_data"
    }
   ],
   "source": [
    "print('*-*-* Average number of physically unhealthy days reported in past 30 days *-*-*\\n')\n",
    "\n",
    "# physhlth - Poor physical health days\n",
    "\n",
    "df_IN_Health_30 = df_IN_Health[(df_IN_Health['iyear']==2021) & (df_IN_Health['imonth']==12)]\n",
    "\n",
    "genhlth_dict = dict(round((df_IN_Health_30['physhlth'].value_counts()/len(df_IN_Health_30))*100))\n",
    "# sns.countplot(data=df_IN_Health_30, x=\"physhlth\")\n",
    "'''\n",
    "1-30: No of days\n",
    "88:   None\n",
    "77:   Not sure\n",
    "99:   Refused\n",
    "'''\n",
    "\n",
    "try:\n",
    "    genhlth_dict[0] = genhlth_dict.pop(88) # change value 88 to 0 days\n",
    "    genhlth_dict.pop(77.0) # remove not answered values (77 label)\n",
    "    genhlth_dict.pop(99.0) # remove not answered values (9 label)\n",
    "except KeyError: # key is not present in the dictionary\n",
    "    pass\n",
    "\n",
    "names = list(genhlth_dict.keys())\n",
    "values = list(genhlth_dict.values())\n",
    "\n",
    "# Create a figure and axis object\n",
    "fig, ax = plt.subplots()\n",
    "\n",
    "# Plot the bars with different colors\n",
    "# ax.bar(names, values)\n",
    "ax.hist(names, weights=values)\n",
    "\n",
    "# Set the labels and title\n",
    "ax.set_xlabel('No of Days')\n",
    "ax.set_ylabel('count %')\n",
    "ax.set_title('Physical Health Status Report')\n",
    "\n",
    "# Show the plot\n",
    "plt.show()"
   ]
  },
  {
   "cell_type": "markdown",
   "metadata": {},
   "source": [
    "### 1.2.1 Poor physical health days: Age adjusted."
   ]
  },
  {
   "cell_type": "code",
   "execution_count": 19,
   "metadata": {},
   "outputs": [
    {
     "name": "stdout",
     "output_type": "stream",
     "text": [
      "*-*-* Average number of physically unhealthy days reported in past 30 days - Age adjusted *-*-*\n",
      "\n"
     ]
    },
    {
     "name": "stderr",
     "output_type": "stream",
     "text": [
      "C:\\Users\\asawa\\AppData\\Local\\Temp\\ipykernel_20676\\2439403334.py:36: UserWarning: Boolean Series key will be reindexed to match DataFrame index.\n",
      "  df_IN_age_grp = df_IN_Health_30[df_IN_Health['age_grp'].isin(grp)]\n",
      "C:\\Users\\asawa\\AppData\\Local\\Temp\\ipykernel_20676\\2439403334.py:36: UserWarning: Boolean Series key will be reindexed to match DataFrame index.\n",
      "  df_IN_age_grp = df_IN_Health_30[df_IN_Health['age_grp'].isin(grp)]\n",
      "C:\\Users\\asawa\\AppData\\Local\\Temp\\ipykernel_20676\\2439403334.py:36: UserWarning: Boolean Series key will be reindexed to match DataFrame index.\n",
      "  df_IN_age_grp = df_IN_Health_30[df_IN_Health['age_grp'].isin(grp)]\n",
      "C:\\Users\\asawa\\AppData\\Local\\Temp\\ipykernel_20676\\2439403334.py:36: UserWarning: Boolean Series key will be reindexed to match DataFrame index.\n",
      "  df_IN_age_grp = df_IN_Health_30[df_IN_Health['age_grp'].isin(grp)]\n"
     ]
    },
    {
     "data": {
      "image/png": "[encoded data removed]",
      "text/plain": [
       "<Figure size 792x720 with 4 Axes>"
      ]
     },
     "metadata": {
      "needs_background": "light"
     },
     "output_type": "display_data"
    }
   ],
   "source": [
    "print('*-*-* Average number of physically unhealthy days reported in past 30 days - Age adjusted *-*-*\\n')\n",
    "\n",
    "# filter the past 30 days data based on the date\n",
    "df_IN_Health_30 = df_IN_Health[(df_IN_Health['iyear']==2021) & (df_IN_Health['imonth']==12)]\n",
    "\n",
    "# sns.countplot(data=df_IN_Health_30, x=\"physhlth\")\n",
    "'''\n",
    "1-30: No of days\n",
    "88:   None\n",
    "77:   Not sure\n",
    "99:   Refused\n",
    "'''\n",
    "\n",
    "age_grps = ['55+', '55-64', '65-79', '80+'] # define labels for title\n",
    "\n",
    "# group to filter the values based on indicators\n",
    "gr1 = ['55-64', '65-79', '80+'] # 55+ group\n",
    "gr2 = ['55-64'] # 55-64 group\n",
    "gr3 = ['65-79'] # 65-79 group\n",
    "gr4 = ['80+'] # 80+ group\n",
    "\n",
    "values_to_filter = [gr1, gr2, gr3, gr4]\n",
    "\n",
    "# Position of each subplot where 221 means 2 row, 2 columns, 1st index\n",
    "positions = [221, 222, 223, 224]\n",
    "  \n",
    "# Colors to distinguish the plot\n",
    "colors = ['r', 'g', 'b', 'y']\n",
    "  \n",
    "# Plot the subgraphs\n",
    "fig = plt.figure(figsize=(11, 10)) # set the size of the plots (width, ht)\n",
    "\n",
    "\n",
    "for i, grp in enumerate(values_to_filter): # loop to plot 4 graphs\n",
    "    # select the age grp to plot graph based on above defined gr\n",
    "    df_IN_age_grp = df_IN_Health_30[df_IN_Health['age_grp'].isin(grp)]\n",
    "#     print(colors[i], grp, df_IN_age_grp.shape)\n",
    "    \n",
    "    # calculate the % values for that gr\n",
    "    genhlth_dict = dict(round((df_IN_age_grp['physhlth'].value_counts()/len(df_IN_age_grp))*100))\n",
    "#     print(df_IN_age_grp['physhlth'].value_counts())    \n",
    "    \n",
    "    try:\n",
    "        genhlth_dict[0] = genhlth_dict.pop(88) # change value 88 to 0 days\n",
    "        genhlth_dict.pop(77.0) # remove not answered values (77 label)\n",
    "        genhlth_dict.pop(99.0) # remove not answered values (9 label)\n",
    "    except KeyError: # key is not present in the dictionary\n",
    "        pass\n",
    "    \n",
    "    names = list(genhlth_dict.keys())\n",
    "    values = list(genhlth_dict.values())\n",
    "\n",
    "    ax = fig.add_subplot(positions[i]) # arrange the position of graph\n",
    "    plt.hist(names, weights=values)\n",
    "    \n",
    "#     plt.bar(names, values, color=colors[i])\n",
    "#     # add count label and title\n",
    "#     for ix in range(len(names)):    \n",
    "#         v = int(values[ix])\n",
    "#         ax.text(ix, v, str(v), ha='center', fontsize=10)\n",
    "    \n",
    "    \n",
    "    title = 'Physical Health Stats for Age: '+age_grps[i]\n",
    "    ax.set_title(str(title))\n",
    "    # Set the labels and title\n",
    "    ax.set_xlabel('No of Days')\n",
    "    ax.set_ylabel('Count %')\n",
    "\n",
    "# Show the plots\n",
    "plt.show()"
   ]
  },
  {
   "cell_type": "markdown",
   "metadata": {},
   "source": [
    "### 1.2.2 Poor physical health days: Race adjusted."
   ]
  },
  {
   "cell_type": "code",
   "execution_count": 20,
   "metadata": {},
   "outputs": [
    {
     "name": "stdout",
     "output_type": "stream",
     "text": [
      "*-*-* Average number of physically unhealthy days reported in past 30 days - Race adjusted *-*-*\n",
      "\n"
     ]
    },
    {
     "name": "stderr",
     "output_type": "stream",
     "text": [
      "C:\\Users\\asawa\\AppData\\Local\\Temp\\ipykernel_20676\\2015189564.py:34: UserWarning: Boolean Series key will be reindexed to match DataFrame index.\n",
      "  df_IN_race_grp = df_IN_Health_30[df_IN_Health['race_grp'].isin(grp)]\n",
      "C:\\Users\\asawa\\AppData\\Local\\Temp\\ipykernel_20676\\2015189564.py:34: UserWarning: Boolean Series key will be reindexed to match DataFrame index.\n",
      "  df_IN_race_grp = df_IN_Health_30[df_IN_Health['race_grp'].isin(grp)]\n",
      "C:\\Users\\asawa\\AppData\\Local\\Temp\\ipykernel_20676\\2015189564.py:34: UserWarning: Boolean Series key will be reindexed to match DataFrame index.\n",
      "  df_IN_race_grp = df_IN_Health_30[df_IN_Health['race_grp'].isin(grp)]\n",
      "C:\\Users\\asawa\\AppData\\Local\\Temp\\ipykernel_20676\\2015189564.py:34: UserWarning: Boolean Series key will be reindexed to match DataFrame index.\n",
      "  df_IN_race_grp = df_IN_Health_30[df_IN_Health['race_grp'].isin(grp)]\n"
     ]
    },
    {
     "data": {
      "image/png": "[encoded data removed]",
      "text/plain": [
       "<Figure size 792x720 with 4 Axes>"
      ]
     },
     "metadata": {
      "needs_background": "light"
     },
     "output_type": "display_data"
    }
   ],
   "source": [
    "print('*-*-* Average number of physically unhealthy days reported in past 30 days - Race adjusted *-*-*\\n')\n",
    "\n",
    "# filter the past 30 days data based on the date\n",
    "df_IN_Health_30 = df_IN_Health[(df_IN_Health['iyear']==2021) & (df_IN_Health['imonth']==12)]\n",
    "\n",
    "# sns.countplot(data=df_IN_Health_30, x=\"physhlth\")\n",
    "'''\n",
    "1-30: No of days\n",
    "88:   None\n",
    "77:   Not sure\n",
    "99:   Refused\n",
    "'''\n",
    "\n",
    "# group to filter the values based on indicators\n",
    "gr1 = ['white'] \n",
    "gr2 = ['black'] \n",
    "gr3 = ['hispanic'] \n",
    "gr4 = ['other']\n",
    "\n",
    "values_to_filter = [gr1, gr2, gr3, gr4]\n",
    "\n",
    "# Position of each subplot where 221 means 2 row, 2 columns, 1st index\n",
    "positions = [221, 222, 223, 224]\n",
    "  \n",
    "# Colors to distinguish the plot\n",
    "colors = ['r', 'g', 'b', 'y']\n",
    "  \n",
    "# Plot the subgraphs\n",
    "fig = plt.figure(figsize=(11, 10)) # set the size of the plots (width, ht)\n",
    "\n",
    "\n",
    "for i, grp in enumerate(values_to_filter): # loop to plot 4 graphs\n",
    "    # select the age grp to plot graph based on above defined gr\n",
    "    df_IN_race_grp = df_IN_Health_30[df_IN_Health['race_grp'].isin(grp)]\n",
    "#     print(colors[i], grp, df_IN_age_grp.shape)\n",
    "    \n",
    "    # calculate the % values for that gr\n",
    "    genhlth_dict = dict(round(df_IN_race_grp['physhlth'].value_counts()/len(df_IN_race_grp)*100))     \n",
    "\n",
    "    try:\n",
    "        genhlth_dict[0] = genhlth_dict.pop(88) # change value 88 to 0 days\n",
    "        genhlth_dict.pop(77.0) # remove not answered values (77 label)\n",
    "        genhlth_dict.pop(99.0) # remove not answered values (9 label)\n",
    "    except KeyError: # key is not present in the dictionary\n",
    "        pass\n",
    "    \n",
    "    names = list(genhlth_dict.keys())\n",
    "    values = list(genhlth_dict.values())\n",
    "\n",
    "    ax = fig.add_subplot(positions[i]) # arrange the position of graph\n",
    "    plt.hist(names, weights=values)\n",
    "    \n",
    "#     plt.bar(names, values, color=colors[i])\n",
    "#     # add count label and title\n",
    "#     for ix in range(len(names)):    \n",
    "#         v = int(values[ix])\n",
    "#         ax.text(ix, v, str(v), ha='center', fontsize=10)\n",
    "    \n",
    "    \n",
    "    title = 'Physical Health Stats for Race: '+grp[0]\n",
    "    ax.set_title(str(title))\n",
    "    # Set the labels and title\n",
    "    ax.set_xlabel('No of Days')\n",
    "    ax.set_ylabel('Count %')\n",
    "\n",
    "# Show the plots\n",
    "plt.show()"
   ]
  },
  {
   "cell_type": "markdown",
   "metadata": {},
   "source": [
    "### 1.3. Poor mental health days: Average number of mentally unhealthy days reported in past 30 days"
   ]
  },
  {
   "cell_type": "code",
   "execution_count": 21,
   "metadata": {},
   "outputs": [
    {
     "name": "stdout",
     "output_type": "stream",
     "text": [
      "*-*-* Average number of mentally unhealthy days reported in past 30 days *-*-*\n",
      "\n"
     ]
    },
    {
     "data": {
      "image/png": "[encoded data removed]",
      "text/plain": [
       "<Figure size 432x288 with 1 Axes>"
      ]
     },
     "metadata": {
      "needs_background": "light"
     },
     "output_type": "display_data"
    }
   ],
   "source": [
    "print('*-*-* Average number of mentally unhealthy days reported in past 30 days *-*-*\\n')\n",
    "\n",
    "# menthlth - Poor mental health days\n",
    "\n",
    "df_IN_Health_30 = df_IN_Health[(df_IN_Health['iyear']==2021) & (df_IN_Health['imonth']==12)]\n",
    "\n",
    "genhlth_dict = dict(round(df_IN_Health_30['menthlth'].value_counts()/len(df_IN_Health_30)*100))     \n",
    "\n",
    "try:\n",
    "    genhlth_dict[0] = genhlth_dict.pop(88) # change value 88 to 0 days\n",
    "    genhlth_dict.pop(77.0) # remove not answered values (77 label)\n",
    "    genhlth_dict.pop(99.0) # remove not answered values (9 label)\n",
    "except KeyError: # key is not present in the dictionary\n",
    "    pass\n",
    "\n",
    "# sns.countplot(data=df_IN_Health_30, x=\"menthlth\")\n",
    "'''\n",
    "1-30: No of days\n",
    "88:   None\n",
    "77:   Not sure\n",
    "99:   Refused\n",
    "'''\n",
    "\n",
    "names = list(genhlth_dict.keys())\n",
    "values = list(genhlth_dict.values())\n",
    "\n",
    "# Create a figure and axis object\n",
    "fig, ax = plt.subplots()\n",
    "\n",
    "# Plot the pie chart\n",
    "# ax.bar(names, values)\n",
    "ax.hist(names, weights=values)\n",
    "\n",
    "# # Set the title\n",
    "# ax.set_title('')\n",
    "# Set the labels and title\n",
    "ax.set_xlabel('No of Days')\n",
    "ax.set_ylabel('Count %')\n",
    "ax.set_title('Mental Health Status Report')\n",
    "\n",
    "# Show the plot\n",
    "plt.show()"
   ]
  },
  {
   "cell_type": "markdown",
   "metadata": {},
   "source": [
    "### 1.3.1 Poor mental health days: Average number of mentally unhealthy days reported in past 30 days (age-adjusted)."
   ]
  },
  {
   "cell_type": "code",
   "execution_count": 22,
   "metadata": {},
   "outputs": [
    {
     "name": "stdout",
     "output_type": "stream",
     "text": [
      "*-*-* Average number of mentally unhealthy days reported in past 30 days - Age adjusted *-*-*\n",
      "\n"
     ]
    },
    {
     "name": "stderr",
     "output_type": "stream",
     "text": [
      "C:\\Users\\asawa\\AppData\\Local\\Temp\\ipykernel_20676\\1281020575.py:36: UserWarning: Boolean Series key will be reindexed to match DataFrame index.\n",
      "  df_IN_age_grp = df_IN_Health_30[df_IN_Health['age_grp'].isin(grp)]\n",
      "C:\\Users\\asawa\\AppData\\Local\\Temp\\ipykernel_20676\\1281020575.py:36: UserWarning: Boolean Series key will be reindexed to match DataFrame index.\n",
      "  df_IN_age_grp = df_IN_Health_30[df_IN_Health['age_grp'].isin(grp)]\n",
      "C:\\Users\\asawa\\AppData\\Local\\Temp\\ipykernel_20676\\1281020575.py:36: UserWarning: Boolean Series key will be reindexed to match DataFrame index.\n",
      "  df_IN_age_grp = df_IN_Health_30[df_IN_Health['age_grp'].isin(grp)]\n",
      "C:\\Users\\asawa\\AppData\\Local\\Temp\\ipykernel_20676\\1281020575.py:36: UserWarning: Boolean Series key will be reindexed to match DataFrame index.\n",
      "  df_IN_age_grp = df_IN_Health_30[df_IN_Health['age_grp'].isin(grp)]\n"
     ]
    },
    {
     "data": {
      "image/png": "[encoded data removed]",
      "text/plain": [
       "<Figure size 792x720 with 4 Axes>"
      ]
     },
     "metadata": {
      "needs_background": "light"
     },
     "output_type": "display_data"
    }
   ],
   "source": [
    "print('*-*-* Average number of mentally unhealthy days reported in past 30 days - Age adjusted *-*-*\\n')\n",
    "\n",
    "# filter the past 30 days data based on the date\n",
    "df_IN_Health_30 = df_IN_Health[(df_IN_Health['iyear']==2021) & (df_IN_Health['imonth']==12)]\n",
    "\n",
    "# sns.countplot(data=df_IN_Health_30, x=\"menthlth\")\n",
    "'''\n",
    "1-30: No of days\n",
    "88:   None\n",
    "77:   Not sure\n",
    "99:   Refused\n",
    "'''\n",
    "\n",
    "age_grps = ['55+', '55-64', '65-79', '80+'] # define labels for title\n",
    "\n",
    "# group to filter the values based on indicators\n",
    "gr1 = ['55-64', '65-79', '80+'] # 55+ group\n",
    "gr2 = ['55-64'] # 55-64 group\n",
    "gr3 = ['65-79'] # 65-79 group\n",
    "gr4 = ['80+'] # 80+ group\n",
    "\n",
    "values_to_filter = [gr1, gr2, gr3, gr4]\n",
    "\n",
    "# Position of each subplot where 221 means 2 row, 2 columns, 1st index\n",
    "positions = [221, 222, 223, 224]\n",
    "  \n",
    "# Colors to distinguish the plot\n",
    "colors = ['r', 'g', 'b', 'y']\n",
    "  \n",
    "# Plot the subgraphs\n",
    "fig = plt.figure(figsize=(11, 10)) # set the size of the plots (width, ht)\n",
    "\n",
    "\n",
    "for i, grp in enumerate(values_to_filter): # loop to plot 4 graphs\n",
    "    # select the age grp to plot graph based on above defined gr\n",
    "    df_IN_age_grp = df_IN_Health_30[df_IN_Health['age_grp'].isin(grp)]\n",
    "#     print(colors[i], grp, df_IN_age_grp.shape)\n",
    "    \n",
    "    # calculate the % values for that gr\n",
    "    genhlth_dict = dict(round(df_IN_age_grp['menthlth'].value_counts()/len(df_IN_age_grp)*100))     \n",
    "#     print(df_IN_age_grp['menthlth'].value_counts())    \n",
    "    \n",
    "    try:\n",
    "        genhlth_dict[0] = genhlth_dict.pop(88) # change value 88 to 0 days\n",
    "        genhlth_dict.pop(77.0) # remove not answered values (77 label)\n",
    "        genhlth_dict.pop(99.0) # remove not answered values (9 label)\n",
    "    except KeyError: # key is not present in the dictionary\n",
    "        pass\n",
    "    \n",
    "    names = list(genhlth_dict.keys())\n",
    "    values = list(genhlth_dict.values())\n",
    "\n",
    "    ax = fig.add_subplot(positions[i]) # arrange the position of graph\n",
    "    plt.hist(names, weights=values)\n",
    "    \n",
    "#     plt.bar(names, values, color=colors[i])\n",
    "#     # add count label and title\n",
    "#     for ix in range(len(names)):    \n",
    "#         v = int(values[ix])\n",
    "#         ax.text(ix, v, str(v), ha='center', fontsize=10)\n",
    "    \n",
    "    \n",
    "    title = 'Mental Health Stats for Age: '+age_grps[i]\n",
    "    ax.set_title(str(title))\n",
    "    # Set the labels and title\n",
    "    ax.set_xlabel('No of Days')\n",
    "    ax.set_ylabel('Count %')\n",
    "\n",
    "# Show the plots\n",
    "plt.show()"
   ]
  },
  {
   "cell_type": "markdown",
   "metadata": {},
   "source": [
    "### 1.3.2 Poor mental health days: Average number of mentally unhealthy days reported in past 30 days (race-adjusted)."
   ]
  },
  {
   "cell_type": "code",
   "execution_count": 23,
   "metadata": {},
   "outputs": [
    {
     "name": "stdout",
     "output_type": "stream",
     "text": [
      "*-*-* Average number of mentally unhealthy days reported in past 30 days - Race adjusted *-*-*\n",
      "\n"
     ]
    },
    {
     "name": "stderr",
     "output_type": "stream",
     "text": [
      "C:\\Users\\asawa\\AppData\\Local\\Temp\\ipykernel_20676\\2127781979.py:33: UserWarning: Boolean Series key will be reindexed to match DataFrame index.\n",
      "  df_IN_race_grp = df_IN_Health_30[df_IN_Health['race_grp'].isin(grp)]\n",
      "C:\\Users\\asawa\\AppData\\Local\\Temp\\ipykernel_20676\\2127781979.py:33: UserWarning: Boolean Series key will be reindexed to match DataFrame index.\n",
      "  df_IN_race_grp = df_IN_Health_30[df_IN_Health['race_grp'].isin(grp)]\n",
      "C:\\Users\\asawa\\AppData\\Local\\Temp\\ipykernel_20676\\2127781979.py:33: UserWarning: Boolean Series key will be reindexed to match DataFrame index.\n",
      "  df_IN_race_grp = df_IN_Health_30[df_IN_Health['race_grp'].isin(grp)]\n",
      "C:\\Users\\asawa\\AppData\\Local\\Temp\\ipykernel_20676\\2127781979.py:33: UserWarning: Boolean Series key will be reindexed to match DataFrame index.\n",
      "  df_IN_race_grp = df_IN_Health_30[df_IN_Health['race_grp'].isin(grp)]\n"
     ]
    },
    {
     "data": {
      "image/png": "[encoded data removed]",
      "text/plain": [
       "<Figure size 792x720 with 4 Axes>"
      ]
     },
     "metadata": {
      "needs_background": "light"
     },
     "output_type": "display_data"
    }
   ],
   "source": [
    "print('*-*-* Average number of mentally unhealthy days reported in past 30 days - Race adjusted *-*-*\\n')\n",
    "\n",
    "# filter the past 30 days data based on the date\n",
    "df_IN_Health_30 = df_IN_Health[(df_IN_Health['iyear']==2021) & (df_IN_Health['imonth']==12)]\n",
    "\n",
    "# sns.countplot(data=df_IN_Health_30, x=\"physhlth\")\n",
    "'''\n",
    "1-30: No of days\n",
    "88:   None\n",
    "77:   Not sure\n",
    "99:   Refused\n",
    "'''\n",
    "\n",
    "# group to filter the values based on indicators\n",
    "gr1 = ['white'] \n",
    "gr2 = ['black'] \n",
    "gr3 = ['hispanic'] \n",
    "gr4 = ['other']\n",
    "\n",
    "values_to_filter = [gr1, gr2, gr3, gr4]\n",
    "\n",
    "# Position of each subplot where 221 means 2 row, 2 columns, 1st index\n",
    "positions = [221, 222, 223, 224]\n",
    "  \n",
    "# Colors to distinguish the plot\n",
    "colors = ['r', 'g', 'b', 'y']\n",
    "  \n",
    "# Plot the subgraphs\n",
    "fig = plt.figure(figsize=(11, 10)) # set the size of the plots (width, ht)\n",
    "\n",
    "for i, grp in enumerate(values_to_filter): # loop to plot 4 graphs\n",
    "    # select the age grp to plot graph based on above defined gr\n",
    "    df_IN_race_grp = df_IN_Health_30[df_IN_Health['race_grp'].isin(grp)]\n",
    "#     print(colors[i], grp, df_IN_age_grp.shape)\n",
    "    \n",
    "    # calculate the % values for that gr\n",
    "    genhlth_dict = dict(round(df_IN_race_grp['menthlth'].value_counts()/len(df_IN_race_grp)*100))     \n",
    "#     print(df_IN_race_grp['menthlth'].value_counts())    \n",
    "    \n",
    "    try:\n",
    "        genhlth_dict[0] = genhlth_dict.pop(88) # change value 88 to 0 days\n",
    "        genhlth_dict.pop(77.0) # remove not answered values (77 label)\n",
    "        genhlth_dict.pop(99.0) # remove not answered values (9 label)\n",
    "    except KeyError: # key is not present in the dictionary\n",
    "        pass\n",
    "\n",
    "    names = list(genhlth_dict.keys())\n",
    "    values = list(genhlth_dict.values())\n",
    "\n",
    "    ax = fig.add_subplot(positions[i]) # arrange the position of graph\n",
    "    plt.hist(names, weights=values)\n",
    "    \n",
    "#     plt.bar(names, values, color=colors[i])\n",
    "#     # add count label and title\n",
    "#     for ix in range(len(names)):    \n",
    "#         v = int(values[ix])\n",
    "#         ax.text(ix, v, str(v), ha='center', fontsize=10)\n",
    "    \n",
    "    \n",
    "    title = 'Mental Health Stats for Race: '+grp[0]\n",
    "    ax.set_title(str(title))\n",
    "    # Set the labels and title\n",
    "    ax.set_xlabel('No of Days')\n",
    "    ax.set_ylabel('Count %')\n",
    "\n",
    "# Show the plots\n",
    "plt.show()"
   ]
  },
  {
   "cell_type": "markdown",
   "metadata": {},
   "source": [
    "## 2. Tobacco USe"
   ]
  },
  {
   "cell_type": "markdown",
   "metadata": {},
   "source": [
    "### 2.1. Adult Smoking: Percentage of adults who are current smokers."
   ]
  },
  {
   "cell_type": "code",
   "execution_count": 24,
   "metadata": {},
   "outputs": [
    {
     "name": "stdout",
     "output_type": "stream",
     "text": [
      "*-*-* % of adults who are current smokers *-*-*\n",
      "\n"
     ]
    },
    {
     "data": {
      "image/png": "[encoded data removed]",
      "text/plain": [
       "<Figure size 432x288 with 1 Axes>"
      ]
     },
     "metadata": {
      "needs_background": "light"
     },
     "output_type": "display_data"
    }
   ],
   "source": [
    "print('*-*-* % of adults who are current smokers *-*-*\\n')\n",
    "    \n",
    "# calculate the % values for that gr\n",
    "genhlth_dict = dict(round(df_IN_Health['x.smoker3'].value_counts()/len(df_IN_Health)*100))\n",
    "genhlth_key = {1 :'Everyday', 2:'Someday', 3:'Former', 4:'Never', 9:'Refused'}\n",
    "\n",
    "try:\n",
    "    genhlth_dict.pop(9.0) # remove not answered values (9 label)\n",
    "except KeyError: # key is not present in the dictionary\n",
    "    pass\n",
    "\n",
    "# rename the keys to actual label (1->excellent)\n",
    "new_dict = {}\n",
    "for ix in genhlth_dict:\n",
    "    new_dict[genhlth_key[ix]] = genhlth_dict[ix]\n",
    "# print('\\nUpdated dict:', new_dict)\n",
    "\n",
    "# keep order of graph fixed\n",
    "new_dict = OrderedDict([('Everyday', new_dict['Everyday']), ('Someday', new_dict['Someday']), ('Former', new_dict['Former']), ('Never', new_dict['Never'])])\n",
    "\n",
    "names = list(new_dict.keys())\n",
    "values = list(new_dict.values())\n",
    "\n",
    "plt.bar(names, values)\n",
    "\n",
    "# add count label and title\n",
    "for ix in range(len(names)):    \n",
    "    v = int(values[ix])\n",
    "    plt.text(ix, v, str(v), ha='center', fontsize=10)\n",
    "\n",
    "# Set the labels and title\n",
    "plt.xlabel('Smoke Status')\n",
    "plt.ylabel('Count %')\n",
    "plt.title('Smoking Status Report')\n",
    "\n",
    "# Show the plots\n",
    "plt.show()"
   ]
  },
  {
   "cell_type": "markdown",
   "metadata": {},
   "source": [
    "### 2.1.1 Adult Smoking: Percentage of adults who are current smokers (age-adjusted)."
   ]
  },
  {
   "cell_type": "code",
   "execution_count": 25,
   "metadata": {},
   "outputs": [
    {
     "name": "stdout",
     "output_type": "stream",
     "text": [
      "*-*-* % of adults who are current smokers - age adjusted *-*-*\n",
      "\n"
     ]
    },
    {
     "data": {
      "image/png": "[encoded data removed]",
      "text/plain": [
       "<Figure size 720x720 with 4 Axes>"
      ]
     },
     "metadata": {
      "needs_background": "light"
     },
     "output_type": "display_data"
    }
   ],
   "source": [
    "print('*-*-* % of adults who are current smokers - age adjusted *-*-*\\n')\n",
    "\n",
    "age_grps = ['55+', '55-64', '65-79', '80+'] # define labels for title\n",
    "\n",
    "# group to filter the values based on indicators\n",
    "gr1 = ['55-64', '65-79', '80+'] # 55+ group\n",
    "gr2 = ['55-64'] # 55-64 group\n",
    "gr3 = ['65-79'] # 65-79 group\n",
    "gr4 = ['80+'] # 80+ group\n",
    "\n",
    "values_to_filter = [gr1, gr2, gr3, gr4]\n",
    "\n",
    "# Position of each subplot where 221 means 2 row, 2 columns, 1st index\n",
    "positions = [221, 222, 223, 224]\n",
    "  \n",
    "# Colors to distinguish the plot\n",
    "colors = ['r', 'g', 'b', 'y']\n",
    "  \n",
    "# Plot the subgraphs\n",
    "fig = plt.figure(figsize=(10, 10)) # set the size of the plots (width, ht)\n",
    "\n",
    "\n",
    "for i, grp in enumerate(values_to_filter): # loop to plot 4 graphs\n",
    "    # select the age grp to plot graph based on above defined gr\n",
    "    df_IN_age_grp = df_IN_Health[df_IN_Health['age_grp'].isin(grp)]\n",
    "#     print(colors[i], grp, df_IN_age_grp.shape)\n",
    "    \n",
    "    # calculate the % values for that gr\n",
    "    genhlth_dict = dict(round(df_IN_age_grp['x.smoker3'].value_counts()/len(df_IN_age_grp)*100))\n",
    "    genhlth_key = {1 :'Everyday', 2:'Someday', 3:'Former', 4:'Never', 9:'Refused'}\n",
    "#     print(df_IN_age_grp['x.smoker3'].value_counts())\n",
    "    \n",
    "    try:\n",
    "        genhlth_dict.pop(9) # remove not answered values (9 label)\n",
    "    except KeyError: # key is not present in the dictionary\n",
    "        pass\n",
    "    \n",
    "    # rename the keys to actual label (1->excellent)\n",
    "    new_dict = {}\n",
    "    for ix in genhlth_dict:\n",
    "        new_dict[genhlth_key[ix]] = genhlth_dict[ix]\n",
    "#     print('\\nUpdated dict-:', new_dict)\n",
    "\n",
    "    new_dict = OrderedDict([('Everyday', new_dict['Everyday']), ('Someday', new_dict['Someday']), ('Former', new_dict['Former']), ('Never', new_dict['Never'])])\n",
    "\n",
    "    names = list(new_dict.keys())\n",
    "    values = list(new_dict.values())\n",
    "\n",
    "    ax = fig.add_subplot(positions[i]) # arrange the position of graph\n",
    "    plt.bar(names, values, color=colors[i])\n",
    "\n",
    "    # add count label and title\n",
    "    for ix in range(len(names)):    \n",
    "        v = int(values[ix])\n",
    "        ax.text(ix, v, str(v), ha='center', fontsize=10)\n",
    "        title = 'Smoking Stats for Age Group: '+age_grps[i]\n",
    "    ax.set_title(str(title))\n",
    "    # Set the labels and title\n",
    "    ax.set_xlabel('Smoke Status')\n",
    "    ax.set_ylabel('Count %')\n",
    "\n",
    "# Show the plots\n",
    "plt.show()"
   ]
  },
  {
   "cell_type": "markdown",
   "metadata": {},
   "source": [
    "### 2.1.2 Adult Smoking: Percentage of adults who are current smokers (race-adjusted)."
   ]
  },
  {
   "cell_type": "code",
   "execution_count": 26,
   "metadata": {},
   "outputs": [
    {
     "name": "stdout",
     "output_type": "stream",
     "text": [
      "*-*-* % of adults who are current smokers - race adjusted *-*-*\n",
      "\n"
     ]
    },
    {
     "data": {
      "image/png": "[encoded data removed]",
      "text/plain": [
       "<Figure size 792x720 with 4 Axes>"
      ]
     },
     "metadata": {
      "needs_background": "light"
     },
     "output_type": "display_data"
    }
   ],
   "source": [
    "print('*-*-* % of adults who are current smokers - race adjusted *-*-*\\n')\n",
    "\n",
    "# group to filter the values based on indicators\n",
    "gr1 = ['white'] \n",
    "gr2 = ['black'] \n",
    "gr3 = ['hispanic'] \n",
    "gr4 = ['other']\n",
    "\n",
    "values_to_filter = [gr1, gr2, gr3, gr4]\n",
    "\n",
    "\n",
    "# Position of each subplot where 221 means 2 row, 2 columns, 1st index\n",
    "positions = [221, 222, 223, 224]\n",
    "  \n",
    "# Colors to distinguish the plot\n",
    "colors = ['r', 'g', 'b', 'y']\n",
    "  \n",
    "# Plot the subgraphs\n",
    "fig = plt.figure(figsize=(11, 10)) # set the size of the plots (width, ht)\n",
    "\n",
    "\n",
    "for i, grp in enumerate(values_to_filter): # loop to plot 4 graphs\n",
    "    # select the age grp to plot graph based on above defined gr\n",
    "    df_IN_race_grp = df_IN_Health[df_IN_Health['race_grp'].isin(grp)]\n",
    "#     print(colors[i], grp, df_IN_race_grp.shape)\n",
    "    \n",
    "    # calculate the % values for that gr\n",
    "    genhlth_dict = dict(round(df_IN_race_grp['x.smoker3'].value_counts()/len(df_IN_race_grp)*100))\n",
    "    genhlth_key = {1 :'Everyday', 2:'Someday', 3:'Former', 4:'Never', 9:'Refused'}\n",
    "#     print(df_IN_race_grp['x.smoker3'].value_counts())\n",
    "\n",
    "    try:\n",
    "        genhlth_dict.pop(7.0)\n",
    "        genhlth_dict.pop(9.0) # remove not answered values (9 label)\n",
    "    except KeyError: # key is not present in the dictionary\n",
    "        pass\n",
    "    \n",
    "    # rename the keys to actual label (1->excellent)\n",
    "    new_dict = {}\n",
    "    for ix in genhlth_dict:\n",
    "        new_dict[genhlth_key[ix]] = genhlth_dict[ix]\n",
    "#     print('\\nUpdated dict:', new_dict)\n",
    "\n",
    "    new_dict = OrderedDict([('Everyday', new_dict['Everyday']), ('Someday', new_dict['Someday']), ('Former', new_dict['Former']), ('Never', new_dict['Never'])])\n",
    "\n",
    "    names = list(new_dict.keys())\n",
    "    values = list(new_dict.values())\n",
    "\n",
    "    ax = fig.add_subplot(positions[i]) # arrange the position of graph\n",
    "    plt.bar(names, values, color=colors[i])\n",
    "\n",
    "    # add count label and title\n",
    "    for ix in range(len(names)):    \n",
    "        v = int(values[ix])\n",
    "        ax.text(ix, v, str(v), ha='center', fontsize=10)\n",
    "    title = 'Smoking Stats for Race: '+grp[0]\n",
    "    ax.set_title(str(title))\n",
    "    # Set the labels and title\n",
    "    ax.set_xlabel('Smoke Status')\n",
    "    ax.set_ylabel('Count %')\n",
    "\n",
    "# Show the plots\n",
    "plt.show()"
   ]
  },
  {
   "cell_type": "markdown",
   "metadata": {},
   "source": [
    "## 3. Diet & Exercise"
   ]
  },
  {
   "cell_type": "markdown",
   "metadata": {},
   "source": [
    "### 3.1 Adult Obesity - BMI > 30: Percentage of the adult population (age 18 and older) that reports a body mass index (BMI) greater than or equal to 30 kg/m2 (age-adjusted)."
   ]
  },
  {
   "cell_type": "code",
   "execution_count": 60,
   "metadata": {},
   "outputs": [
    {
     "name": "stdout",
     "output_type": "stream",
     "text": [
      "*-*-* % of adult population that reports BMI>=25 *-*-*\n",
      "\n",
      "6130 9929\n",
      "BMI: 61.74 %\n"
     ]
    }
   ],
   "source": [
    "print('*-*-* % of adult population that reports BMI>=25 *-*-*\\n')\n",
    "\n",
    "'''\n",
    "1 - No\n",
    "2 - Yes\n",
    "9 - missing\n",
    "'''\n",
    "\n",
    "df_IN_bmi = df_IN_Health[df_IN_Health['x.rfbmi5']==2]\n",
    "bmi_report = round((df_IN_bmi.shape[0])/(df_IN_Health.shape[0])*100,2)\n",
    "print(df_IN_bmi.shape[0],df_IN_Health.shape[0])\n",
    "print('BMI:', bmi_report, '%')"
   ]
  },
  {
   "cell_type": "markdown",
   "metadata": {},
   "source": [
    "### 3.1.1 Adult Obesity - BMI > 30: Percentage of the adult population (age 18 and older) that reports a body mass index (BMI) greater than or equal to 30 kg/m2 (age-adjusted)."
   ]
  },
  {
   "cell_type": "code",
   "execution_count": 51,
   "metadata": {},
   "outputs": [
    {
     "name": "stdout",
     "output_type": "stream",
     "text": [
      "5297 3377\n",
      "Age grp 55+ --> 63.75 %\n",
      "1933 1280\n",
      "Age grp 55-64 --> 66.22 %\n",
      "2558 1681\n",
      "Age grp 65-79 --> 65.72 %\n",
      "806 416\n",
      "Age grp 80+ --> 51.61 %\n"
     ]
    }
   ],
   "source": [
    "age_grps = ['55+', '55-64', '65-79', '80+'] # define labels for title\n",
    "\n",
    "# group to filter the values based on indicators\n",
    "gr1 = ['55-64', '65-79', '80+'] # 55+ group\n",
    "gr2 = ['55-64'] # 55-64 group\n",
    "gr3 = ['65-79'] # 65-79 group\n",
    "gr4 = ['80+'] # 80+ group\n",
    "\n",
    "values_to_filter = [gr1, gr2, gr3, gr4]\n",
    "\n",
    "for i, grp in enumerate(values_to_filter): # loop to plot 4 graphs\n",
    "    # select the age grp to plot graph based on above defined gr\n",
    "    df_IN_age_grp = df_IN_Health[df_IN_Health['age_grp'].isin(grp)]\n",
    "    print(df_IN_age_grp.shape[0], df_IN_age_grp[df_IN_age_grp['x.rfbmi5']==2].shape[0])\n",
    "    bmi_report = round((df_IN_age_grp[df_IN_age_grp['x.rfbmi5']==2].shape[0])/(df_IN_age_grp.shape[0])*100,2)\n",
    "    print('Age grp', age_grps[i], '-->', bmi_report, '%')"
   ]
  },
  {
   "cell_type": "markdown",
   "metadata": {},
   "source": [
    "### 3.1.2 Adult Obesity - BMI > 30: Percentage of the adult population (age 18 and older) that reports a body mass index (BMI) greater than or equal to 30 kg/m2 (race-adjusted)."
   ]
  },
  {
   "cell_type": "code",
   "execution_count": 58,
   "metadata": {},
   "outputs": [
    {
     "name": "stdout",
     "output_type": "stream",
     "text": [
      "7847 4898\n",
      "Race grp white --> 62.42 %\n",
      "781 524\n",
      "Race grp black --> 67.09 %\n",
      "500 306\n",
      "Race grp hispanic --> 61.2 %\n",
      "550 301\n",
      "Race grp other --> 54.73 %\n"
     ]
    }
   ],
   "source": [
    "# group to filter the values based on indicators\n",
    "gr1 = ['white'] \n",
    "gr2 = ['black'] \n",
    "gr3 = ['hispanic'] \n",
    "gr4 = ['other']\n",
    "\n",
    "values_to_filter = [gr1, gr2, gr3, gr4]\n",
    "\n",
    "for i, grp in enumerate(values_to_filter): # loop to plot 4 graphs\n",
    "    # select the age grp to plot graph based on above defined gr\n",
    "    df_IN_race_grp = df_IN_Health[df_IN_Health['race_grp'].isin(grp)]\n",
    "    print(df_IN_race_grp.shape[0], df_IN_race_grp[df_IN_race_grp['x.rfbmi5']==2].shape[0])\n",
    "    bmi_report = round((df_IN_race_grp[df_IN_race_grp['x.rfbmi5']==2].shape[0])/(df_IN_race_grp.shape[0])*100,2)\n",
    "    print('Race grp', grp[0], '-->', bmi_report, '%')"
   ]
  },
  {
   "cell_type": "markdown",
   "metadata": {},
   "source": [
    "### 3.2 Physical inactivity: Percentage of adults age 18 and over reporting no leisure-time physical activity."
   ]
  },
  {
   "cell_type": "code",
   "execution_count": 295,
   "metadata": {},
   "outputs": [
    {
     "name": "stdout",
     "output_type": "stream",
     "text": [
      "*-*-* % of adults who are physically inactive *-*-*\n",
      "\n"
     ]
    },
    {
     "data": {
      "image/png": "[encoded data removed]",
      "text/plain": [
       "<Figure size 432x288 with 1 Axes>"
      ]
     },
     "metadata": {
      "needs_background": "light"
     },
     "output_type": "display_data"
    }
   ],
   "source": [
    "# exerany2\n",
    "# sns.countplot(data=df_IN_Health, x=\"exerany2\")\n",
    "\n",
    "'''\n",
    "1: Yes\n",
    "2: No\n",
    "7: Not sure\n",
    "9: Refused\n",
    "'''\n",
    "\n",
    "print('*-*-* % of adults who are physically inactive *-*-*\\n')\n",
    "\n",
    "# calculate the % values for that gr\n",
    "genhlth_dict = dict(round(df_IN_Health['exerany2'].value_counts()/len(df_IN_Health)*100))\n",
    "genhlth_key = {1.0:'Yes', 2.0:'No', 7.0:'Not sure', 9.0:'Refused'}\n",
    "\n",
    "try:\n",
    "    genhlth_dict.pop(7.0)\n",
    "    genhlth_dict.pop(9.0) # remove not answered values (9 label)\n",
    "except KeyError: # key is not present in the dictionary\n",
    "    pass\n",
    "\n",
    "# rename the keys to actual label (1->excellent)\n",
    "new_dict = {}\n",
    "for ix in genhlth_dict:\n",
    "    new_dict[genhlth_key[ix]] = genhlth_dict[ix]\n",
    "# print('\\nUpdated dict:', new_dict)\n",
    "\n",
    "# keep order of graph fixed\n",
    "new_dict = OrderedDict([('Yes', new_dict['Yes']), ('No', new_dict['No'])])\n",
    "\n",
    "names = list(new_dict.keys())\n",
    "values = list(new_dict.values())\n",
    "\n",
    "plt.bar(names, values)\n",
    "\n",
    "# add count label and title\n",
    "for ix in range(len(names)):    \n",
    "    v = int(values[ix])\n",
    "    plt.text(ix, v, str(v), ha='center', fontsize=10)\n",
    "\n",
    "# Set the labels and title\n",
    "plt.xlabel('Physical Inactive Status')\n",
    "plt.ylabel('Count %')\n",
    "plt.title('Physical Inactive Status Report')\n",
    "\n",
    "# Show the plots\n",
    "plt.show()"
   ]
  },
  {
   "cell_type": "markdown",
   "metadata": {},
   "source": [
    "### 3.2.1 Physical inactivity: Percentage of adults age 18 and over reporting no leisure-time physical activity (age-adjusted)."
   ]
  },
  {
   "cell_type": "code",
   "execution_count": 298,
   "metadata": {},
   "outputs": [
    {
     "name": "stdout",
     "output_type": "stream",
     "text": [
      "*-*-* % of adults who are physically inactive - age adjusted *-*-*\n",
      "\n"
     ]
    },
    {
     "data": {
      "image/png": "[encoded data removed]",
      "text/plain": [
       "<Figure size 720x720 with 4 Axes>"
      ]
     },
     "metadata": {
      "needs_background": "light"
     },
     "output_type": "display_data"
    }
   ],
   "source": [
    "print('*-*-* % of adults who are physically inactive - age adjusted *-*-*\\n')\n",
    "\n",
    "age_grps = ['55+', '55-64', '65-79', '80+'] # define labels for title\n",
    "\n",
    "# group to filter the values based on indicators\n",
    "gr1 = ['55-64', '65-79', '80+'] # 55+ group\n",
    "gr2 = ['55-64'] # 55-64 group\n",
    "gr3 = ['65-79'] # 65-79 group\n",
    "gr4 = ['80+'] # 80+ group\n",
    "\n",
    "values_to_filter = [gr1, gr2, gr3, gr4]\n",
    "\n",
    "# Position of each subplot where 221 means 2 row, 2 columns, 1st index\n",
    "positions = [221, 222, 223, 224]\n",
    "  \n",
    "# Colors to distinguish the plot\n",
    "colors = ['r', 'g', 'b', 'y']\n",
    "  \n",
    "# Plot the subgraphs\n",
    "fig = plt.figure(figsize=(10, 10)) # set the size of the plots (width, ht)\n",
    "\n",
    "\n",
    "for i, grp in enumerate(values_to_filter): # loop to plot 4 graphs\n",
    "    # select the age grp to plot graph based on above defined gr\n",
    "    df_IN_age_grp = df_IN_Health[df_IN_Health['age_grp'].isin(grp)]\n",
    "#     print(colors[i], grp, df_IN_age_grp.shape)\n",
    "    \n",
    "    # calculate the % values for that gr\n",
    "    genhlth_dict = dict(round(df_IN_age_grp['exerany2'].value_counts()/len(df_IN_age_grp)*100))\n",
    "    genhlth_key = {1.0:'Yes', 2.0:'No', 7.0:'Not sure', 9.0:'Refused'}\n",
    "#     print(df_IN_age_grp['exerany2'].value_counts())\n",
    "    \n",
    "    try:\n",
    "        genhlth_dict.pop(7.0)\n",
    "        genhlth_dict.pop(9.0) # remove not answered values (9 label)\n",
    "    except KeyError: # key is not present in the dictionary\n",
    "        pass\n",
    "    \n",
    "    # rename the keys to actual label (1->excellent)\n",
    "    new_dict = {}\n",
    "    for ix in genhlth_dict:\n",
    "        new_dict[genhlth_key[ix]] = genhlth_dict[ix]\n",
    "#     print('\\nUpdated dict-:', new_dict)\n",
    "\n",
    "    new_dict = OrderedDict([('Yes', new_dict['Yes']), ('No', new_dict['No'])])\n",
    "\n",
    "    names = list(new_dict.keys())\n",
    "    values = list(new_dict.values())\n",
    "\n",
    "    ax = fig.add_subplot(positions[i]) # arrange the position of graph\n",
    "    plt.bar(names, values, color=colors[i])\n",
    "\n",
    "    # add count label and title\n",
    "    for ix in range(len(names)):    \n",
    "        v = int(values[ix])\n",
    "        ax.text(ix, v, str(v), ha='center', fontsize=10)\n",
    "        title = 'Physical Inactive Status for Age Group: '+age_grps[i]\n",
    "    ax.set_title(str(title))\n",
    "    # Set the labels and title\n",
    "    ax.set_xlabel('Physical Inactive Status')\n",
    "    ax.set_ylabel('Count %')\n",
    "\n",
    "# Show the plots\n",
    "plt.show()"
   ]
  },
  {
   "cell_type": "markdown",
   "metadata": {},
   "source": [
    "### 3.2.2 Physical inactivity: Percentage of adults age 18 and over reporting no leisure-time physical activity (race-adjusted)."
   ]
  },
  {
   "cell_type": "code",
   "execution_count": 306,
   "metadata": {},
   "outputs": [
    {
     "name": "stdout",
     "output_type": "stream",
     "text": [
      "*-*-* % of adults who are physically inactive - race adjusted *-*-*\n",
      "\n"
     ]
    },
    {
     "data": {
      "image/png": "[encoded data removed]",
      "text/plain": [
       "<Figure size 792x720 with 4 Axes>"
      ]
     },
     "metadata": {
      "needs_background": "light"
     },
     "output_type": "display_data"
    }
   ],
   "source": [
    "print('*-*-* % of adults who are physically inactive - race adjusted *-*-*\\n')\n",
    "\n",
    "# group to filter the values based on indicators\n",
    "gr1 = ['white'] \n",
    "gr2 = ['black'] \n",
    "gr3 = ['hispanic'] \n",
    "gr4 = ['other']\n",
    "\n",
    "values_to_filter = [gr1, gr2, gr3, gr4]\n",
    "\n",
    "\n",
    "# Position of each subplot where 221 means 2 row, 2 columns, 1st index\n",
    "positions = [221, 222, 223, 224]\n",
    "  \n",
    "# Colors to distinguish the plot\n",
    "colors = ['r', 'g', 'b', 'y']\n",
    "  \n",
    "# Plot the subgraphs\n",
    "fig = plt.figure(figsize=(11, 10)) # set the size of the plots (width, ht)\n",
    "\n",
    "\n",
    "for i, grp in enumerate(values_to_filter): # loop to plot 4 graphs\n",
    "    # select the age grp to plot graph based on above defined gr\n",
    "    df_IN_race_grp = df_IN_Health[df_IN_Health['race_grp'].isin(grp)]\n",
    "#     print(colors[i], grp, df_IN_race_grp.shape)\n",
    "    \n",
    "    # calculate the % values for that gr\n",
    "    genhlth_dict = dict(round(df_IN_race_grp['exerany2'].value_counts()/len(df_IN_race_grp)*100))\n",
    "    genhlth_key = {1.0:'Yes', 2.0:'No', 7.0:'Not sure', 9.0:'Refused'}\n",
    "#     print(df_IN_race_grp['exerany2'].value_counts())\n",
    "\n",
    "    try:\n",
    "        genhlth_dict.pop(7.0)\n",
    "        genhlth_dict.pop(9.0) # remove not answered values (9 label)\n",
    "    except KeyError: # key is not present in the dictionary\n",
    "        pass\n",
    "    \n",
    "    # rename the keys to actual label (1->excellent)\n",
    "    new_dict = {}\n",
    "    for ix in genhlth_dict:\n",
    "        new_dict[genhlth_key[ix]] = genhlth_dict[ix]\n",
    "#     print('\\nUpdated dict:', new_dict)\n",
    "\n",
    "    new_dict = OrderedDict([('Yes', new_dict['Yes']), ('No', new_dict['No'])])\n",
    "\n",
    "    names = list(new_dict.keys())\n",
    "    values = list(new_dict.values())\n",
    "\n",
    "    ax = fig.add_subplot(positions[i]) # arrange the position of graph\n",
    "    plt.bar(names, values, color=colors[i])\n",
    "\n",
    "    # add count label and title\n",
    "    for ix in range(len(names)):    \n",
    "        v = int(values[ix])\n",
    "        ax.text(ix, v, str(v), ha='center', fontsize=10)\n",
    "    title = 'Physical Inactive Stats for Race: '+grp[0]\n",
    "    ax.set_title(str(title))\n",
    "    # Set the labels and title\n",
    "    ax.set_xlabel('Physical Inactive Status')\n",
    "    ax.set_ylabel('Count %')\n",
    "\n",
    "# Show the plots\n",
    "plt.show()"
   ]
  },
  {
   "cell_type": "markdown",
   "metadata": {},
   "source": [
    "## 4. Alcohol & Drug Use"
   ]
  },
  {
   "cell_type": "markdown",
   "metadata": {},
   "source": [
    "### 4.1 Excessive Drinking: Percentage of adults reporting binge or heavy drinking (age-adjusted)"
   ]
  },
  {
   "cell_type": "code",
   "execution_count": 301,
   "metadata": {},
   "outputs": [
    {
     "name": "stdout",
     "output_type": "stream",
     "text": [
      "*-*-* % of adults who reported binge/heavy drinking *-*-*\n",
      "\n"
     ]
    },
    {
     "data": {
      "image/png": "[encoded data removed]",
      "text/plain": [
       "<Figure size 432x288 with 1 Axes>"
      ]
     },
     "metadata": {
      "needs_background": "light"
     },
     "output_type": "display_data"
    }
   ],
   "source": [
    "# exerany2\n",
    "# sns.countplot(data=df_IN_Health, x=\"exerany2\")\n",
    "\n",
    "'''\n",
    "1: No\n",
    "2: Yes\n",
    "9: Refused\n",
    "'''\n",
    "\n",
    "print('*-*-* % of adults who reported binge/heavy drinking *-*-*\\n')\n",
    "\n",
    "# calculate the % values for that gr\n",
    "genhlth_dict = dict(round(df_IN_Health['x.rfbing5'].value_counts()/len(df_IN_Health)*100))\n",
    "genhlth_key = {1:'No', 2:'Yes', 9:'Refused'}\n",
    "\n",
    "try:\n",
    "    genhlth_dict.pop(9.0) # remove not answered values (9 label)\n",
    "except KeyError: # key is not present in the dictionary\n",
    "    pass\n",
    "\n",
    "# rename the keys to actual label (1->excellent)\n",
    "new_dict = {}\n",
    "for ix in genhlth_dict:\n",
    "    new_dict[genhlth_key[ix]] = genhlth_dict[ix]\n",
    "# print('\\nUpdated dict:', new_dict)\n",
    "\n",
    "# keep order of graph fixed\n",
    "new_dict = OrderedDict([('Yes', new_dict['Yes']), ('No', new_dict['No'])])\n",
    "\n",
    "names = list(new_dict.keys())\n",
    "values = list(new_dict.values())\n",
    "\n",
    "plt.bar(names, values)\n",
    "\n",
    "# add count label and title\n",
    "for ix in range(len(names)):    \n",
    "    v = int(values[ix])\n",
    "    plt.text(ix, v, str(v), ha='center', fontsize=10)\n",
    "\n",
    "# Set the labels and title\n",
    "plt.xlabel('Binge Drinking Status')\n",
    "plt.ylabel('Count %')\n",
    "plt.title('Binge Drinking Status Report')\n",
    "\n",
    "# Show the plots\n",
    "plt.show()"
   ]
  },
  {
   "cell_type": "markdown",
   "metadata": {},
   "source": [
    "### 4.1.1 Excessive Drinking: Percentage of adults reporting binge or heavy drinking (age-adjusted)"
   ]
  },
  {
   "cell_type": "code",
   "execution_count": 303,
   "metadata": {},
   "outputs": [
    {
     "name": "stdout",
     "output_type": "stream",
     "text": [
      "*-*-* % of adults who reported binge drinking - age adjusted *-*-*\n",
      "\n"
     ]
    },
    {
     "data": {
      "image/png": "[encoded data removed]",
      "text/plain": [
       "<Figure size 720x720 with 4 Axes>"
      ]
     },
     "metadata": {
      "needs_background": "light"
     },
     "output_type": "display_data"
    }
   ],
   "source": [
    "print('*-*-* % of adults who reported binge drinking - age adjusted *-*-*\\n')\n",
    "\n",
    "age_grps = ['55+', '55-64', '65-79', '80+'] # define labels for title\n",
    "\n",
    "# group to filter the values based on indicators\n",
    "gr1 = ['55-64', '65-79', '80+'] # 55+ group\n",
    "gr2 = ['55-64'] # 55-64 group\n",
    "gr3 = ['65-79'] # 65-79 group\n",
    "gr4 = ['80+'] # 80+ group\n",
    "\n",
    "values_to_filter = [gr1, gr2, gr3, gr4]\n",
    "\n",
    "# Position of each subplot where 221 means 2 row, 2 columns, 1st index\n",
    "positions = [221, 222, 223, 224]\n",
    "  \n",
    "# Colors to distinguish the plot\n",
    "colors = ['r', 'g', 'b', 'y']\n",
    "  \n",
    "# Plot the subgraphs\n",
    "fig = plt.figure(figsize=(10, 10)) # set the size of the plots (width, ht)\n",
    "\n",
    "\n",
    "for i, grp in enumerate(values_to_filter): # loop to plot 4 graphs\n",
    "    # select the age grp to plot graph based on above defined gr\n",
    "    df_IN_age_grp = df_IN_Health[df_IN_Health['age_grp'].isin(grp)]\n",
    "#     print(colors[i], grp, df_IN_age_grp.shape)\n",
    "    \n",
    "    # calculate the % values for that gr\n",
    "    genhlth_dict = dict(round(df_IN_age_grp['x.rfbing5'].value_counts()/len(df_IN_age_grp)*100))\n",
    "    genhlth_key = {1:'No', 2:'Yes', 9:'Refused'}\n",
    "#     print(df_IN_age_grp['x.rfbing5'].value_counts())\n",
    "    \n",
    "    try:\n",
    "        genhlth_dict.pop(9.0) # remove not answered values (9 label)\n",
    "    except KeyError: # key is not present in the dictionary\n",
    "        pass\n",
    "    \n",
    "    # rename the keys to actual label (1->excellent)\n",
    "    new_dict = {}\n",
    "    for ix in genhlth_dict:\n",
    "        new_dict[genhlth_key[ix]] = genhlth_dict[ix]\n",
    "#     print('\\nUpdated dict-:', new_dict)\n",
    "\n",
    "    new_dict = OrderedDict([('Yes', new_dict['Yes']), ('No', new_dict['No'])])\n",
    "\n",
    "    names = list(new_dict.keys())\n",
    "    values = list(new_dict.values())\n",
    "\n",
    "    ax = fig.add_subplot(positions[i]) # arrange the position of graph\n",
    "    plt.bar(names, values, color=colors[i])\n",
    "\n",
    "    # add count label and title\n",
    "    for ix in range(len(names)):    \n",
    "        v = int(values[ix])\n",
    "        ax.text(ix, v, str(v), ha='center', fontsize=10)\n",
    "        title = 'Binge Drinking Status for Age Group: '+age_grps[i]\n",
    "    ax.set_title(str(title))\n",
    "    # Set the labels and title\n",
    "    ax.set_xlabel('Binge Drinking Status')\n",
    "    ax.set_ylabel('Count %')\n",
    "\n",
    "# Show the plots\n",
    "plt.show()"
   ]
  },
  {
   "cell_type": "markdown",
   "metadata": {},
   "source": [
    "### 4.1.2 Excessive Drinking: Percentage of adults reporting binge or heavy drinking (race-adjusted)"
   ]
  },
  {
   "cell_type": "code",
   "execution_count": 305,
   "metadata": {},
   "outputs": [
    {
     "name": "stdout",
     "output_type": "stream",
     "text": [
      "*-*-* % of adults who binge drinking - race adjusted *-*-*\n",
      "\n"
     ]
    },
    {
     "data": {
      "image/png": "[encoded data removed]",
      "text/plain": [
       "<Figure size 792x720 with 4 Axes>"
      ]
     },
     "metadata": {
      "needs_background": "light"
     },
     "output_type": "display_data"
    }
   ],
   "source": [
    "print('*-*-* % of adults who binge drinking - race adjusted *-*-*\\n')\n",
    "\n",
    "# group to filter the values based on indicators\n",
    "gr1 = ['white'] \n",
    "gr2 = ['black'] \n",
    "gr3 = ['hispanic'] \n",
    "gr4 = ['other']\n",
    "\n",
    "values_to_filter = [gr1, gr2, gr3, gr4]\n",
    "\n",
    "\n",
    "# Position of each subplot where 221 means 2 row, 2 columns, 1st index\n",
    "positions = [221, 222, 223, 224]\n",
    "  \n",
    "# Colors to distinguish the plot\n",
    "colors = ['r', 'g', 'b', 'y']\n",
    "  \n",
    "# Plot the subgraphs\n",
    "fig = plt.figure(figsize=(11, 10)) # set the size of the plots (width, ht)\n",
    "\n",
    "\n",
    "for i, grp in enumerate(values_to_filter): # loop to plot 4 graphs\n",
    "    # select the age grp to plot graph based on above defined gr\n",
    "    df_IN_race_grp = df_IN_Health[df_IN_Health['race_grp'].isin(grp)]\n",
    "#     print(colors[i], grp, df_IN_race_grp.shape)\n",
    "    \n",
    "    # calculate the % values for that gr\n",
    "    genhlth_dict = dict(round(df_IN_race_grp['x.rfbing5'].value_counts()/len(df_IN_race_grp)*100))\n",
    "    genhlth_key = {1:'No', 2:'Yes', 9:'Refused'}\n",
    "#     print(df_IN_race_grp['x.rfbing5'].value_counts())\n",
    "\n",
    "    try:\n",
    "        genhlth_dict.pop(9.0) # remove not answered values (9 label)\n",
    "    except KeyError: # key is not present in the dictionary\n",
    "        pass\n",
    "    \n",
    "    # rename the keys to actual label (1->excellent)\n",
    "    new_dict = {}\n",
    "    for ix in genhlth_dict:\n",
    "        new_dict[genhlth_key[ix]] = genhlth_dict[ix]\n",
    "#     print('\\nUpdated dict:', new_dict)\n",
    "\n",
    "    new_dict = OrderedDict([('Yes', new_dict['Yes']), ('No', new_dict['No'])])\n",
    "\n",
    "    names = list(new_dict.keys())\n",
    "    values = list(new_dict.values())\n",
    "\n",
    "    ax = fig.add_subplot(positions[i]) # arrange the position of graph\n",
    "    plt.bar(names, values, color=colors[i])\n",
    "\n",
    "    # add count label and title\n",
    "    for ix in range(len(names)):    \n",
    "        v = int(values[ix])\n",
    "        ax.text(ix, v, str(v), ha='center', fontsize=10)\n",
    "    title = 'Binge Drinking Stats for Race: '+grp[0]\n",
    "    ax.set_title(str(title))\n",
    "    # Set the labels and title\n",
    "    ax.set_xlabel('Binge Drinking Status')\n",
    "    ax.set_ylabel('Count %')\n",
    "\n",
    "# Show the plots\n",
    "plt.show()"
   ]
  },
  {
   "cell_type": "code",
   "execution_count": null,
   "metadata": {},
   "outputs": [],
   "source": []
  },
  {
   "cell_type": "code",
   "execution_count": null,
   "metadata": {},
   "outputs": [],
   "source": []
  },
  {
   "cell_type": "code",
   "execution_count": null,
   "metadata": {},
   "outputs": [],
   "source": []
  },
  {
   "cell_type": "markdown",
   "metadata": {},
   "source": [
    "## - Weight Factor ~ 6.8 M"
   ]
  },
  {
   "cell_type": "code",
   "execution_count": null,
   "metadata": {},
   "outputs": [],
   "source": [
    "# weight features\n",
    "\n",
    "print(df_Indiana[['x.llcpwt2']].sum())\n",
    "print(df_Indiana[['x.llcpwt']].sum())\n",
    "print(df_Indiana[['x.cllcpwt']].sum())\n",
    "\n",
    "total=(1565837+5262173)\n",
    "print('\\nLLCPWT ~6.8 M:', total)"
   ]
  },
  {
   "cell_type": "code",
   "execution_count": null,
   "metadata": {},
   "outputs": [],
   "source": []
  },
  {
   "cell_type": "code",
   "execution_count": null,
   "metadata": {},
   "outputs": [],
   "source": []
  },
  {
   "cell_type": "code",
   "execution_count": null,
   "metadata": {},
   "outputs": [],
   "source": []
  },
  {
   "cell_type": "markdown",
   "metadata": {},
   "source": [
    "## - Reference Var\n",
    "\n",
    "### Age Var | Filter: 55+, 55-64, 65-84, 85+\n",
    "AGEG5YR (5 yer group)\n",
    "CADULT1 (1: yes 18>, Blank: not asked/missing) landline\n",
    "LADULT1 (1: yes, 2: Terminate phone cal, Blank: missing) cellphone\n",
    "\n",
    "### Race Var | Filter: white, black, hispanic, other\n",
    "IMPRACE (imputed if not answered), RACE, RACEGR3\n",
    "white, black, asian, american, hispanic, other\n"
   ]
  },
  {
   "cell_type": "code",
   "execution_count": null,
   "metadata": {},
   "outputs": [],
   "source": [
    "# Binge drinkers (males having five or more drinks on one occasion, females having four or more drinks on one occasion)\n",
    "binge_dict = dict(round(df_IN_Health['x.rfbing5'].value_counts()/len(df_IN_Health)*100))\n",
    "print(binge_dict)\n",
    "\n",
    "plt.pie(binge_dict.values(), labels=binge_dict.keys(), autopct='%1.1f%%')\n",
    "\n",
    "# set the x and y axis labels\n",
    "plt.legend()\n",
    "\n",
    "# set the plot title\n",
    "plt.title('Binge Drinker Counts')\n",
    "\n",
    "# display the plot\n",
    "plt.show()\n",
    "\n",
    "'''\n",
    "1: No\n",
    "2: Yes\n",
    "9: Refused\n",
    "'''\n",
    "\n",
    "print('***There are only 11.1% who reported binge drinking')"
   ]
  },
  {
   "cell_type": "code",
   "execution_count": null,
   "metadata": {},
   "outputs": [],
   "source": [
    "# Considering all types of alcoholic beverages, how many times during the past 30 days did you have 5 or more drinks for men or 4 or more drinks for women on an occasion?\n",
    "\n",
    "# sns.countplot(data=df_IN_Health, x=\"drnk3ge5\")\n",
    "'''\n",
    "1-76: No of days\n",
    "88:   None\n",
    "77:   Not sure\n",
    "99:   Refused\n",
    "'''"
   ]
  },
  {
   "cell_type": "code",
   "execution_count": null,
   "metadata": {},
   "outputs": [],
   "source": []
  }
 ],
 "metadata": {
  "kernelspec": {
   "display_name": "Python 3 (ipykernel)",
   "language": "python",
   "name": "python3"
  },
  "language_info": {
   "codemirror_mode": {
    "name": "ipython",
    "version": 3
   },
   "file_extension": ".py",
   "mimetype": "text/x-python",
   "name": "python",
   "nbconvert_exporter": "python",
   "pygments_lexer": "ipython3",
   "version": "3.9.12"
  }
 },
 "nbformat": 4,
 "nbformat_minor": 2
}
