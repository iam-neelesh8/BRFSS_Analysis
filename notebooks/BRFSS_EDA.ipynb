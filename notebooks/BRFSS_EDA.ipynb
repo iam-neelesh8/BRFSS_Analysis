{
 "cells": [
  {
   "cell_type": "code",
   "execution_count": 4,
   "metadata": {},
   "outputs": [],
   "source": [
    "import pandas as pd \n",
    "import numpy as np"
   ]
  },
  {
   "cell_type": "code",
   "execution_count": 7,
   "metadata": {},
   "outputs": [],
   "source": [
    "df_BRFSS = pd.read_csv(\"../Data/BRFSS_preprocessed.csv\")"
   ]
  },
  {
   "cell_type": "code",
   "execution_count": 24,
   "metadata": {},
   "outputs": [
    {
     "name": "stdout",
     "output_type": "stream",
     "text": [
      "304\n"
     ]
    }
   ],
   "source": [
    "print(len(df_BRFSS.columns.values))"
   ]
  },
  {
   "cell_type": "code",
   "execution_count": 23,
   "metadata": {},
   "outputs": [
    {
     "data": {
      "text/plain": [
       "array(['Unnamed: 0', 'x.state', 'fmonth', 'idate', 'imonth', 'iday',\n",
       "       'iyear', 'dispcode', 'seqno', 'x.psu', 'ctelenm1', 'pvtresd1',\n",
       "       'colghous', 'statere1', 'celphon1', 'ladult1', 'colgsex',\n",
       "       'numadult', 'landsex', 'nummen', 'numwomen', 'respslct',\n",
       "       'safetime', 'ctelnum1', 'cellfon5', 'cadult1', 'cellsex',\n",
       "       'pvtresd3', 'cclghous', 'cstate1', 'landline', 'hhadult', 'sexvar',\n",
       "       'genhlth', 'physhlth', 'menthlth', 'poorhlth', 'priminsr',\n",
       "       'persdoc3', 'medcost1', 'checkup1', 'exerany2', 'bphigh6',\n",
       "       'bpmeds', 'cholchk3', 'toldhi3', 'cholmed3', 'cvdinfr4',\n",
       "       'cvdcrhd4', 'cvdstrk3', 'asthma3', 'asthnow', 'chcscncr',\n",
       "       'chcocncr', 'chccopd3', 'addepev3', 'chckdny2', 'diabete4',\n",
       "       'diabage3', 'havarth5', 'arthexer', 'arthedu', 'lmtjoin3',\n",
       "       'arthdis2', 'joinpai2', 'marital', 'educa', 'renthom1', 'numhhol3',\n",
       "       'numphon3', 'cpdemo1b', 'veteran3', 'employ1', 'children',\n",
       "       'income3', 'pregnant', 'weight2', 'height3', 'deaf', 'blind',\n",
       "       'decide', 'diffwalk', 'diffdres', 'diffalon', 'smoke100',\n",
       "       'smokday2', 'usenow3', 'ecignow1', 'alcday5', 'avedrnk3',\n",
       "       'drnk3ge5', 'maxdrnks', 'flushot7', 'flshtmy3', 'imfvpla2',\n",
       "       'pneuvac4', 'hivtst7', 'hivtstd3', 'fruit2', 'fruitju2',\n",
       "       'fvgreen1', 'frenchf1', 'potatoe1', 'vegetab2', 'pdiabtst',\n",
       "       'prediab1', 'insulin1', 'bldsugar', 'feetchk3', 'doctdiab',\n",
       "       'chkhemo3', 'feetchk', 'eyeexam1', 'diabeye', 'diabedu', 'toldcfs',\n",
       "       'havecfs', 'workcfs', 'toldhepc', 'trethepc', 'prirhepc',\n",
       "       'havehepc', 'havehepb', 'medshepb', 'hpvadvc4', 'hpvadsht',\n",
       "       'tetanus1', 'shingle2', 'lcsfirst', 'lcslast', 'lcsnumcg',\n",
       "       'lcsctscn', 'hadmam', 'howlong', 'cervscrn', 'crvclcnc',\n",
       "       'crvclpap', 'crvclhpv', 'hadhyst2', 'psatest1', 'psatime1',\n",
       "       'pcpsars2', 'pcstalk', 'hadsigm4', 'colnsigm', 'colntes1',\n",
       "       'sigmtes1', 'lastsig4', 'colncncr', 'vircolo1', 'vclntes1',\n",
       "       'smalstol', 'stoltest', 'stooldn1', 'bldstfit', 'sdnates1',\n",
       "       'cncrdiff', 'cncrage', 'cncrtyp1', 'csrvtrt3', 'csrvdoc1',\n",
       "       'csrvsum', 'csrvrtrn', 'csrvinst', 'csrvinsr', 'csrvdein',\n",
       "       'csrvclin', 'csrvpain', 'csrvctl2', 'hombpchk', 'homrgchk',\n",
       "       'wherebp', 'sharebp', 'wtchsalt', 'dradvise', 'cimemlos',\n",
       "       'cdhouse', 'cdassist', 'cdhelp', 'cdsocial', 'cddiscus',\n",
       "       'caregiv1', 'crgvrel4', 'crgvlng1', 'crgvhrs1', 'crgvprb3',\n",
       "       'crgvalzd', 'crgvper1', 'crgvhou1', 'crgvexpt', 'acedeprs',\n",
       "       'acedrink', 'acedrugs', 'aceprisn', 'acedivrc', 'acepunch',\n",
       "       'acehurt1', 'aceswear', 'acetouch', 'acetthem', 'acehvsex',\n",
       "       'aceadsaf', 'aceadned', 'marijan1', 'usemrjn3', 'rsnmrjn2',\n",
       "       'lastsmk2', 'stopsmk2', 'firearm5', 'gunload', 'loadulk2',\n",
       "       'rcsgendr', 'rcsrltn2', 'casthdx2', 'casthno2', 'birthsex',\n",
       "       'somale', 'sofemale', 'trnsgndr', 'qstver', 'qstlang', 'x.metstat',\n",
       "       'x.urbstat', 'mscode', 'x.ststr', 'x.strwt', 'x.rawrake',\n",
       "       'x.wt2rake', 'x.imprace', 'x.chispnc', 'x.crace1', 'x.cprace1',\n",
       "       'cageg', 'x.cllcpwt', 'x.dualuse', 'x.dualcor', 'x.llcpwt2',\n",
       "       'x.llcpwt', 'x.rfhlth', 'x.phys14d', 'x.ment14d', 'x.hlthpln',\n",
       "       'x.hcvu652', 'x.totinda', 'x.rfhype6', 'x.cholch3', 'x.rfchol3',\n",
       "       'x.michd', 'x.ltasth1', 'x.casthm1', 'x.asthms1', 'x.drdxar3',\n",
       "       'x.lmtact3', 'x.lmtwrk3', 'x.prace1', 'x.mrace1', 'x.hispanc',\n",
       "       'x.race', 'x.raceg21', 'x.racegr3', 'x.raceprv', 'x.sex',\n",
       "       'x.ageg5yr', 'x.age65yr', 'x.age80', 'x.age.g', 'htin4', 'htm4',\n",
       "       'wtkg3', 'x.bmi5', 'x.bmi5cat', 'x.rfbmi5', 'x.chldcnt',\n",
       "       'x.educag', 'x.incomg1', 'x.smoker3', 'x.rfsmok3', 'x.cureci1',\n",
       "       'drnkany5', 'drocdy3.', 'x.rfbing5', 'x.drnkwk1', 'x.rfdrhv7',\n",
       "       'x.flshot7', 'x.pneumo3', 'x.aidtst4', 'ftjuda2.', 'frutda2.',\n",
       "       'grenda1.', 'frnchda.', 'potada1.', 'vegeda2.', 'x.misfrt1',\n",
       "       'x.misveg1', 'x.frtres1', 'x.vegres1', 'x.frutsu1', 'x.vegesu1',\n",
       "       'x.frtlt1a', 'x.veglt1a', 'x.frt16a', 'x.veg23a', 'x.fruite1',\n",
       "       'x.vegete1'], dtype=object)"
      ]
     },
     "metadata": {},
     "output_type": "display_data"
    }
   ],
   "source": [
    "display(df_BRFSS.columns.values)"
   ]
  },
  {
   "cell_type": "code",
   "execution_count": 42,
   "metadata": {},
   "outputs": [
    {
     "data": {
      "text/plain": [
       "147"
      ]
     },
     "metadata": {},
     "output_type": "display_data"
    }
   ],
   "source": [
    "# Columns with more than 50% of Null Values\n",
    "Null_cols = df_BRFSS.isnull().sum()/len(df_BRFSS)\n",
    "BRFSS_Nullcols = Null_cols[Null_cols>0.6].index\n",
    "display(len(BRFSS_Nullcols))"
   ]
  },
  {
   "cell_type": "code",
   "execution_count": 43,
   "metadata": {},
   "outputs": [
    {
     "data": {
      "text/plain": [
       "Index(['ctelenm1', 'pvtresd1', 'colghous', 'statere1', 'celphon1', 'ladult1',\n",
       "       'colgsex', 'numadult', 'landsex', 'nummen',\n",
       "       ...\n",
       "       'somale', 'sofemale', 'mscode', 'x.crace1', 'x.cprace1', 'cageg',\n",
       "       'x.cllcpwt', 'x.dualcor', 'x.flshot7', 'x.pneumo3'],\n",
       "      dtype='object', length=147)"
      ]
     },
     "execution_count": 43,
     "metadata": {},
     "output_type": "execute_result"
    }
   ],
   "source": [
    "BRFSS_Nullcols"
   ]
  },
  {
   "cell_type": "code",
   "execution_count": null,
   "metadata": {},
   "outputs": [],
   "source": []
  },
  {
   "cell_type": "code",
   "execution_count": null,
   "metadata": {},
   "outputs": [],
   "source": []
  },
  {
   "cell_type": "code",
   "execution_count": null,
   "metadata": {},
   "outputs": [],
   "source": []
  }
 ],
 "metadata": {
  "kernelspec": {
   "display_name": "env",
   "language": "python",
   "name": "python3"
  },
  "language_info": {
   "codemirror_mode": {
    "name": "ipython",
    "version": 3
   },
   "file_extension": ".py",
   "mimetype": "text/x-python",
   "name": "python",
   "nbconvert_exporter": "python",
   "pygments_lexer": "ipython3",
   "version": "3.8.8"
  },
  "orig_nbformat": 4
 },
 "nbformat": 4,
 "nbformat_minor": 2
}
